{
 "metadata": {
  "language_info": {
   "codemirror_mode": {
    "name": "ipython",
    "version": 3
   },
   "file_extension": ".py",
   "mimetype": "text/x-python",
   "name": "python",
   "nbconvert_exporter": "python",
   "pygments_lexer": "ipython3",
   "version": 3
  },
  "orig_nbformat": 2,
  "kernelspec": {
   "name": "python_defaultSpec_1595208057686",
   "display_name": "Python 3.7.0 64-bit"
  }
 },
 "nbformat": 4,
 "nbformat_minor": 2,
 "cells": [
  {
   "cell_type": "markdown",
   "metadata": {},
   "source": [
    "## 2020 07 20 클래스와 객체\n",
    "\n",
    "* OOP(Object Oreented Programing) Language - 객체지향 언어\n",
    "\n",
    "* 클래스는 상태를 나타내는 변수와 동작을 나타내는 함수로 구성\n",
    "\n",
    "* 메소드 - 객체 안에서의 함수\n",
    "\n",
    "* 필드 - 객체가 갖고있는 변수\n",
    "\n",
    "* 캡슐화 : 데이터와 알고리즘을 하나로 묶는 것. 상속과 다형성\n",
    "\n",
    "- def 메소드1 (self, ...):       //여기서 self는 자기 자신을 참조. 자바의 경우에는 this. 파이썬에서는 self로 명시를 해줌. \n",
    "\n",
    "* 생성자(constructor)는 객체가 생성될 때 객체를 기본값으로 초기화하는 특수한 메소드. 객체가 만들어지면 생성자가 자동 호출.\n",
    "    ec) class 클래스 이름 :\n",
    "            def __init__(self, ...):    // __init__() 메소드가 생성자. 객체의 초기화를 담당.\n",
    "                ...\n",
    "\n",
    "* 접근자 : 인스턴스의 변수를 반환하는 메소드\n"
   ]
  },
  {
   "cell_type": "code",
   "execution_count": 69,
   "metadata": {},
   "outputs": [],
   "source": [
    "class Counter:\n",
    "    def reset(self):       # 파이썬의 메소드는 self라는 변수를 가짐.\n",
    "        self.count = 0     # 인스턴스 변수(객체로 부터 만들어진 변수)를 표현하기 위해 self.count로 표시. 즉, 내 객체가 갖고있는 변수임을 표현해줌.\n",
    "    def increament(self):\n",
    "        self.count += 1\n",
    "    def get(self):\n",
    "        return self.count"
   ]
  },
  {
   "cell_type": "code",
   "execution_count": 2,
   "metadata": {},
   "outputs": [],
   "source": [
    "counter1 = Counter()"
   ]
  },
  {
   "cell_type": "code",
   "execution_count": 3,
   "metadata": {},
   "outputs": [],
   "source": [
    "counter1.reset() #생성된 객체에서 인스턴스의 메소드를 사용할때, 파이썬에서는 self 라는 변수를 넣지 않아도 자동으로 self를 적용."
   ]
  },
  {
   "cell_type": "code",
   "execution_count": 4,
   "metadata": {},
   "outputs": [
    {
     "output_type": "execute_result",
     "data": {
      "text/plain": "0"
     },
     "metadata": {},
     "execution_count": 4
    }
   ],
   "source": [
    "counter1.get()"
   ]
  },
  {
   "cell_type": "code",
   "execution_count": 5,
   "metadata": {},
   "outputs": [],
   "source": [
    "counter1.increament()\n",
    "counter1.increament()"
   ]
  },
  {
   "cell_type": "code",
   "execution_count": 6,
   "metadata": {},
   "outputs": [
    {
     "output_type": "execute_result",
     "data": {
      "text/plain": "2"
     },
     "metadata": {},
     "execution_count": 6
    }
   ],
   "source": [
    "counter1.get()"
   ]
  },
  {
   "cell_type": "code",
   "execution_count": 7,
   "metadata": {},
   "outputs": [],
   "source": [
    "counter2 = Counter()"
   ]
  },
  {
   "cell_type": "code",
   "execution_count": 8,
   "metadata": {},
   "outputs": [],
   "source": [
    "counter2.reset()"
   ]
  },
  {
   "cell_type": "code",
   "execution_count": 9,
   "metadata": {},
   "outputs": [
    {
     "output_type": "execute_result",
     "data": {
      "text/plain": "0"
     },
     "metadata": {},
     "execution_count": 9
    }
   ],
   "source": [
    "counter2.get()"
   ]
  },
  {
   "cell_type": "code",
   "execution_count": 10,
   "metadata": {},
   "outputs": [
    {
     "output_type": "execute_result",
     "data": {
      "text/plain": "2"
     },
     "metadata": {},
     "execution_count": 10
    }
   ],
   "source": [
    "counter1.get()"
   ]
  },
  {
   "cell_type": "markdown",
   "metadata": {},
   "source": [
    "### Conter 클래스에 생성자(__init__) 추가"
   ]
  },
  {
   "cell_type": "code",
   "execution_count": 16,
   "metadata": {},
   "outputs": [],
   "source": [
    "class Counter:\n",
    "    def __init__(self, count=0):      #self를 제외한 매개변수값을 하나 무조건 받아야해서 counter = Conter() 로 생성이 불가. --> 그러나 초기화를 시켜주면 가능.\n",
    "        print(\"Counter 생성자 호출\")\n",
    "        self.count = count\n",
    "    def reset(self):       \n",
    "        self.count = 0     \n",
    "    def increament(self):\n",
    "        self.count += 1\n",
    "    def get(self):\n",
    "        return self.count"
   ]
  },
  {
   "cell_type": "code",
   "execution_count": 14,
   "metadata": {
    "tags": []
   },
   "outputs": [
    {
     "output_type": "stream",
     "name": "stdout",
     "text": "Counter 생성자 호출\n"
    }
   ],
   "source": [
    "counter6 = Counter(100)"
   ]
  },
  {
   "cell_type": "code",
   "execution_count": 15,
   "metadata": {},
   "outputs": [
    {
     "output_type": "execute_result",
     "data": {
      "text/plain": "100"
     },
     "metadata": {},
     "execution_count": 15
    }
   ],
   "source": [
    "counter6.get()"
   ]
  },
  {
   "cell_type": "code",
   "execution_count": 17,
   "metadata": {
    "tags": []
   },
   "outputs": [
    {
     "output_type": "stream",
     "name": "stdout",
     "text": "Counter 생성자 호출\n"
    }
   ],
   "source": [
    "counter7 = Counter() # count=0 과 같이 변수를 초기화해주면 입력해주지 않아도 생성 가능."
   ]
  },
  {
   "cell_type": "code",
   "execution_count": 42,
   "metadata": {},
   "outputs": [],
   "source": [
    "class TV:\n",
    "    def __init__(self, channel, volume, on):        # 보통 생성자를 먼저 만듦.\n",
    "        self.channel = channel                    \n",
    "        self.volume = volume\n",
    "        self.on = on\n",
    "\n",
    "    def show(self):\n",
    "        print(id(self))\n",
    "        print(self.channel, self.volume, self.on )\n",
    "\n",
    "    def setChannel(self, channel):\n",
    "        self.channel = channel\n",
    "\n",
    "    def setVolume(self, volume):            # volume 최소값 0, 최댓값 50 으로 설정\n",
    "        if volume < 0:\n",
    "            self.volume = 0\n",
    "        elif volume > 50:\n",
    "            self.volume = 0\n",
    "        else:\n",
    "            self.volume = volume\n",
    "\n",
    "    def setOn(self, on):\n",
    "        self.on = on"
   ]
  },
  {
   "cell_type": "code",
   "execution_count": 29,
   "metadata": {},
   "outputs": [],
   "source": [
    "tv1 = TV(\"Ch11\", 15, True)"
   ]
  },
  {
   "cell_type": "code",
   "execution_count": 23,
   "metadata": {
    "tags": []
   },
   "outputs": [
    {
     "output_type": "stream",
     "name": "stdout",
     "text": "Ch11 15 True\n"
    }
   ],
   "source": [
    "tv1.show()"
   ]
  },
  {
   "cell_type": "code",
   "execution_count": 24,
   "metadata": {},
   "outputs": [],
   "source": [
    "tv1.setOn(False)"
   ]
  },
  {
   "cell_type": "code",
   "execution_count": 25,
   "metadata": {
    "tags": []
   },
   "outputs": [
    {
     "output_type": "stream",
     "name": "stdout",
     "text": "Ch11 15 False\n"
    }
   ],
   "source": [
    "tv1.show()"
   ]
  },
  {
   "cell_type": "code",
   "execution_count": 30,
   "metadata": {},
   "outputs": [],
   "source": [
    "tv2 = TV(\"Ch9\", 10, True)"
   ]
  },
  {
   "cell_type": "code",
   "execution_count": 27,
   "metadata": {
    "tags": []
   },
   "outputs": [
    {
     "output_type": "stream",
     "name": "stdout",
     "text": "Ch9 10 True\n"
    }
   ],
   "source": [
    "tv2.show()"
   ]
  },
  {
   "cell_type": "code",
   "execution_count": 32,
   "metadata": {},
   "outputs": [],
   "source": [
    "tv3 = TV(\"Ch11\", 21, True)"
   ]
  },
  {
   "cell_type": "code",
   "execution_count": 33,
   "metadata": {
    "tags": []
   },
   "outputs": [
    {
     "output_type": "stream",
     "name": "stdout",
     "text": "1799763057856\nCh11 21 True\n"
    }
   ],
   "source": [
    "tv3.show()"
   ]
  },
  {
   "cell_type": "code",
   "execution_count": 34,
   "metadata": {},
   "outputs": [
    {
     "output_type": "execute_result",
     "data": {
      "text/plain": "1799763057856"
     },
     "metadata": {},
     "execution_count": 34
    }
   ],
   "source": [
    "id(tv3)"
   ]
  },
  {
   "cell_type": "code",
   "execution_count": 35,
   "metadata": {},
   "outputs": [],
   "source": [
    "tv3.setVolume(100)"
   ]
  },
  {
   "cell_type": "code",
   "execution_count": 36,
   "metadata": {
    "tags": []
   },
   "outputs": [
    {
     "output_type": "stream",
     "name": "stdout",
     "text": "1799763057856\nCh11 0 True\n"
    }
   ],
   "source": [
    "tv3.show()"
   ]
  },
  {
   "cell_type": "code",
   "execution_count": 37,
   "metadata": {},
   "outputs": [],
   "source": [
    "tv3.setVolume(-100)"
   ]
  },
  {
   "cell_type": "code",
   "execution_count": 38,
   "metadata": {
    "tags": []
   },
   "outputs": [
    {
     "output_type": "stream",
     "name": "stdout",
     "text": "1799763057856\nCh11 0 True\n"
    }
   ],
   "source": [
    "tv3.show()"
   ]
  },
  {
   "cell_type": "code",
   "execution_count": 39,
   "metadata": {},
   "outputs": [],
   "source": [
    "tv3.volume = 300        # 객체의 변수를 객체의 메소드를 통해 변경하는게 아닌 직접 변경. 변경됨. --> 정보 은닉이 필요"
   ]
  },
  {
   "cell_type": "code",
   "execution_count": 40,
   "metadata": {
    "tags": []
   },
   "outputs": [
    {
     "output_type": "stream",
     "name": "stdout",
     "text": "1799763057856\nCh11 300 True\n"
    }
   ],
   "source": [
    "tv3.show()"
   ]
  },
  {
   "cell_type": "code",
   "execution_count": 71,
   "metadata": {},
   "outputs": [],
   "source": [
    "class TV:\n",
    "\n",
    "    \n",
    "    def __init__(self, channel, volume, on):        # 보통 생성자를 먼저 만듦.\n",
    "        self.__channel = channel                    # self.__channel 과 같이 __ 를 붙여서 정보 은닉. 자바의 private.\n",
    "        #self.__volume = volume\n",
    "        self.setVolume(volume)                      # 접근자를 통하여 초기화하면 정보은닉 기능 활용 가능.\n",
    "        self.on = on\n",
    "\n",
    "    def show(self):\n",
    "        print(id(self))\n",
    "        print(self.__channel, self.__volume, self.on )\n",
    "\n",
    "    def setChannel(self, channel):\n",
    "        self.__channel = channel\n",
    "\n",
    "    def setVolume(self, volume):            # volume 최소값 0, 최댓값 50 으로 설정\n",
    "        if volume < 0:\n",
    "            self.__volume = 0\n",
    "        elif volume > 50:\n",
    "            self.__volume = 50\n",
    "        else:\n",
    "            self.__volume = volume\n",
    "\n",
    "    def setOn(self, on):\n",
    "        self.on = on"
   ]
  },
  {
   "cell_type": "code",
   "execution_count": 51,
   "metadata": {},
   "outputs": [],
   "source": [
    "tv4 = TV(\"Ch 9\", 15, True)"
   ]
  },
  {
   "cell_type": "code",
   "execution_count": 47,
   "metadata": {
    "tags": []
   },
   "outputs": [
    {
     "output_type": "stream",
     "name": "stdout",
     "text": "1799763224000\nCh 9 15 True\n"
    }
   ],
   "source": [
    "tv4.show()"
   ]
  },
  {
   "cell_type": "code",
   "execution_count": 52,
   "metadata": {
    "tags": []
   },
   "outputs": [
    {
     "output_type": "stream",
     "name": "stdout",
     "text": "1799755666824\nCh 9 50 True\n"
    }
   ],
   "source": [
    "tv4.setVolume(100)\n",
    "tv4.show()"
   ]
  },
  {
   "cell_type": "code",
   "execution_count": 54,
   "metadata": {
    "tags": []
   },
   "outputs": [
    {
     "output_type": "stream",
     "name": "stdout",
     "text": "1799755666824\nCh 9 50 True\n"
    }
   ],
   "source": [
    "tv4.__volume = 300\n",
    "tv4.show()"
   ]
  },
  {
   "cell_type": "code",
   "execution_count": 55,
   "metadata": {
    "tags": []
   },
   "outputs": [
    {
     "output_type": "stream",
     "name": "stdout",
     "text": "300\n"
    }
   ],
   "source": [
    "print(tv4.__volume)             # 이거는 객체 안에 __volume이라는 새로운 변수가 만들어져서 300이라는 값이 저장됨. 원래 내가 의도했던 __volume은 _TV_colume으로 저장됨."
   ]
  },
  {
   "cell_type": "code",
   "execution_count": 56,
   "metadata": {},
   "outputs": [
    {
     "output_type": "execute_result",
     "data": {
      "text/plain": "['_TV__channel',\n '_TV__volume',\n '__class__',\n '__delattr__',\n '__dict__',\n '__dir__',\n '__doc__',\n '__eq__',\n '__format__',\n '__ge__',\n '__getattribute__',\n '__gt__',\n '__hash__',\n '__init__',\n '__init_subclass__',\n '__le__',\n '__lt__',\n '__module__',\n '__ne__',\n '__new__',\n '__reduce__',\n '__reduce_ex__',\n '__repr__',\n '__setattr__',\n '__sizeof__',\n '__str__',\n '__subclasshook__',\n '__volume',\n '__weakref__',\n 'on',\n 'setChannel',\n 'setOn',\n 'setVolume',\n 'show']"
     },
     "metadata": {},
     "execution_count": 56
    }
   ],
   "source": [
    "dir(tv4)"
   ]
  },
  {
   "cell_type": "code",
   "execution_count": 67,
   "metadata": {},
   "outputs": [],
   "source": [
    "tv4.__volume = 300\n"
   ]
  },
  {
   "cell_type": "code",
   "execution_count": 68,
   "metadata": {
    "tags": []
   },
   "outputs": [
    {
     "output_type": "stream",
     "name": "stdout",
     "text": "1799755666824\nCh 9 200 True\n"
    }
   ],
   "source": [
    "tv4.show()"
   ]
  },
  {
   "cell_type": "code",
   "execution_count": 72,
   "metadata": {
    "tags": []
   },
   "outputs": [
    {
     "output_type": "stream",
     "name": "stdout",
     "text": "1799757428440\nCh 6 50 True\n"
    }
   ],
   "source": [
    "tv5 = TV('Ch 6', 300, True)     # 생성자를 통해 초기화 해도 __로 선언된 변수가 변경됨. 정보 은닉이 무의미. \n",
    "                                #       --> 접근자를 통하여 생성자 메소드 설정. ex) __init__ 안에 setVolume() 메소드를 넣음.\n",
    "tv5.show()"
   ]
  },
  {
   "cell_type": "markdown",
   "metadata": {},
   "source": [
    "### 원을 클래스로 표시해보자. 원은 반지름(radius)을 가지 고 있다. \n",
    "원의 넓이와 둘레를 계산하는 메소드도 정의해 보자. \n",
    "설정자와 접근자 메소드도 작성한다. "
   ]
  },
  {
   "cell_type": "code",
   "execution_count": 80,
   "metadata": {},
   "outputs": [],
   "source": [
    "import math\n",
    "\n",
    "class Circle:\n",
    "    def __init__(self):\n",
    "        self.__r = float(input(\"원의 반지름= \"))\n",
    "        self.__area = math.pi * (self.__r)**2\n",
    "        self.__round = 2*(self.__r)*math.pi\n",
    "    \n",
    "    def getArea(self):\n",
    "        print(\"원의 넓이 = %s\" % self.__area)\n",
    "\n",
    "    def getRound(self):\n",
    "        print(\"원의 둘레= %s\" % self.__round)"
   ]
  },
  {
   "cell_type": "code",
   "execution_count": 82,
   "metadata": {},
   "outputs": [],
   "source": [
    "circle1 = Circle()"
   ]
  },
  {
   "cell_type": "code",
   "execution_count": 78,
   "metadata": {
    "tags": []
   },
   "outputs": [
    {
     "output_type": "stream",
     "name": "stdout",
     "text": "원의 넓이 = 314.1592653589793\n"
    }
   ],
   "source": [
    "circle1.getArea()"
   ]
  },
  {
   "cell_type": "code",
   "execution_count": 83,
   "metadata": {
    "tags": []
   },
   "outputs": [
    {
     "output_type": "stream",
     "name": "stdout",
     "text": "원의 둘레= 62.83185307179586\n"
    }
   ],
   "source": [
    "circle1.getRound()"
   ]
  },
  {
   "cell_type": "code",
   "execution_count": null,
   "metadata": {},
   "outputs": [],
   "source": []
  }
 ]
}