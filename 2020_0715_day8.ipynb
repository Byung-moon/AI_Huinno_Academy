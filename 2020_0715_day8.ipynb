{
 "cells": [
  {
   "cell_type": "code",
   "execution_count": 5,
   "metadata": {},
   "outputs": [
    {
     "data": {
      "text/plain": [
       "'요세하녕안'"
      ]
     },
     "execution_count": 5,
     "metadata": {},
     "output_type": "execute_result"
    }
   ],
   "source": [
    "str = '안녕하세요'\n",
    "str[::-1]"
   ]
  },
  {
   "cell_type": "code",
   "execution_count": 11,
   "metadata": {},
   "outputs": [
    {
     "name": "stdout",
     "output_type": "stream",
     "text": [
      "세하녕\n",
      "세하녕\n",
      "세하녕\n"
     ]
    }
   ],
   "source": [
    "print(str[3:0:-1])\n",
    "print(str[-2:-5:-1])\n",
    "print(str[-2:0:-1])\n"
   ]
  },
  {
   "cell_type": "code",
   "execution_count": 3,
   "metadata": {},
   "outputs": [
    {
     "data": {
      "text/plain": [
       "'안하요'"
      ]
     },
     "execution_count": 3,
     "metadata": {},
     "output_type": "execute_result"
    }
   ],
   "source": [
    "str[::2]"
   ]
  },
  {
   "cell_type": "code",
   "execution_count": 4,
   "metadata": {},
   "outputs": [
    {
     "data": {
      "text/plain": [
       "'안하'"
      ]
     },
     "execution_count": 4,
     "metadata": {},
     "output_type": "execute_result"
    }
   ],
   "source": [
    "str[:4:2]"
   ]
  },
  {
   "cell_type": "code",
   "execution_count": 6,
   "metadata": {},
   "outputs": [
    {
     "data": {
      "text/plain": [
       "'세하녕'"
      ]
     },
     "execution_count": 6,
     "metadata": {},
     "output_type": "execute_result"
    }
   ],
   "source": [
    "str[3:0:-1]\n"
   ]
  },
  {
   "cell_type": "code",
   "execution_count": 11,
   "metadata": {},
   "outputs": [
    {
     "data": {
      "text/plain": [
       "10"
      ]
     },
     "execution_count": 11,
     "metadata": {},
     "output_type": "execute_result"
    }
   ],
   "source": [
    "# find() : 매개변수로 주어진 문자열의 위치를 앞에서부터 찾아서 인덱스를 알려줌. 없으면 -1\n",
    "\n",
    "string = \"안녕하세요, 경북대학교 전자공학부입니다. 만나서 반갑습니다.\"\n",
    "#string.find('학')\n",
    "string.find('학교') # 앞의 인덱스 출력"
   ]
  },
  {
   "cell_type": "code",
   "execution_count": 15,
   "metadata": {},
   "outputs": [
    {
     "data": {
      "text/plain": [
       "16"
      ]
     },
     "execution_count": 15,
     "metadata": {},
     "output_type": "execute_result"
    }
   ],
   "source": [
    "# rfind(): 뒤에서 부터 찾음\n",
    "string.rfind('학')\n",
    "string.rfind('학')"
   ]
  },
  {
   "cell_type": "code",
   "execution_count": 18,
   "metadata": {},
   "outputs": [
    {
     "data": {
      "text/plain": [
       "True"
      ]
     },
     "execution_count": 18,
     "metadata": {},
     "output_type": "execute_result"
    }
   ],
   "source": [
    "#startwith()\n",
    "#endwith()\n",
    "\n",
    "string.startswith('안녕')\n",
    "string.endswith('습니다.')"
   ]
  },
  {
   "cell_type": "code",
   "execution_count": 21,
   "metadata": {},
   "outputs": [
    {
     "data": {
      "text/plain": [
       "'안녕하세요, 경북대학교 전자공학부입니다. 만나서 반갑습니다.'"
      ]
     },
     "execution_count": 21,
     "metadata": {},
     "output_type": "execute_result"
    }
   ],
   "source": [
    "# replace() : 문자열 변경\n",
    "\n",
    "string.replace('안','아') # 얘를 하면 string자체가 바뀌는게 아니라 새로운 문자열이 생기기때문에 따로 값을 저장하여 사용해야함\n",
    "string"
   ]
  },
  {
   "cell_type": "code",
   "execution_count": 22,
   "metadata": {},
   "outputs": [
    {
     "name": "stdout",
     "output_type": "stream",
     "text": [
      "아녕하세요, 경북대학교 전자공학부입니다. 만나서 반갑습니다.\n"
     ]
    }
   ],
   "source": [
    "print(string.replace('안','아'))"
   ]
  },
  {
   "cell_type": "code",
   "execution_count": 6,
   "metadata": {},
   "outputs": [
    {
     "name": "stdout",
     "output_type": "stream",
     "text": [
      "이메일을 입력하세요:2dasd@naver.com\n",
      "다시 입력1:\n",
      "이메일을 입력하세요:dsdasd@naver.com\n",
      "이메일 주소는 dsdasd@naver.com 입니다\n"
     ]
    }
   ],
   "source": [
    "#이메일 주소 분석기\n",
    "\n",
    "\n",
    "\n",
    "while True:\n",
    "    email = input(\"이메일을 입력하세요:\")\n",
    "    \n",
    "    if (email[0].isalpha()) == False:\n",
    "        print(\"다시 입력1:\")\n",
    "        continue\n",
    "    \n",
    "    num1 = (email.rfind('.') )\n",
    "    #print(num1)\n",
    "    lastChar = email[ num1+1 :len(email) ]\n",
    "    #print(lastChar)\n",
    "    #print(len(lastChar))\n",
    "    \n",
    "    if ((len(lastChar) != 2) & (len(lastChar) != 3)):\n",
    "        print(\"다시 입력2:\")\n",
    "        continue\n",
    "    \n",
    "    print(\"이메일 주소는 %s 입니다\" % email)\n",
    "    break\n",
    "        "
   ]
  },
  {
   "cell_type": "code",
   "execution_count": 11,
   "metadata": {},
   "outputs": [
    {
     "name": "stdout",
     "output_type": "stream",
     "text": [
      "bm4655@naver.com\n",
      "12\n",
      "moc\n"
     ]
    }
   ],
   "source": [
    "email = input()\n",
    "num = email.rfind('.')\n",
    "print(num)\n",
    "char = email[len(email)-1:num:-1]\n",
    "print(char)"
   ]
  },
  {
   "cell_type": "code",
   "execution_count": 2,
   "metadata": {},
   "outputs": [
    {
     "name": "stdout",
     "output_type": "stream",
     "text": [
      "이메일 주소를 입력하세요bm4655@naver.co.kr\n",
      "아이디가 정상입니다.\n",
      "rk.oc.revan@556\n",
      "rk\n",
      "rk\n",
      "서버주소가 정상입니다.\n",
      "올바른 이메일 형식입니다\n"
     ]
    }
   ],
   "source": [
    "email = input(\"이메일 주소를 입력하세요\")\n",
    "\n",
    "if \"@\" not in email:\n",
    "    print(\"이메일 주소 형식이 잘못되었습니다\")\n",
    "\n",
    "else:\n",
    "    email2 = email.split('@')\n",
    "    \n",
    "    if email2[0].isalnum() and email[0].isalpha():\n",
    "        print(\"아이디가 정상입니다.\")\n",
    "    else:\n",
    "        print(\"아이디 형식이 잘못되었습니다.\")\n",
    "    \n",
    "    \n",
    "    if \".\" in email2[1]:\n",
    "        print(email[:2:-1])\n",
    "        print(email[:-3:-1])\n",
    "        print(email[:15:-1])\n",
    "        if email[len(email)-1:email.rfind('.'):-1].isalpha() :\n",
    "            print(\"서버주소가 정상입니다.\")\n",
    "            print(\"올바른 이메일 형식입니다\")\n",
    "        else:\n",
    "            print(\"서버 주소가 잘못되었습니다\")"
   ]
  },
  {
   "cell_type": "markdown",
   "metadata": {},
   "source": [
    "## 함수"
   ]
  },
  {
   "cell_type": "code",
   "execution_count": 23,
   "metadata": {},
   "outputs": [
    {
     "name": "stdout",
     "output_type": "stream",
     "text": [
      "화씨 온도를 입력하시오: 32\n",
      "0.0\n"
     ]
    }
   ],
   "source": [
    "def FtoC(F):\n",
    "    C = 5 * (F-32) / 9\n",
    "    return C\n",
    "\n",
    "f = float(input(\"화씨 온도를 입력하시오: \"))\n",
    "print(FtoC(f))"
   ]
  },
  {
   "cell_type": "code",
   "execution_count": 25,
   "metadata": {},
   "outputs": [
    {
     "name": "stdout",
     "output_type": "stream",
     "text": [
      "4188.786666666666\n"
     ]
    }
   ],
   "source": [
    "def sphereVolume(r):\n",
    "    print(4*3.14159*(r**3)/3)\n",
    "\n",
    "sphereVolume(10)"
   ]
  },
  {
   "cell_type": "code",
   "execution_count": null,
   "metadata": {},
   "outputs": [
    {
     "name": "stdout",
     "output_type": "stream",
     "text": [
      "같이 밥먹을 사람 : 영진\n",
      "ㄴㄴㄴ약속있어\n",
      "같이 밥먹을 사람 : 범석\n",
      "ㄴㄴㄴ약속있어\n",
      "같이 밥먹을 사람 : 승현\n",
      "ㄴㄴㄴ약속있어\n",
      "같이 밥먹을 사람 : 주혁\n",
      "ㄴㄴㄴ약속있어\n",
      "같이 밥먹을 사람 : 지연\n",
      "응으으응응ㅇ응응응응응\n",
      "같이 밥먹을 사람 : 지연\n",
      "응으으응응ㅇ응응응응응\n"
     ]
    }
   ],
   "source": [
    "def everyDayYes(name):\n",
    "    if name == '지연':\n",
    "        print(\"응으으응응ㅇ응응응응응\")\n",
    "    else:\n",
    "        print(\"ㄴㄴㄴ약속있어\")\n",
    "    \n",
    "while True:\n",
    "    who = input(\"같이 밥먹을 사람 : \")\n",
    "\n",
    "    everyDayYes(who)"
   ]
  },
  {
   "cell_type": "code",
   "execution_count": null,
   "metadata": {},
   "outputs": [],
   "source": []
  }
 ],
 "metadata": {
  "kernelspec": {
   "display_name": "Python 3",
   "language": "python",
   "name": "python3"
  },
  "language_info": {
   "codemirror_mode": {
    "name": "ipython",
    "version": 3
   },
   "file_extension": ".py",
   "mimetype": "text/x-python",
   "name": "python",
   "nbconvert_exporter": "python",
   "pygments_lexer": "ipython3",
   "version": "3.7.6"
  }
 },
 "nbformat": 4,
 "nbformat_minor": 4
}
