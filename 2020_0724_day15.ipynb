{
 "metadata": {
  "language_info": {
   "codemirror_mode": {
    "name": "ipython",
    "version": 3
   },
   "file_extension": ".py",
   "mimetype": "text/x-python",
   "name": "python",
   "nbconvert_exporter": "python",
   "pygments_lexer": "ipython3",
   "version": "3.7.6-final"
  },
  "orig_nbformat": 2,
  "kernelspec": {
   "name": "python_defaultSpec_1595551011707",
   "display_name": "Python 3.7.6 64-bit ('base': conda)"
  }
 },
 "nbformat": 4,
 "nbformat_minor": 2,
 "cells": [
  {
   "cell_type": "markdown",
   "metadata": {},
   "source": [
    "### Numpy 연습"
   ]
  },
  {
   "cell_type": "code",
   "execution_count": 64,
   "metadata": {},
   "outputs": [],
   "source": [
    "import numpy as np"
   ]
  },
  {
   "cell_type": "code",
   "execution_count": 2,
   "metadata": {},
   "outputs": [],
   "source": [
    "def genNewTempDataFile():\n",
    "    dataFileName = 'daegu_temp_20years.csv'     # 20년간 대구의 최고기온, 최저기온, 평균기온을 갖는 데이터를 읽어옴\n",
    "    newFileName = 'new_daegu_temp.csv'          # 새로 write할 파일 명을 'new_daegu_temp.csv'로 설정\n",
    "    \n",
    "    read_f = open(dataFileName, 'r')\n",
    "    write_f = open(newFileName, 'w')\n",
    "    \n",
    "    while True:\n",
    "        line = read_f.readline()\n",
    "        if not line:\n",
    "            break\n",
    "        \n",
    "        splitData = line.split(',')\n",
    "        \n",
    "        skipWriting = False\n",
    "        if len(splitData) == 5 and splitData[1].isnumeric():\n",
    "            splitData[0] = splitData[0].replace('-', '')          # splitData[0]의 원소(날짜)의 형식 변경. ex) 2015-06-17 --> 20150617 \n",
    "            \n",
    "            for data in splitData:                          \n",
    "                try:                                              # splitData를 float형식으로 변경. \n",
    "                    float(data)\n",
    "                except ValueError:                                # ValueError 발생 시 예외처리 후 출력.\n",
    "                    print(\"에러 : \", splitData[0])\n",
    "                    skipWriting = True\n",
    "                    break\n",
    "                    \n",
    "            if not skipWriting:                                   # skipWriting이 True일 경우(ValueError가 없을 경우) splitData를 , 로 결합하고 새로 write\n",
    "                newData = ','.join(splitData)\n",
    "                write_f.write(newData)\n",
    "\n",
    "    write_f.close()\n",
    "    read_f.close()\n",
    "            \n"
   ]
  },
  {
   "cell_type": "code",
   "execution_count": 6,
   "metadata": {},
   "outputs": [],
   "source": [
    "dataFileName = 'new_daegu_temp.csv'\n",
    "tempdata = np.loadtxt(dataFileName, delimiter = ',')"
   ]
  },
  {
   "cell_type": "code",
   "execution_count": 7,
   "metadata": {},
   "outputs": [
    {
     "output_type": "execute_result",
     "data": {
      "text/plain": "36665"
     },
     "metadata": {},
     "execution_count": 7
    }
   ],
   "source": [
    "tempdata.size"
   ]
  },
  {
   "cell_type": "code",
   "execution_count": 8,
   "metadata": {},
   "outputs": [
    {
     "output_type": "execute_result",
     "data": {
      "text/plain": "(7333, 5)"
     },
     "metadata": {},
     "execution_count": 8
    }
   ],
   "source": [
    "tempdata.shape"
   ]
  },
  {
   "cell_type": "code",
   "execution_count": 3,
   "metadata": {
    "tags": []
   },
   "outputs": [
    {
     "output_type": "stream",
     "name": "stdout",
     "text": "에러 :  20130930\n에러 :  20170729\n"
    }
   ],
   "source": [
    "genNewTempDataFile()"
   ]
  },
  {
   "cell_type": "markdown",
   "metadata": {},
   "source": [
    "## 최고온도 구하기\n",
    "    * 날짜(0), 지점(1), 평균온도(2), 최저온도(3), 최고온도(4)"
   ]
  },
  {
   "cell_type": "code",
   "execution_count": 9,
   "metadata": {},
   "outputs": [
    {
     "output_type": "execute_result",
     "data": {
      "text/plain": "20200720.0"
     },
     "metadata": {},
     "execution_count": 9
    }
   ],
   "source": [
    "np.max(tempdata)"
   ]
  },
  {
   "cell_type": "code",
   "execution_count": 35,
   "metadata": {},
   "outputs": [
    {
     "output_type": "execute_result",
     "data": {
      "text/plain": "array([33. , 23.4, 28.3, ..., 27.6, 28. , 32.8])"
     },
     "metadata": {},
     "execution_count": 35
    }
   ],
   "source": [
    "tempdata[:,4]"
   ]
  },
  {
   "cell_type": "code",
   "execution_count": 12,
   "metadata": {},
   "outputs": [
    {
     "output_type": "execute_result",
     "data": {
      "text/plain": "39.2"
     },
     "metadata": {},
     "execution_count": 12
    }
   ],
   "source": [
    "np.max(tempdata[:,4])"
   ]
  },
  {
   "cell_type": "markdown",
   "metadata": {},
   "source": [
    "## 최저 기온"
   ]
  },
  {
   "cell_type": "code",
   "execution_count": 14,
   "metadata": {},
   "outputs": [
    {
     "output_type": "execute_result",
     "data": {
      "text/plain": "-13.9"
     },
     "metadata": {},
     "execution_count": 14
    }
   ],
   "source": [
    "np.min(tempdata[:,3])"
   ]
  },
  {
   "cell_type": "code",
   "execution_count": 16,
   "metadata": {},
   "outputs": [
    {
     "output_type": "error",
     "ename": "ValueError",
     "evalue": "The truth value of an array with more than one element is ambiguous. Use a.any() or a.all()",
     "traceback": [
      "\u001b[1;31m---------------------------------------------------------------------------\u001b[0m",
      "\u001b[1;31mValueError\u001b[0m                                Traceback (most recent call last)",
      "\u001b[1;32m<ipython-input-16-9fb855047124>\u001b[0m in \u001b[0;36m<module>\u001b[1;34m\u001b[0m\n\u001b[1;32m----> 1\u001b[1;33m \u001b[1;32mif\u001b[0m \u001b[0mtempdata\u001b[0m\u001b[1;33m[\u001b[0m\u001b[1;33m:\u001b[0m\u001b[1;33m,\u001b[0m\u001b[1;36m3\u001b[0m\u001b[1;33m]\u001b[0m \u001b[1;33m==\u001b[0m \u001b[1;36m39.2\u001b[0m\u001b[1;33m:\u001b[0m\u001b[1;33m\u001b[0m\u001b[1;33m\u001b[0m\u001b[0m\n\u001b[0m\u001b[0;32m      2\u001b[0m     \u001b[0mprint\u001b[0m\u001b[1;33m(\u001b[0m\u001b[0mtampdata\u001b[0m\u001b[1;33m[\u001b[0m\u001b[1;36m0\u001b[0m\u001b[1;33m]\u001b[0m\u001b[1;33m)\u001b[0m\u001b[1;33m\u001b[0m\u001b[1;33m\u001b[0m\u001b[0m\n",
      "\u001b[1;31mValueError\u001b[0m: The truth value of an array with more than one element is ambiguous. Use a.any() or a.all()"
     ]
    }
   ],
   "source": []
  },
  {
   "cell_type": "markdown",
   "metadata": {},
   "source": [
    "### 최고 기온과 최저 기온이 발생한 날짜는??"
   ]
  },
  {
   "cell_type": "code",
   "execution_count": 17,
   "metadata": {},
   "outputs": [
    {
     "output_type": "execute_result",
     "data": {
      "text/plain": "6608"
     },
     "metadata": {},
     "execution_count": 17
    }
   ],
   "source": [
    "np.argmax(tempdata[:,4])"
   ]
  },
  {
   "cell_type": "code",
   "execution_count": 19,
   "metadata": {},
   "outputs": [
    {
     "output_type": "execute_result",
     "data": {
      "text/plain": "20180727"
     },
     "metadata": {},
     "execution_count": 19
    }
   ],
   "source": [
    "tempdata[6608, 0].astype(np.int)"
   ]
  },
  {
   "cell_type": "code",
   "execution_count": 21,
   "metadata": {},
   "outputs": [
    {
     "output_type": "execute_result",
     "data": {
      "text/plain": "6427"
     },
     "metadata": {},
     "execution_count": 21
    }
   ],
   "source": [
    "np.argmin(tempdata[:,3])"
   ]
  },
  {
   "cell_type": "code",
   "execution_count": 22,
   "metadata": {},
   "outputs": [
    {
     "output_type": "execute_result",
     "data": {
      "text/plain": "20180127"
     },
     "metadata": {},
     "execution_count": 22
    }
   ],
   "source": [
    "tempdata[6427,0].astype(np.int)"
   ]
  },
  {
   "cell_type": "code",
   "execution_count": 27,
   "metadata": {},
   "outputs": [
    {
     "output_type": "execute_result",
     "data": {
      "text/plain": "array([2.020072e+07, 1.430000e+02, 3.310000e+01, 2.860000e+01,\n       3.920000e+01])"
     },
     "metadata": {},
     "execution_count": 27
    }
   ],
   "source": [
    "# 각 축의 max 값 출력\n",
    "# axis = 0 : 열방향, 위에서 아래로 수직방향\n",
    "np.max(tempdata, axis = 0)"
   ]
  },
  {
   "cell_type": "code",
   "execution_count": 28,
   "metadata": {},
   "outputs": [
    {
     "output_type": "execute_result",
     "data": {
      "text/plain": "array([7332,    0, 6607, 6608, 6608], dtype=int64)"
     },
     "metadata": {},
     "execution_count": 28
    }
   ],
   "source": [
    "np.argmax(tempdata, axis=0)         # 각 축의 max 값을 갖는 index 출력"
   ]
  },
  {
   "cell_type": "code",
   "execution_count": 29,
   "metadata": {},
   "outputs": [],
   "source": [
    "max_data = np.argmax(tempdata, axis=0)"
   ]
  },
  {
   "cell_type": "code",
   "execution_count": 31,
   "metadata": {},
   "outputs": [
    {
     "output_type": "execute_result",
     "data": {
      "text/plain": "20180727.0"
     },
     "metadata": {},
     "execution_count": 31
    }
   ],
   "source": [
    "tempdata[max_data[4], 0]            # max_data[4] : "
   ]
  },
  {
   "cell_type": "code",
   "execution_count": 32,
   "metadata": {},
   "outputs": [
    {
     "output_type": "execute_result",
     "data": {
      "text/plain": "33.1"
     },
     "metadata": {},
     "execution_count": 32
    }
   ],
   "source": [
    "np.max(tempdata, axis=0)[2]"
   ]
  },
  {
   "cell_type": "markdown",
   "metadata": {},
   "source": [
    "## 최고 기온, 최저기온 top 10 날짜와 온도 구하기"
   ]
  },
  {
   "cell_type": "code",
   "execution_count": 36,
   "metadata": {},
   "outputs": [
    {
     "output_type": "execute_result",
     "data": {
      "text/plain": "7333"
     },
     "metadata": {},
     "execution_count": 36
    }
   ],
   "source": [
    "len(tempdata)       # tempdata의 길이 출력"
   ]
  },
  {
   "cell_type": "code",
   "execution_count": null,
   "metadata": {},
   "outputs": [],
   "source": [
    "def getTop10Temp(tempData):\n",
    "    highTempTop10 = {}\n",
    "    lowTempTop10 = {}\n",
    "    for i in range(10):\n",
    "        maxTempIndex = np.argmax(tempData[:,4])\n",
    "        highestTemp = tempData[maxTempIndex, 4]\n",
    "        highestTempDate = tempData[maxTempIndex, 0].astype(np.int)\n",
    "\n",
    "        tempData = np.delete(tempData, maxTempIndex, axis=0)\n",
    "\n",
    "        minTempIndex = np.argmin(tempData[:,3])\n",
    "        lowestTemp = tempData[minTempIndex, 3]\n",
    "        lowestTempDate = tempData[maxTempIndex, 0].astype(np.int)\n",
    "\n",
    "        "
   ]
  },
  {
   "cell_type": "code",
   "execution_count": 63,
   "metadata": {
    "tags": []
   },
   "outputs": [
    {
     "output_type": "stream",
     "name": "stdout",
     "text": "{20180801: 37.5, 20130819: 37.4, 20140531: 37.4, 20060815: 37.2, 20170713: 37.2, 20180716: 37.2, 20180802: 37.2, 20060814: 37.1, 20180725: 37.1, 20180808: 37.1}\n{20180805: 28.6, 20130808: 28.2, 20010803: 27.8, 20120731: 27.8, 20120802: 27.7, 20110727: 27.5, 20140725: 27.5, 20170721: 27.5, 20000722: 27.4, 20010723: 27.4}\n"
    }
   ],
   "source": [
    "#max_top10temp\n",
    "#max_top10date\n",
    "\n",
    "max_top10 = {}\n",
    "min_top10 = {}\n",
    "\n",
    "for x in range(0,10):   # 10개의 값 추출\n",
    "    maxTempIndex = np.argmax(tempdata[:,4])                     # maxTempIndex 에 tempdat의 4번째 값(최대 온도)중 최대값을 갖는 인덱스를 저장\n",
    "    highestTemp = tempdata[maxTempIndex,4]                      # 최대온도 최대값을 갖는 인덱스의 4번째 열의 값(최대 온도 값)을 highestTemp에 저장\n",
    "    highestTempDate = tempdata[maxTempIndex, 0].astype(np.int)  # 최대값의 날짜(tempdata[maxTempIndex,0])를 int형으로 저장\n",
    "    \n",
    "\n",
    "    tempdata = np.delete(tempdata, maxTempIndex, axis=0)    # max값 가진 index를 삭제\n",
    "\n",
    "    minTempIndex = np.argmax(tempdata[:,3])\n",
    "    lowestTemp = tempdata[minTempIndex,3]\n",
    "    lowestTempDate = tempdata[minTempIndex, 0].astype(np.int)\n",
    "\n",
    "    tempdata = np.delete(tempdata, minTempIndex, axis=0)    # min값 가진 index 삭제 후 다시 저장\n",
    "\n",
    "    max_top10[highestTempDate] = highestTemp        #key 값으로 highestTempDate, data를 highestTemp 를 가진 Dict 원소 추가\n",
    "    min_top10[lowestTempDate] = lowestTemp          #key 값으로 lowestTempDate, data를 lowestTemp 를 가진 Dict 원소 추가 \n",
    "\n",
    "print(max_top10)\n",
    "print(min_top10)\n",
    "\n"
   ]
  },
  {
   "cell_type": "markdown",
   "metadata": {},
   "source": [
    "### 20년간 각 연도별 최고 기온, 최저기온, 최고 평균기온, 최저 평균을 구해보시오"
   ]
  },
  {
   "cell_type": "code",
   "execution_count": null,
   "metadata": {},
   "outputs": [],
   "source": []
  }
 ]
}