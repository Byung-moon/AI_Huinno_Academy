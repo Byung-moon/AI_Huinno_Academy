{
 "cells": [
  {
   "cell_type": "code",
   "execution_count": 8,
   "metadata": {},
   "outputs": [
    {
     "name": "stdout",
     "output_type": "stream",
     "text": [
      "학생 1의 성적 :77\n",
      "학생 2의 성적 :88\n",
      "학생 3의 성적 :82\n",
      "학생 4의 성적 :54\n",
      "학생 5의 성적 :96\n",
      "학생 6의 성적 :65\n",
      "학생 7의 성적 :91\n",
      "학생 8의 성적 :85\n",
      "학생 9의 성적 :43\n",
      "학생 10의 성적 :90\n",
      "평균 : 77.1\n"
     ]
    }
   ],
   "source": [
    "i=1\n",
    "sum2=0\n",
    "while i<11 :\n",
    "    #i=1\n",
    "    sum = float(input(\"학생 %s의 성적 :\" %i))\n",
    "    sum2 = sum2 + sum\n",
    "    i=i+1\n",
    "    if i==11 :\n",
    "        print(\"평균 : %s\" %(sum2/(i-1)))    "
   ]
  },
  {
   "cell_type": "markdown",
   "metadata": {},
   "source": [
    "* 학생의 수를 정확히 모른다고 가정하자. -1이 입력될 떄까지 학생들의 성적을 입력받은 다음, 그때까지 입력된 성적의 평균을 출력하라."
   ]
  },
  {
   "cell_type": "code",
   "execution_count": 13,
   "metadata": {},
   "outputs": [
    {
     "name": "stdout",
     "output_type": "stream",
     "text": [
      "학생 1의 성적 :-1\n",
      "입력된 성적이 없습니다.\n"
     ]
    }
   ],
   "source": [
    "i=1\n",
    "sum=0\n",
    "\n",
    "while i<11 :\n",
    "    grade = float(input(\"학생 %s의 성적 :\" %i))\n",
    "    if (grade<0) :\n",
    "        print(\"입력된 성적이 없습니다.\")\n",
    "        break\n",
    "    elif(grade==-1) : \n",
    "        print(\"평균 : %s\" %(sum/(i-1))) \n",
    "        break        \n",
    "    sum = sum + grade\n",
    "    i=i+1\n",
    "    "
   ]
  },
  {
   "cell_type": "code",
   "execution_count": null,
   "metadata": {},
   "outputs": [],
   "source": []
  }
 ],
 "metadata": {
  "kernelspec": {
   "display_name": "Python 3",
   "language": "python",
   "name": "python3"
  },
  "language_info": {
   "codemirror_mode": {
    "name": "ipython",
    "version": 3
   },
   "file_extension": ".py",
   "mimetype": "text/x-python",
   "name": "python",
   "nbconvert_exporter": "python",
   "pygments_lexer": "ipython3",
   "version": "3.7.6"
  }
 },
 "nbformat": 4,
 "nbformat_minor": 4
}
