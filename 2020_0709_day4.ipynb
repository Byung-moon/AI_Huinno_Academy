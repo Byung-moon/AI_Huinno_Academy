{
 "cells": [
  {
   "cell_type": "markdown",
   "metadata": {},
   "source": [
    ">### if문 사용시 주의 사항 : 들여쓰기(indentation)"
   ]
  },
  {
   "cell_type": "code",
   "execution_count": 12,
   "metadata": {},
   "outputs": [
    {
     "name": "stdout",
     "output_type": "stream",
     "text": [
      "정수값을 입력하세요: 95\n",
      "A+ 학점입니다\n",
      "공부를 열심히 하셨군요!\n",
      "프로그램을 종료합니다.\n"
     ]
    }
   ],
   "source": [
    "num = int(input(\"정수값을 입력하세요: \"))\n",
    "\n",
    "if num>=90 :\n",
    "    if num>=95:\n",
    "        print(\"A+ 학점입니다\")\n",
    "    else:\n",
    "        print(\"A학점입니다\",end=\"~~\\n\")\n",
    "    print(\"공부를 열심히 하셨군요!\")\n",
    "elif num>=80 :\n",
    "    print(\"B학점입니다.\")\n",
    "else :\n",
    "    print(\"더 열심히 하세여\")\n",
    "    \n",
    "print(\"프로그램을 종료합니다.\")"
   ]
  },
  {
   "cell_type": "code",
   "execution_count": 15,
   "metadata": {},
   "outputs": [
    {
     "name": "stdout",
     "output_type": "stream",
     "text": [
      "정수를 입력해주세요 : -10\n",
      "10\n"
     ]
    }
   ],
   "source": [
    "num = int(input(\"정수를 입력해주세요 : \"))\n",
    "\n",
    "if num>=0:\n",
    "    print(num)\n",
    "else:\n",
    "    print(-num)\n"
   ]
  },
  {
   "cell_type": "code",
   "execution_count": 20,
   "metadata": {},
   "outputs": [
    {
     "name": "stdout",
     "output_type": "stream",
     "text": [
      "첫번째 실수를 입력해주세요1.2\n",
      "두번째 실수를 입력해주세요2.3\n",
      "세번째 실수를 입력해주세요3.4\n",
      "크기순 나열 : 2.3 3.4 2.3\n"
     ]
    }
   ],
   "source": [
    "num1 = float(input(\"첫번째 실수를 입력해주세요\"))\n",
    "num2 = float(input(\"두번째 실수를 입력해주세요\"))\n",
    "num3 = float(input(\"세번째 실수를 입력해주세요\"))\n",
    "\n",
    "if num1>num2 :\n",
    "\n",
    "\n",
    "print(\"크기순 나열 : %s %s %s\" % (a,b,c))\n"
   ]
  },
  {
   "cell_type": "code",
   "execution_count": 22,
   "metadata": {},
   "outputs": [
    {
     "name": "stdout",
     "output_type": "stream",
     "text": [
      "시간을 입력하세요1010\n",
      "오전 10시 10분\n"
     ]
    }
   ],
   "source": [
    "time = int(input(\"시간을 입력하세요\"))\n",
    "\n",
    "time_10 = time // 100\n",
    "time_1 = time%100\n",
    "\n",
    "\n",
    "if time_10 >= 12:\n",
    "    pm_am = \"오후\"\n",
    "    time_10 = time_10 - 12\n",
    "else:\n",
    "    pm_am = \"오전\"\n",
    "    \n",
    "\n",
    "print(pm_am + \" %s시 %s분\" % (time_10,time_1))\n",
    "\n",
    "    "
   ]
  },
  {
   "cell_type": "markdown",
   "metadata": {},
   "source": [
    "> 년도를 입력받은 후, 윤년인지 아닌지를 출력하라.\n",
    "\n",
    "입력 : 2018\n",
    "\n",
    "출력 : 윤년이 아닙니다.\n"
   ]
  },
  {
   "cell_type": "code",
   "execution_count": 27,
   "metadata": {},
   "outputs": [
    {
     "name": "stdout",
     "output_type": "stream",
     "text": [
      "년도를 입력해 주세요: 244\n",
      "윤년입니다.\n"
     ]
    }
   ],
   "source": [
    "year = int(input(\"년도를 입력해 주세요: \"))\n",
    "\n",
    "\n",
    "if year%400 == 0 :\n",
    "    print(\"윤년입니다.\")\n",
    "elif (year%4 == 0) & (year%100 != 0):\n",
    "    print(\"윤년입니다.\")\n",
    "else:\n",
    "    print(\"윤년이 아닙니다.\")"
   ]
  },
  {
   "cell_type": "markdown",
   "metadata": {},
   "source": [
    "### While문 사용하기\n",
    "\n",
    "* continue를 사용하면 바로 조건문으로 넘어감\n",
    "\n",
    "\n",
    "* else문 : 반복의 조건이 False가 될때 시행. 조건문이 거짓이면 else문을 실행하고 while문 종료.\n",
    "\n",
    " break문으로 while문을 탈출할 경우에는 else문이 실행되지 않음"
   ]
  },
  {
   "cell_type": "code",
   "execution_count": 30,
   "metadata": {},
   "outputs": [
    {
     "name": "stdout",
     "output_type": "stream",
     "text": [
      "count의 값 = 1\n",
      "count의 값 = 2\n",
      "count의 값 = 3\n",
      "count의 값 = 4\n",
      "반복문이 종료되었습니다\n"
     ]
    }
   ],
   "source": [
    "count = 1\n",
    "while count < 5:\n",
    "    print(\"count의 값 =\", count)\n",
    "    count = count+1\n",
    "print(\"반복문이 종료되었습니다\")"
   ]
  },
  {
   "cell_type": "markdown",
   "metadata": {},
   "source": [
    " while문을 사용하여 1~10까지 출력"
   ]
  },
  {
   "cell_type": "code",
   "execution_count": 32,
   "metadata": {},
   "outputs": [
    {
     "name": "stdout",
     "output_type": "stream",
     "text": [
      "1\n",
      "2\n",
      "3\n",
      "4\n",
      "5\n",
      "6\n",
      "7\n",
      "8\n",
      "9\n",
      "10\n",
      "while문이 종료되었습니다\n"
     ]
    }
   ],
   "source": [
    "num = 1\n",
    "while num<11:\n",
    "    print(num)\n",
    "    num = num+1\n",
    "    \n",
    "print(\"while문이 종료되었습니다\")"
   ]
  },
  {
   "cell_type": "code",
   "execution_count": 33,
   "metadata": {},
   "outputs": [
    {
     "name": "stdout",
     "output_type": "stream",
     "text": [
      "단 수를 입력해주세요 : 5\n",
      "5 * 1 = 5\n",
      "5 * 2 = 10\n",
      "5 * 3 = 15\n",
      "5 * 4 = 20\n",
      "5 * 5 = 25\n",
      "5 * 6 = 30\n",
      "5 * 7 = 35\n",
      "5 * 8 = 40\n",
      "5 * 9 = 45\n"
     ]
    }
   ],
   "source": [
    "num = int(input(\"단 수를 입력해주세요 : \"))\n",
    "i = 1\n",
    "while i<10 :\n",
    "    print(\"%s * %s = %s\" % (num, i, num*i))\n",
    "    i = i+1"
   ]
  },
  {
   "cell_type": "code",
   "execution_count": null,
   "metadata": {},
   "outputs": [],
   "source": []
  }
 ],
 "metadata": {
  "kernelspec": {
   "display_name": "Python 3",
   "language": "python",
   "name": "python3"
  },
  "language_info": {
   "codemirror_mode": {
    "name": "ipython",
    "version": 3
   },
   "file_extension": ".py",
   "mimetype": "text/x-python",
   "name": "python",
   "nbconvert_exporter": "python",
   "pygments_lexer": "ipython3",
   "version": "3.7.6"
  }
 },
 "nbformat": 4,
 "nbformat_minor": 4
}
