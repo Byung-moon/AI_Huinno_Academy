{
 "cells": [
  {
   "cell_type": "markdown",
   "metadata": {},
   "source": [
    "### range(stop)\n",
    " * 0부터 stop-1 까지의 연속된 정수로 구성된 sequence를 생성\n",
    " * list(range(10)) == [0,1,2,3,4,5,6,7,8,9]\n",
    " \n",
    "### range(start, stop)\n",
    " * start부터 stop-1까지의 연속된 정수의 sequence 생성\n",
    " \n",
    "### range(start, stop, step)"
   ]
  },
  {
   "cell_type": "markdown",
   "metadata": {},
   "source": [
    "> 항목이 sequence에 포함되는지 검사하는 연산자"
   ]
  },
  {
   "cell_type": "code",
   "execution_count": 1,
   "metadata": {},
   "outputs": [
    {
     "name": "stdout",
     "output_type": "stream",
     "text": [
      "True\n"
     ]
    }
   ],
   "source": [
    "x = [\"apple\", \"banana\"]\n",
    "print(\"banana\" in x)\n",
    "\n"
   ]
  },
  {
   "cell_type": "code",
   "execution_count": 8,
   "metadata": {},
   "outputs": [
    {
     "name": "stdout",
     "output_type": "stream",
     "text": [
      "양의 정수 n을 입력하세요: -20\n",
      "양의 정수 n을 입력하세요: -10\n",
      "양의 정수 n을 입력하세요: 10\n",
      "합계:  18\n"
     ]
    }
   ],
   "source": [
    "# 양의 정수 n을 입력받은 후, 1부터 n까지 3의 배수의 합을 출력\n",
    "\n",
    "#양의 정수 입력\n",
    "while True:\n",
    "    inputNum = int(input(\"양의 정수 n을 입력하세요: \"))\n",
    "    if inputNum>0:\n",
    "        break\n",
    "    else:\n",
    "        continue\n",
    "\n",
    "#1부터 n까지 3의 배수 더하기\n",
    "sum = 0\n",
    "for i in range(0,inputNum+1,3):\n",
    "    sum = sum + i\n",
    "\n",
    "#합 출력\n",
    "print(\"합계: \", sum)"
   ]
  },
  {
   "cell_type": "code",
   "execution_count": 15,
   "metadata": {},
   "outputs": [
    {
     "name": "stdout",
     "output_type": "stream",
     "text": [
      "양의 정수 n을 입력하세요: 10\n",
      "역수의 합:  2.9289682539682538\n"
     ]
    }
   ],
   "source": [
    "# 양의 정수 n을 입력받은 후, 1부터 n까지 역수의 합(1 + 1/2 + 1/3 + ... + 1/n)을 구하라\n",
    "# 입력 : 10      출력 : 2.9289682539682538\n",
    "\n",
    "#양의 정수 입력\n",
    "while True:\n",
    "    inputNum = input(\"양의 정수 n을 입력하세요: \")\n",
    "    \n",
    "    #입력값이 숫자로만 구성이 안되있을 경우 판별\n",
    "    if not inputNum.isdigit():\n",
    "        print(\"양의 정수 값을 입력하세요\")\n",
    "        continue\n",
    "    else:\n",
    "        inputNum = int(inputNum)\n",
    "        \n",
    "    if inputNum>0:\n",
    "        break\n",
    "    else:\n",
    "        continue\n",
    "\n",
    "#1부터 n까지 역수의 합\n",
    "sum = 0\n",
    "for i in range(1,inputNum+1,1):\n",
    "    sum = sum + 1/i\n",
    "    \n",
    "#합 출력\n",
    "print(\"역수의 합: \", sum)"
   ]
  },
  {
   "cell_type": "code",
   "execution_count": 13,
   "metadata": {},
   "outputs": [
    {
     "name": "stdout",
     "output_type": "stream",
     "text": [
      "문장을 입력하세요:저의 생일은 6월 17일 입니다.\n",
      "문자수 : 10\n",
      "숫자 수 : 3\n",
      "공백 수 : 4\n"
     ]
    }
   ],
   "source": [
    "#문장을 입력받은 다음, 알파벳 문자(한글 or 영어)의 수와 숫자 문자의 수, 공백 문자의 수를 출력\n",
    "\n",
    "#문장 입력\n",
    "string = input(\"문장을 입력하세요:\")\n",
    "\n",
    "alphaNum = 0\n",
    "digitNum = 0\n",
    "spaceNum = 0\n",
    "\n",
    "#각각의 글자 수 체크\n",
    "for i in string:\n",
    "    if i.isalpha() == True :\n",
    "        alphaNum += 1\n",
    "    elif i.isdigit() == True :\n",
    "        digitNum += 1\n",
    "    elif i.isspace() == True :\n",
    "        spaceNum += 1\n",
    "\n",
    "#결과 출력        \n",
    "print(\"문자수 : %s\\n숫자 수 : %s\\n공백 수 : %s\" % (alphaNum,digitNum,spaceNum))"
   ]
  },
  {
   "cell_type": "code",
   "execution_count": 19,
   "metadata": {},
   "outputs": [
    {
     "name": "stdout",
     "output_type": "stream",
     "text": [
      "**********\n",
      " *********\n",
      "  ********\n",
      "   *******\n",
      "    ******\n",
      "     *****\n",
      "      ****\n",
      "       ***\n",
      "        **\n",
      "         *\n"
     ]
    }
   ],
   "source": [
    "#삼각형 그리기\n",
    "\n",
    "for x in range(10):\n",
    "    for y in range(x):\n",
    "        print(\" \", end=\"\")\n",
    "    for y in range(10-x):\n",
    "        print(\"*\", end=\"\")\n",
    "    print()\n",
    "    "
   ]
  },
  {
   "cell_type": "code",
   "execution_count": 23,
   "metadata": {},
   "outputs": [
    {
     "name": "stdout",
     "output_type": "stream",
     "text": [
      "문장을 입력:나이는 23세이고, 주소는 A 아파트 12동 205호 입니다.\n",
      "나이는 주소는 A 아파트 입니다. "
     ]
    }
   ],
   "source": [
    "#숫자가 포함되지 않은 단어들을 출력\n",
    "\n",
    "statement = input(\"문장을 입력:\")\n",
    "\n",
    "for word in statement.split():\n",
    "    for digit in \"0123456789\":\n",
    "        if digit in word:\n",
    "            break;\n",
    "    else:\n",
    "        print(word, end=\" \")"
   ]
  },
  {
   "cell_type": "code",
   "execution_count": 29,
   "metadata": {},
   "outputs": [
    {
     "name": "stdout",
     "output_type": "stream",
     "text": [
      "3 4 5\n",
      "5 12 13\n",
      "6 8 10\n",
      "7 24 25\n",
      "8 15 17\n",
      "9 12 15\n",
      "9 40 41\n",
      "10 24 26\n",
      "11 60 61\n",
      "12 16 20\n",
      "12 35 37\n",
      "13 84 85\n",
      "14 48 50\n",
      "15 20 25\n",
      "15 36 39\n",
      "16 30 34\n",
      "16 63 65\n",
      "18 24 30\n",
      "18 80 82\n",
      "20 21 29\n",
      "20 48 52\n",
      "21 28 35\n",
      "21 72 75\n",
      "24 32 40\n",
      "24 45 51\n",
      "24 70 74\n",
      "25 60 65\n",
      "27 36 45\n",
      "28 45 53\n",
      "30 40 50\n",
      "30 72 78\n",
      "32 60 68\n",
      "33 44 55\n",
      "33 56 65\n",
      "35 84 91\n",
      "36 48 60\n",
      "36 77 85\n",
      "39 52 65\n",
      "39 80 89\n",
      "40 42 58\n",
      "40 75 85\n",
      "42 56 70\n",
      "45 60 75\n",
      "48 55 73\n",
      "48 64 80\n",
      "51 68 85\n",
      "54 72 90\n",
      "57 76 95\n",
      "60 63 87\n",
      "65 72 97\n"
     ]
    }
   ],
   "source": [
    "# list(set(A).difference(B))\n",
    "# list(set(A).uinon(B))\n",
    "# list(set(A).)\n",
    "\n",
    "# x^2 + y^2 = z^2 을 만족하는 100보다 작은 자연수 x,y,z를 구하기. x<=y<=z\n",
    "\n",
    "for x in range(1,100):\n",
    "    for y in range(x,100):\n",
    "        for z in range(y,100):\n",
    "            sum = x**2 + y**2\n",
    "            if (sum == z**2)  :\n",
    "                print(x,y,z)\n",
    "\n",
    "\n"
   ]
  },
  {
   "cell_type": "code",
   "execution_count": 38,
   "metadata": {},
   "outputs": [
    {
     "name": "stdout",
     "output_type": "stream",
     "text": [
      " x     0.0      0.1      0.2      0.3      0.4      0.5      0.6      0.7      0.8      0.9      1.0 \n",
      "0.0 1.000000 0.904837 0.818731 0.740818 0.670320 0.606531 0.548812 0.496585 0.449329 0.406570 0.367879 \n",
      "1.0 0.367879 0.332871 0.301194 0.272532 0.246597 0.223130 0.201897 0.182684 0.165299 0.149569 0.135335 \n",
      "2.0 0.135335 0.122456 0.110803 0.100259 0.090718 0.082085 0.074274 0.067206 0.060810 0.055023 0.049787 \n",
      "3.0 0.049787 0.045049 0.040762 0.036883 0.033373 0.030197 0.027324 0.024724 0.022371 0.020242 0.018316 \n",
      "4.0 0.018316 0.016573 0.014996 0.013569 0.012277 0.011109 0.010052 0.009095 0.008230 0.007447 0.006738 \n",
      "5.0 0.006738 0.006097 0.005517 0.004992 0.004517 0.004087 0.003698 0.003346 0.003028 0.002739 0.002479 \n",
      "6.0 0.002479 0.002243 0.002029 0.001836 0.001662 0.001503 0.001360 0.001231 0.001114 0.001008 0.000912 \n",
      "7.0 0.000912 0.000825 0.000747 0.000676 0.000611 0.000553 0.000500 0.000453 0.000410 0.000371 0.000335 \n",
      "8.0 0.000335 0.000304 0.000275 0.000249 0.000225 0.000203 0.000184 0.000167 0.000151 0.000136 0.000123 \n",
      "9.0 0.000123 0.000112 0.000101 0.000091 0.000083 0.000075 0.000068 0.000061 0.000055 0.000050 0.000045 \n"
     ]
    }
   ],
   "source": [
    "# x 값을 0부터 10.0까지 0.1 단위로 증가시키면서 y = exp(-x)의 값을 계산하여 아래 표와 같이 출력하라.\n",
    "\n",
    "import math \n",
    "print(\" x\", end=\"\")\n",
    "\n",
    "for i in range(11):\n",
    "    print(format(i/10, '8.1f'), end=' ')\n",
    "print()\n",
    "\n",
    "for x in range(10):\n",
    "    print(format(x, '3.1f'), end=' ')\n",
    "    for i in range(11):\n",
    "        value = x + i/10\n",
    "        print(format(math.exp(-value), '.6f'), end=' ')\n",
    "    print()"
   ]
  },
  {
   "cell_type": "code",
   "execution_count": null,
   "metadata": {},
   "outputs": [],
   "source": []
  }
 ],
 "metadata": {
  "kernelspec": {
   "display_name": "Python 3",
   "language": "python",
   "name": "python3"
  },
  "language_info": {
   "codemirror_mode": {
    "name": "ipython",
    "version": 3
   },
   "file_extension": ".py",
   "mimetype": "text/x-python",
   "name": "python",
   "nbconvert_exporter": "python",
   "pygments_lexer": "ipython3",
   "version": "3.7.6"
  }
 },
 "nbformat": 4,
 "nbformat_minor": 4
}
