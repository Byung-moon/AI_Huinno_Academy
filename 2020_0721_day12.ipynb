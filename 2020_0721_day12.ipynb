{
 "metadata": {
  "language_info": {
   "codemirror_mode": {
    "name": "ipython",
    "version": 3
   },
   "file_extension": ".py",
   "mimetype": "text/x-python",
   "name": "python",
   "nbconvert_exporter": "python",
   "pygments_lexer": "ipython3",
   "version": 3
  },
  "orig_nbformat": 2,
  "kernelspec": {
   "name": "python_defaultSpec_1595376769241",
   "display_name": "Python 3.7.0 64-bit"
  }
 },
 "nbformat": 4,
 "nbformat_minor": 2,
 "cells": [
  {
   "cell_type": "markdown",
   "metadata": {},
   "source": [
    "* C++의 경우에는 '소멸자'라는게 있음.\n",
    "\n",
    "* 파이썬이나 자바는 '소멸자'가 필요없음. __init__ 에서 마지막의 '__' 가 소멸자의 역할을 함.\n",
    "\n",
    "* 접근자(getter)와 설정자(setter) 이 있음.\n",
    "\n",
    "* call by value : 값을 하나씩 넘김.\n",
    "* 와 call by reference : 배열같이 값을 한 번에 여러개 넘김.\n",
    "\n",
    "\n"
   ]
  },
  {
   "cell_type": "markdown",
   "metadata": {},
   "source": [
    "### 정적 변수 (Static)\n",
    "    - 이 변수는 모든 객체를 통틀어서 하나만 생성됨. 모든 객체가 이 변수를 공용으로 사용.\n",
    "    - 이 변수를 정적 멤버 or 클래스 멤버라고 함.\n",
    "\n",
    "    ex)\n",
    "    class Television:\n",
    "        serialNumbe  = 0        # 이것이 정적 변수. self 없이 선언하면 정적 변수가 됨. 자바랑 다름.\n",
    "        def __init__(self):\n",
    "                Television.serialNumber += 1\n",
    "        self.number = Television.serialNumber\n",
    "                ..."
   ]
  },
  {
   "cell_type": "code",
   "execution_count": 5,
   "metadata": {},
   "outputs": [],
   "source": [
    "class Television:\n",
    "    serialNumber  = 0        # 이것이 정적 변수. self 없이 선언하면 정적 변수가 됨. 자바랑 다름.\n",
    "    def __init__(self):\n",
    "        Television.serialNumber += 1\n",
    "        self.number = Television.serialNumber\n",
    "    def getSerial(self):\n",
    "        return self.serialNumber"
   ]
  },
  {
   "cell_type": "code",
   "execution_count": 6,
   "metadata": {},
   "outputs": [],
   "source": [
    "tv1 = Television()"
   ]
  },
  {
   "cell_type": "code",
   "execution_count": 7,
   "metadata": {},
   "outputs": [],
   "source": [
    "tv2 = Television()\n"
   ]
  },
  {
   "cell_type": "code",
   "execution_count": 9,
   "metadata": {},
   "outputs": [
    {
     "output_type": "execute_result",
     "data": {
      "text/plain": "100"
     },
     "metadata": {},
     "execution_count": 9
    }
   ],
   "source": [
    "tv1.serialNumber = 100\n",
    "tv2.getSerial()\n",
    "tv1.getSerial()\n",
    "# 이 부분 잘 모르겠음"
   ]
  },
  {
   "cell_type": "code",
   "execution_count": 40,
   "metadata": {},
   "outputs": [],
   "source": [
    "class Vector2D:\n",
    "    def __init__(self, x, y):\n",
    "        self.x = x\n",
    "        self.y = y\n",
    "\n",
    "    def getXY(self):\n",
    "        return self.x, self.y\n",
    "\n",
    "    def __add__(self, other):\n",
    "        return Vector2D(self.x + other.x, self.y + other.y)\n",
    "\n",
    "    def __eq__(self, other):\n",
    "        return self.x == other.x and self.y == other.y\n",
    "\n",
    "    def __str__(self):\n",
    "        return '[ {} , {} ]'.format(self.x, self.y)"
   ]
  },
  {
   "cell_type": "code",
   "execution_count": 41,
   "metadata": {},
   "outputs": [],
   "source": [
    "v1 = Vector2D(10,20)\n",
    "v2 = Vector2D(100,200)"
   ]
  },
  {
   "cell_type": "code",
   "execution_count": 17,
   "metadata": {},
   "outputs": [],
   "source": [
    "v3 = v1 + v2"
   ]
  },
  {
   "cell_type": "code",
   "execution_count": 19,
   "metadata": {},
   "outputs": [
    {
     "output_type": "execute_result",
     "data": {
      "text/plain": "(10, 20)"
     },
     "metadata": {},
     "execution_count": 19
    }
   ],
   "source": [
    "v1.getXY()\n"
   ]
  },
  {
   "cell_type": "code",
   "execution_count": 20,
   "metadata": {},
   "outputs": [
    {
     "output_type": "execute_result",
     "data": {
      "text/plain": "(100, 200)"
     },
     "metadata": {},
     "execution_count": 20
    }
   ],
   "source": [
    "v2.getXY()"
   ]
  },
  {
   "cell_type": "code",
   "execution_count": 21,
   "metadata": {},
   "outputs": [
    {
     "output_type": "execute_result",
     "data": {
      "text/plain": "(110, 220)"
     },
     "metadata": {},
     "execution_count": 21
    }
   ],
   "source": [
    "v3.getXY()"
   ]
  },
  {
   "cell_type": "code",
   "execution_count": 22,
   "metadata": {},
   "outputs": [
    {
     "output_type": "execute_result",
     "data": {
      "text/plain": "False"
     },
     "metadata": {},
     "execution_count": 22
    }
   ],
   "source": [
    "v1 == v2"
   ]
  },
  {
   "cell_type": "code",
   "execution_count": 42,
   "metadata": {},
   "outputs": [],
   "source": [
    "v4 = Vector2D(10,20)"
   ]
  },
  {
   "cell_type": "code",
   "execution_count": 24,
   "metadata": {},
   "outputs": [
    {
     "output_type": "execute_result",
     "data": {
      "text/plain": "False"
     },
     "metadata": {},
     "execution_count": 24
    }
   ],
   "source": [
    "v1 == v4"
   ]
  },
  {
   "cell_type": "code",
   "execution_count": 25,
   "metadata": {},
   "outputs": [
    {
     "output_type": "execute_result",
     "data": {
      "text/plain": "(10, 20)"
     },
     "metadata": {},
     "execution_count": 25
    }
   ],
   "source": [
    "v1.getXY()"
   ]
  },
  {
   "cell_type": "code",
   "execution_count": 26,
   "metadata": {},
   "outputs": [
    {
     "output_type": "execute_result",
     "data": {
      "text/plain": "(10, 20)"
     },
     "metadata": {},
     "execution_count": 26
    }
   ],
   "source": [
    "v4.getXY()"
   ]
  },
  {
   "cell_type": "markdown",
   "metadata": {},
   "source": [
    " --> v1과 v4가 갖는 값이 같은데 다르다고 나옴. ID를 비교하기때문에 다르다고 나옴.\n",
    "\n",
    " >class에 __eq__ 를 추가하여 값을 비교"
   ]
  },
  {
   "cell_type": "code",
   "execution_count": 31,
   "metadata": {},
   "outputs": [
    {
     "output_type": "execute_result",
     "data": {
      "text/plain": "True"
     },
     "metadata": {},
     "execution_count": 31
    }
   ],
   "source": [
    "v1 == v4"
   ]
  },
  {
   "cell_type": "code",
   "execution_count": 32,
   "metadata": {},
   "outputs": [
    {
     "output_type": "execute_result",
     "data": {
      "text/plain": "2390361657296"
     },
     "metadata": {},
     "execution_count": 32
    }
   ],
   "source": [
    "id(v1)"
   ]
  },
  {
   "cell_type": "code",
   "execution_count": 33,
   "metadata": {},
   "outputs": [
    {
     "output_type": "execute_result",
     "data": {
      "text/plain": "2390361979144"
     },
     "metadata": {},
     "execution_count": 33
    }
   ],
   "source": [
    "id(v4)"
   ]
  },
  {
   "cell_type": "code",
   "execution_count": 34,
   "metadata": {
    "tags": []
   },
   "outputs": [
    {
     "output_type": "stream",
     "name": "stdout",
     "text": "<__main__.Vector2D object at 0x0000022C8CA84FD0>\n"
    }
   ],
   "source": [
    "print(v1)       # 얘를 내가 원하는 값이 나오게 변경 가능"
   ]
  },
  {
   "cell_type": "code",
   "execution_count": 43,
   "metadata": {
    "tags": []
   },
   "outputs": [
    {
     "output_type": "stream",
     "name": "stdout",
     "text": "[ 10 , 20 ]\n"
    }
   ],
   "source": [
    "print(v1)"
   ]
  },
  {
   "cell_type": "markdown",
   "metadata": {},
   "source": [
    "### 상속"
   ]
  },
  {
   "cell_type": "code",
   "execution_count": 86,
   "metadata": {},
   "outputs": [],
   "source": [
    "class Shape:\n",
    "    def __init__(self,color):\n",
    "        self.color = color\n",
    "    def getColor(self):\n",
    "        return self.color\n",
    "    def setColor(self, color):\n",
    "        self.color = color"
   ]
  },
  {
   "cell_type": "code",
   "execution_count": 87,
   "metadata": {},
   "outputs": [],
   "source": [
    "class Circle(Shape):    #상속 받아서 Circle 만듦\n",
    "    def __init__(self, radius):\n",
    "        #self.color = color\n",
    "        self.radius = radius\n",
    "    def getRadius(self):\n",
    "        return radius\n",
    "    def getArea(self):\n",
    "        return 3.14 * self.radius ** 2\n",
    "    def getColor(self):             # 부메소드 오버라이딩. 자식 클래스에서 다시 정의하는 것\n",
    "        return \"원의 색: \" + self.color\n"
   ]
  },
  {
   "cell_type": "code",
   "execution_count": 89,
   "metadata": {},
   "outputs": [],
   "source": [
    "circle1 = Circle( 10)"
   ]
  },
  {
   "cell_type": "code",
   "execution_count": 90,
   "metadata": {},
   "outputs": [
    {
     "output_type": "execute_result",
     "data": {
      "text/plain": "'원의 색: Red'"
     },
     "metadata": {},
     "execution_count": 90
    }
   ],
   "source": [
    "circle1.setColor(\"Red\")\n",
    "circle1.getColor()"
   ]
  },
  {
   "cell_type": "code",
   "execution_count": 67,
   "metadata": {},
   "outputs": [],
   "source": [
    "class Triangle(Shape):\n",
    "    def __init__(self, color, height, width):\n",
    "        self.color = color\n",
    "        self.height = height\n",
    "        self.width = width\n",
    "\n",
    "    def getArea(self):\n",
    "        return 0.5 * self.height * self.width"
   ]
  },
  {
   "cell_type": "code",
   "execution_count": 78,
   "metadata": {},
   "outputs": [
    {
     "output_type": "execute_result",
     "data": {
      "text/plain": "'원의 색: RED'"
     },
     "metadata": {},
     "execution_count": 78
    }
   ],
   "source": [
    "circle1.getColor()"
   ]
  },
  {
   "cell_type": "code",
   "execution_count": 77,
   "metadata": {},
   "outputs": [],
   "source": [
    "tri1 = Triangle('BLUE', 10, 5)"
   ]
  },
  {
   "cell_type": "markdown",
   "metadata": {},
   "source": [
    "### 데이터 분석 - 기본개념\n",
    "\n",
    "- 데이터 분석 예제 : 시계열 데이터\n"
   ]
  },
  {
   "cell_type": "code",
   "execution_count": 92,
   "metadata": {},
   "outputs": [],
   "source": [
    "avg_temp = [-2.5, 0.2, 3, 1, -4, -6, 3.2, 4.3]"
   ]
  },
  {
   "cell_type": "code",
   "execution_count": 98,
   "metadata": {},
   "outputs": [],
   "source": [
    "# 최소값 최댓값 찾기\n",
    "min_temp = max_temp = sum_temp= avg_temp[0]\n",
    "\n",
    "for i in range(1, len(avg_temp)):\n",
    "    if avg_temp[i] < min_temp:\n",
    "        min_temp = avg_temp[i]\n",
    "\n",
    "    if avg_temp[i] > max_temp:\n",
    "        max_temp = avg_temp[i]\n",
    "\n",
    "    sum_temp += avg_temp[i]"
   ]
  },
  {
   "cell_type": "code",
   "execution_count": 99,
   "metadata": {},
   "outputs": [
    {
     "output_type": "execute_result",
     "data": {
      "text/plain": "-6"
     },
     "metadata": {},
     "execution_count": 99
    }
   ],
   "source": [
    "min_temp\n"
   ]
  },
  {
   "cell_type": "code",
   "execution_count": 100,
   "metadata": {},
   "outputs": [
    {
     "output_type": "execute_result",
     "data": {
      "text/plain": "4.3"
     },
     "metadata": {},
     "execution_count": 100
    }
   ],
   "source": [
    "max_temp"
   ]
  },
  {
   "cell_type": "code",
   "execution_count": 101,
   "metadata": {},
   "outputs": [
    {
     "output_type": "execute_result",
     "data": {
      "text/plain": "-0.8000000000000007"
     },
     "metadata": {},
     "execution_count": 101
    }
   ],
   "source": [
    "sum_temp"
   ]
  },
  {
   "cell_type": "code",
   "execution_count": 102,
   "metadata": {},
   "outputs": [
    {
     "output_type": "execute_result",
     "data": {
      "text/plain": "4.3"
     },
     "metadata": {},
     "execution_count": 102
    }
   ],
   "source": [
    "max(avg_temp)   # 내장함수 사용"
   ]
  },
  {
   "cell_type": "code",
   "execution_count": 103,
   "metadata": {},
   "outputs": [
    {
     "output_type": "execute_result",
     "data": {
      "text/plain": "-0.10000000000000009"
     },
     "metadata": {},
     "execution_count": 103
    }
   ],
   "source": [
    "sum(avg_temp) / len(avg_temp)"
   ]
  },
  {
   "cell_type": "code",
   "execution_count": 106,
   "metadata": {},
   "outputs": [
    {
     "output_type": "execute_result",
     "data": {
      "text/plain": "[-6, -4, -2.5, 0.2, 1, 3, 3.2, 4.3]"
     },
     "metadata": {},
     "execution_count": 106
    }
   ],
   "source": [
    "sorted(avg_temp)    # 내장함수 사용"
   ]
  },
  {
   "cell_type": "code",
   "execution_count": 1,
   "metadata": {
    "tags": []
   },
   "outputs": [
    {
     "output_type": "stream",
     "name": "stdout",
     "text": "데이터에 이상이 있습니다. -  2013-09-30\n39.2 2018-07-27\n-13.9 2018-01-27\n['39.2', '38.6', '38.5', '38.4', '38.3']\n['2018-07-27', '2018-07-24', '2018-07-20', '2017-07-22', '2015-08-06']\n['-13.9', '-13.1', '-12.3', '-11.8', '-11.7']\n['2018-01-27', '2011-01-16', '2011-01-15', '2004-01-22', '2001-01-15']\n"
    }
   ],
   "source": [
    "dataFileName = 'daegu_temp_20years.csv'\n",
    "f = open(dataFileName, 'r')\n",
    "\n",
    "max_temp = -999.0 # 가장 작은 값으로 줌\n",
    "min_temp = 999.0  # 가장 큰 값으로 줌. 일부러 극단적으로 줌\n",
    "max_date = ''\n",
    "min_date = ''   # 최저 날짜를 저장하기 위한 변수\n",
    "\n",
    "top5_temp = [max_temp,999,998,997,996 ]\n",
    "low5_temp = [min_temp,-999,-999,-999,-999 ]\n",
    "top5_date = [max_date, ' ', ' ', ' ', ' ' ]\n",
    "low5_date = [min_date, ' ', ' ', ' ', ' ' ]\n",
    "\n",
    "while True:\n",
    "    \n",
    "\n",
    "    line = f.readline()\n",
    "    if not line:\n",
    "        break\n",
    "    line = line.strip()   # 마지막 \\n 문자 제거\n",
    "    splitData = line.split(',')\n",
    "    #print(len(splitData), end=' ')\n",
    "    \n",
    "    if len(splitData) == 5 and splitData[1].isnumeric() :\n",
    "        #print(splitData[4],type(splitData[4]))\n",
    "        #print(max_temp)\n",
    "        try:\n",
    "            if float(splitData[4]) > float(max_temp):\n",
    "                max_temp = splitData[4]\n",
    "                max_date = splitData[0]\n",
    "\n",
    "                top5_temp = [ max_temp, top5_temp[0], top5_temp[1], top5_temp[2], top5_temp[3] ]\n",
    "                top5_date = [ max_date, top5_date[0], top5_date[1], top5_date[2], top5_date[3] ]\n",
    "                \n",
    "            if float(splitData[3]) < float(min_temp):\n",
    "                min_temp = splitData[3]    \n",
    "                min_date = splitData[0]\n",
    "\n",
    "                low5_temp = [ min_temp, low5_temp[0], low5_temp[1], low5_temp[2], low5_temp[3]]\n",
    "                low5_date = [ min_date, low5_date[0], low5_date[1], low5_date[2], low5_date[3]]\n",
    "        except ValueError:\n",
    "            print(\"데이터에 이상이 있습니다. - \", splitData[0])\n",
    "\n",
    "print(max_temp, max_date)\n",
    "print(min_temp, min_date)\n",
    "\n",
    "print(top5_temp)\n",
    "print(top5_date)\n",
    "\n",
    "print(low5_temp)\n",
    "print(low5_date)\n",
    "f.close()\n"
   ]
  },
  {
   "cell_type": "code",
   "execution_count": 109,
   "metadata": {},
   "outputs": [
    {
     "output_type": "execute_result",
     "data": {
      "text/plain": "['\\n']"
     },
     "metadata": {},
     "execution_count": 109
    }
   ],
   "source": [
    "splitData\n"
   ]
  },
  {
   "cell_type": "code",
   "execution_count": 116,
   "metadata": {
    "tags": []
   },
   "outputs": [
    {
     "output_type": "stream",
     "name": "stdout",
     "text": "10 <class 'int'>\n"
    }
   ],
   "source": [
    "a =10\n",
    "print(a, type(a))"
   ]
  },
  {
   "cell_type": "code",
   "execution_count": 156,
   "metadata": {},
   "outputs": [],
   "source": [
    "top5_temp = 999,998,997,996,995 \n"
   ]
  },
  {
   "cell_type": "code",
   "execution_count": 157,
   "metadata": {},
   "outputs": [
    {
     "output_type": "execute_result",
     "data": {
      "text/plain": "(999, 998, 997, 996, 995)"
     },
     "metadata": {},
     "execution_count": 157
    }
   ],
   "source": [
    "top5_temp\n"
   ]
  },
  {
   "cell_type": "code",
   "execution_count": 158,
   "metadata": {},
   "outputs": [
    {
     "output_type": "execute_result",
     "data": {
      "text/plain": "998"
     },
     "metadata": {},
     "execution_count": 158
    }
   ],
   "source": [
    "top5_temp[1]"
   ]
  },
  {
   "cell_type": "code",
   "execution_count": null,
   "metadata": {},
   "outputs": [],
   "source": []
  }
 ]
}