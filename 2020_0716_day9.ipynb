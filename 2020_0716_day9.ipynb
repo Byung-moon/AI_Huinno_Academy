{
 "cells": [
  {
   "cell_type": "code",
   "execution_count": 19,
   "metadata": {},
   "outputs": [],
   "source": [
    "def changeTemp(tem):\n",
    "    menuNum = 0\n",
    "    while True:\n",
    "        print(\"'c' 섭씨온도에서 화씨온도올 변환\\n'f'화씨온도에서 섭씨온도로 변환\\n'q'종료\")\n",
    "        menuNum = input(\"메뉴에서 선택하세요:\")\n",
    "        tem = float(tem)\n",
    "\n",
    "        if (menuNum == 'c'):\n",
    "            print(\"%.2f C\" % ((tem*9/5)+32))\n",
    "        elif (menuNum == 'f'):\n",
    "            print(\"%.2f F\" % ((tem-32)*5/9))\n",
    "        elif (menuNum == 'q'):\n",
    "            print(\"종료하겠습니다\")\n",
    "            break\n",
    "        "
   ]
  },
  {
   "cell_type": "code",
   "execution_count": 20,
   "metadata": {},
   "outputs": [
    {
     "name": "stdout",
     "output_type": "stream",
     "text": [
      "'c' 섭씨온도에서 화씨온도올 변환\n",
      "'f'화씨온도에서 섭씨온도로 변환\n",
      "'q'종료\n",
      "메뉴에서 선택하세요:c\n",
      "50.00 C\n",
      "'c' 섭씨온도에서 화씨온도올 변환\n",
      "'f'화씨온도에서 섭씨온도로 변환\n",
      "'q'종료\n",
      "메뉴에서 선택하세요:f\n",
      "-12.22 F\n",
      "'c' 섭씨온도에서 화씨온도올 변환\n",
      "'f'화씨온도에서 섭씨온도로 변환\n",
      "'q'종료\n",
      "메뉴에서 선택하세요:\n",
      "'c' 섭씨온도에서 화씨온도올 변환\n",
      "'f'화씨온도에서 섭씨온도로 변환\n",
      "'q'종료\n",
      "메뉴에서 선택하세요:q\n",
      "종료하겠습니다\n"
     ]
    }
   ],
   "source": [
    "changeTemp(10)\n"
   ]
  },
  {
   "cell_type": "code",
   "execution_count": 5,
   "metadata": {},
   "outputs": [],
   "source": [
    "def say_hello(name, msg):\n",
    "    print(\"안녕\",name,\"아\", msg)"
   ]
  },
  {
   "cell_type": "code",
   "execution_count": 6,
   "metadata": {},
   "outputs": [
    {
     "name": "stdout",
     "output_type": "stream",
     "text": [
      "안녕 지연 아 잘자\n"
     ]
    }
   ],
   "source": [
    "say_hello('지연','잘자')"
   ]
  },
  {
   "cell_type": "code",
   "execution_count": 6,
   "metadata": {},
   "outputs": [
    {
     "name": "stdout",
     "output_type": "stream",
     "text": [
      "1 1 2 3 5 8 13 21 34 55 89 144 233 377 610 987 \n"
     ]
    },
    {
     "data": {
      "text/plain": [
       "'myModule'"
      ]
     },
     "execution_count": 6,
     "metadata": {},
     "output_type": "execute_result"
    }
   ],
   "source": [
    "import myModule\n",
    "\n",
    "myModule.fib(1000)\n",
    "\n",
    "myModule.__name__ # __name__ : 현재 코드의 파일 명 출력. 여기서는 myModule.__name__ 이라서 myModule의 이름 출력"
   ]
  },
  {
   "cell_type": "markdown",
   "metadata": {},
   "source": [
    "myModule.py 라는 파일을 명령프롬프트 창에서 python myModule.py 라는 명령어로 실행시키기 위해서는 myModule.py 안에\n",
    "\n",
    "  if __name__ == \"__main__\":\n",
    "  \n",
    "     import sys \n",
    "     fib(int(sys.argv[1])) \n",
    "\n",
    "라는 조건문이 들어가 있어야 한다. 현재 파일(myModule.py)가 메인프로그램(main 함수와 같은 개념)으로 사용되고 있다는 표시. \n",
    "왜냐하면 myModule.py 라는 파일은 스크립트 파일(최초로 시작하는 메인 파일)과 모듈 파일 둘 다로 사용될 수 있는데, \n",
    "따라서 스크립트 파일이 메인 프로그램으로 사용될 때와 모듈로 사용될 때를 구분하기 위한 용도"
   ]
  },
  {
   "cell_type": "markdown",
   "metadata": {},
   "source": [
    "* eval(expression,globals=None,locals=None)\n",
    " - 표현식을 문자열로 입력하고 싶은 경우에 사용\n",
    " - 이 함수는 표현식의 결과를 반환\n",
    " - 식만 입력 가능. 'x=4+5'와 같은 문장은 에러.\n",
    " - 과도하게 사용하면 코드 실행이 느려질 수 있음. 문자열을 파이썬 함수로 치환하는 과정을 거치기 때문. \n",
    " \n",
    " \n",
    "\n",
    "* exec(object[,globals[,locals]])\n",
    " - 파이썬 코드를 동적 실행을 지원\n",
    " - object는 문자열 또는 코드 객체\n",
    " - eval과는 다르게 문장 자체를 입력받음. 'x=4+5'가 가능. 이 함수에서는 값 자체를 반환x. 4+5의 결과값인 9가 들어있는 x를 반환.\n",
    " \n",
    " \n",
    " \n",
    "* compile(source, filename, mode)\n",
    " - source를 코드 또는 AST 객체로 컴파일\n",
    " - 컴파일된 객체는 exec()나 eval()로 실행이 가능\n",
    " - filename은 코드를 읽은 파일을 넣음. 주로 string 을 넣음\n",
    " - 내 파이썬 코드 안에서 특정 파일의 코드 내용을 동작시키고 싶을때 사용\n",
    " \n",
    "\n"
   ]
  },
  {
   "cell_type": "code",
   "execution_count": null,
   "metadata": {},
   "outputs": [],
   "source": []
  }
 ],
 "metadata": {
  "kernelspec": {
   "display_name": "Python 3",
   "language": "python",
   "name": "python3"
  },
  "language_info": {
   "codemirror_mode": {
    "name": "ipython",
    "version": 3
   },
   "file_extension": ".py",
   "mimetype": "text/x-python",
   "name": "python",
   "nbconvert_exporter": "python",
   "pygments_lexer": "ipython3",
   "version": "3.7.6"
  }
 },
 "nbformat": 4,
 "nbformat_minor": 4
}
