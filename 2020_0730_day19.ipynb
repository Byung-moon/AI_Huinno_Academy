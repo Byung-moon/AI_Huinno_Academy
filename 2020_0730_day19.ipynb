{
 "metadata": {
  "language_info": {
   "codemirror_mode": {
    "name": "ipython",
    "version": 3
   },
   "file_extension": ".py",
   "mimetype": "text/x-python",
   "name": "python",
   "nbconvert_exporter": "python",
   "pygments_lexer": "ipython3",
   "version": "3.7.6-final"
  },
  "orig_nbformat": 2,
  "kernelspec": {
   "name": "python_defaultSpec_1596069721120",
   "display_name": "Python 3.7.6 64-bit ('base': conda)"
  }
 },
 "nbformat": 4,
 "nbformat_minor": 2,
 "cells": [
  {
   "cell_type": "code",
   "execution_count": 1,
   "metadata": {},
   "outputs": [],
   "source": [
    "import pandas as pd\n",
    "import numpy as np"
   ]
  },
  {
   "cell_type": "code",
   "execution_count": 2,
   "metadata": {},
   "outputs": [],
   "source": [
    "casts = pd.read_csv('cast.csv')"
   ]
  },
  {
   "cell_type": "code",
   "execution_count": 3,
   "metadata": {},
   "outputs": [],
   "source": [
    "cm = casts.set_index(['title','n']).sort_index()"
   ]
  },
  {
   "cell_type": "code",
   "execution_count": 4,
   "metadata": {},
   "outputs": [
    {
     "output_type": "execute_result",
     "data": {
      "text/plain": "      year                 name     type        character\nn                                                        \n4.0   1916  Spottiswoode Aitken    actor           Duncan\n6.0   1916           Mary Alden  actress     Lady Macduff\n18.0  1948       William Alland    actor  Second Murderer\n21.0  1997         Stevie Allen    actor         Murderer\nNaN   2015       Darren Adamson    actor          Soldier\nNaN   1948          Robert Alan    actor   Third Murderer\nNaN   2016        John Albasiny    actor           Doctor\nNaN   2014          Moyo Akand?  actress            Witch",
      "text/html": "<div>\n<style scoped>\n    .dataframe tbody tr th:only-of-type {\n        vertical-align: middle;\n    }\n\n    .dataframe tbody tr th {\n        vertical-align: top;\n    }\n\n    .dataframe thead th {\n        text-align: right;\n    }\n</style>\n<table border=\"1\" class=\"dataframe\">\n  <thead>\n    <tr style=\"text-align: right;\">\n      <th></th>\n      <th>year</th>\n      <th>name</th>\n      <th>type</th>\n      <th>character</th>\n    </tr>\n    <tr>\n      <th>n</th>\n      <th></th>\n      <th></th>\n      <th></th>\n      <th></th>\n    </tr>\n  </thead>\n  <tbody>\n    <tr>\n      <th>4.0</th>\n      <td>1916</td>\n      <td>Spottiswoode Aitken</td>\n      <td>actor</td>\n      <td>Duncan</td>\n    </tr>\n    <tr>\n      <th>6.0</th>\n      <td>1916</td>\n      <td>Mary Alden</td>\n      <td>actress</td>\n      <td>Lady Macduff</td>\n    </tr>\n    <tr>\n      <th>18.0</th>\n      <td>1948</td>\n      <td>William Alland</td>\n      <td>actor</td>\n      <td>Second Murderer</td>\n    </tr>\n    <tr>\n      <th>21.0</th>\n      <td>1997</td>\n      <td>Stevie Allen</td>\n      <td>actor</td>\n      <td>Murderer</td>\n    </tr>\n    <tr>\n      <th>NaN</th>\n      <td>2015</td>\n      <td>Darren Adamson</td>\n      <td>actor</td>\n      <td>Soldier</td>\n    </tr>\n    <tr>\n      <th>NaN</th>\n      <td>1948</td>\n      <td>Robert Alan</td>\n      <td>actor</td>\n      <td>Third Murderer</td>\n    </tr>\n    <tr>\n      <th>NaN</th>\n      <td>2016</td>\n      <td>John Albasiny</td>\n      <td>actor</td>\n      <td>Doctor</td>\n    </tr>\n    <tr>\n      <th>NaN</th>\n      <td>2014</td>\n      <td>Moyo Akand?</td>\n      <td>actress</td>\n      <td>Witch</td>\n    </tr>\n  </tbody>\n</table>\n</div>"
     },
     "metadata": {},
     "execution_count": 4
    }
   ],
   "source": [
    "cm.loc['Macbeth']"
   ]
  },
  {
   "cell_type": "code",
   "execution_count": 5,
   "metadata": {},
   "outputs": [
    {
     "output_type": "execute_result",
     "data": {
      "text/plain": "      year                 name     type        character\nn                                                        \n4.0   1916  Spottiswoode Aitken    actor           Duncan\n6.0   1916           Mary Alden  actress     Lady Macduff\n18.0  1948       William Alland    actor  Second Murderer",
      "text/html": "<div>\n<style scoped>\n    .dataframe tbody tr th:only-of-type {\n        vertical-align: middle;\n    }\n\n    .dataframe tbody tr th {\n        vertical-align: top;\n    }\n\n    .dataframe thead th {\n        text-align: right;\n    }\n</style>\n<table border=\"1\" class=\"dataframe\">\n  <thead>\n    <tr style=\"text-align: right;\">\n      <th></th>\n      <th>year</th>\n      <th>name</th>\n      <th>type</th>\n      <th>character</th>\n    </tr>\n    <tr>\n      <th>n</th>\n      <th></th>\n      <th></th>\n      <th></th>\n      <th></th>\n    </tr>\n  </thead>\n  <tbody>\n    <tr>\n      <th>4.0</th>\n      <td>1916</td>\n      <td>Spottiswoode Aitken</td>\n      <td>actor</td>\n      <td>Duncan</td>\n    </tr>\n    <tr>\n      <th>6.0</th>\n      <td>1916</td>\n      <td>Mary Alden</td>\n      <td>actress</td>\n      <td>Lady Macduff</td>\n    </tr>\n    <tr>\n      <th>18.0</th>\n      <td>1948</td>\n      <td>William Alland</td>\n      <td>actor</td>\n      <td>Second Murderer</td>\n    </tr>\n  </tbody>\n</table>\n</div>"
     },
     "metadata": {},
     "execution_count": 5
    }
   ],
   "source": [
    "cm.loc['Macbeth'].loc[4:18]     # n 값이 4~18 사이인 것만 출력"
   ]
  },
  {
   "cell_type": "code",
   "execution_count": 6,
   "metadata": {},
   "outputs": [
    {
     "output_type": "execute_result",
     "data": {
      "text/plain": "     year            name     type       character\nn                                                 \nNaN  2015  Darren Adamson    actor         Soldier\nNaN  1948     Robert Alan    actor  Third Murderer\nNaN  2016   John Albasiny    actor          Doctor\nNaN  2014     Moyo Akand?  actress           Witch",
      "text/html": "<div>\n<style scoped>\n    .dataframe tbody tr th:only-of-type {\n        vertical-align: middle;\n    }\n\n    .dataframe tbody tr th {\n        vertical-align: top;\n    }\n\n    .dataframe thead th {\n        text-align: right;\n    }\n</style>\n<table border=\"1\" class=\"dataframe\">\n  <thead>\n    <tr style=\"text-align: right;\">\n      <th></th>\n      <th>year</th>\n      <th>name</th>\n      <th>type</th>\n      <th>character</th>\n    </tr>\n    <tr>\n      <th>n</th>\n      <th></th>\n      <th></th>\n      <th></th>\n      <th></th>\n    </tr>\n  </thead>\n  <tbody>\n    <tr>\n      <th>NaN</th>\n      <td>2015</td>\n      <td>Darren Adamson</td>\n      <td>actor</td>\n      <td>Soldier</td>\n    </tr>\n    <tr>\n      <th>NaN</th>\n      <td>1948</td>\n      <td>Robert Alan</td>\n      <td>actor</td>\n      <td>Third Murderer</td>\n    </tr>\n    <tr>\n      <th>NaN</th>\n      <td>2016</td>\n      <td>John Albasiny</td>\n      <td>actor</td>\n      <td>Doctor</td>\n    </tr>\n    <tr>\n      <th>NaN</th>\n      <td>2014</td>\n      <td>Moyo Akand?</td>\n      <td>actress</td>\n      <td>Witch</td>\n    </tr>\n  </tbody>\n</table>\n</div>"
     },
     "metadata": {},
     "execution_count": 6
    }
   ],
   "source": [
    "cm.loc['Macbeth'].iloc[4:18]    #4행부터 18행까지 선택. 8행까지 밖에 없으므로 8행까지 선택."
   ]
  },
  {
   "cell_type": "code",
   "execution_count": 7,
   "metadata": {},
   "outputs": [],
   "source": [
    "cm = cm.reset_index('n')    # index에서 'n' 을 제거"
   ]
  },
  {
   "cell_type": "code",
   "execution_count": 9,
   "metadata": {},
   "outputs": [
    {
     "output_type": "execute_result",
     "data": {
      "text/plain": "                        n  year                name     type  \\\ntitle                                                          \n#1 Serial Killer     17.0  2013       Michael Alton    actor   \n#DigitalLivesMatter   NaN  2016          Rashan Ali  actress   \n#FromJennifer         NaN  2017        Aaron Abrams    actor   \n#FromJennifer         NaN  2017  Christian Ackerman    actor   \n#Horror               1.0  2015          Emma Adler  actress   \n\n                             character  \ntitle                                   \n#1 Serial Killer     Detective Roberts  \n#DigitalLivesMatter      News Reporter  \n#FromJennifer           Ralph Sinclair  \n#FromJennifer                    Simon  \n#Horror                        Georgie  ",
      "text/html": "<div>\n<style scoped>\n    .dataframe tbody tr th:only-of-type {\n        vertical-align: middle;\n    }\n\n    .dataframe tbody tr th {\n        vertical-align: top;\n    }\n\n    .dataframe thead th {\n        text-align: right;\n    }\n</style>\n<table border=\"1\" class=\"dataframe\">\n  <thead>\n    <tr style=\"text-align: right;\">\n      <th></th>\n      <th>n</th>\n      <th>year</th>\n      <th>name</th>\n      <th>type</th>\n      <th>character</th>\n    </tr>\n    <tr>\n      <th>title</th>\n      <th></th>\n      <th></th>\n      <th></th>\n      <th></th>\n      <th></th>\n    </tr>\n  </thead>\n  <tbody>\n    <tr>\n      <th>#1 Serial Killer</th>\n      <td>17.0</td>\n      <td>2013</td>\n      <td>Michael Alton</td>\n      <td>actor</td>\n      <td>Detective Roberts</td>\n    </tr>\n    <tr>\n      <th>#DigitalLivesMatter</th>\n      <td>NaN</td>\n      <td>2016</td>\n      <td>Rashan Ali</td>\n      <td>actress</td>\n      <td>News Reporter</td>\n    </tr>\n    <tr>\n      <th>#FromJennifer</th>\n      <td>NaN</td>\n      <td>2017</td>\n      <td>Aaron Abrams</td>\n      <td>actor</td>\n      <td>Ralph Sinclair</td>\n    </tr>\n    <tr>\n      <th>#FromJennifer</th>\n      <td>NaN</td>\n      <td>2017</td>\n      <td>Christian Ackerman</td>\n      <td>actor</td>\n      <td>Simon</td>\n    </tr>\n    <tr>\n      <th>#Horror</th>\n      <td>1.0</td>\n      <td>2015</td>\n      <td>Emma Adler</td>\n      <td>actress</td>\n      <td>Georgie</td>\n    </tr>\n  </tbody>\n</table>\n</div>"
     },
     "metadata": {},
     "execution_count": 9
    }
   ],
   "source": [
    "cm.head()"
   ]
  },
  {
   "cell_type": "markdown",
   "metadata": {},
   "source": [
    "## daegu_temp_20years.csv 파일을 수정하지 않고, read_csv()로 읽어서,\n",
    "\n",
    "1. 최고온도, 최저온도 정보를 구해보고\n",
    "\n",
    "2. 최고온도 top10, 최저 top 10 을 구해보세요"
   ]
  },
  {
   "cell_type": "code",
   "execution_count": 39,
   "metadata": {},
   "outputs": [],
   "source": [
    "temp20 = pd.read_csv('daegu_temp_20years.csv', encoding = 'CP949', index_col=0)  ## encoding = 'CP949'를 추가하여 인코딩 에러 해결"
   ]
  },
  {
   "cell_type": "code",
   "execution_count": 40,
   "metadata": {},
   "outputs": [
    {
     "output_type": "execute_result",
     "data": {
      "text/plain": "                       Unnamed: 1 Unnamed: 2 Unnamed: 3 Unnamed: 4\n기온분석                                                              \n[검색조건]                        NaN        NaN        NaN        NaN\n자료구분 : 일                      NaN        NaN        NaN        NaN\n자료형태 : 기본                     NaN        NaN        NaN        NaN\n지역/지점 : 대구                    NaN        NaN        NaN        NaN\n기간 : 20000621~20200720        NaN        NaN        NaN        NaN\n...                           ...        ...        ...        ...\n2020-07-16                    143       22.2       16.8       28.8\n2020-07-17                    143       22.7       17.3       28.8\n2020-07-18                    143       22.4       16.8       27.6\n2020-07-19                    143       24.3       20.5         28\n2020-07-20                    143       29.1       25.9       32.8\n\n[7342 rows x 4 columns]",
      "text/html": "<div>\n<style scoped>\n    .dataframe tbody tr th:only-of-type {\n        vertical-align: middle;\n    }\n\n    .dataframe tbody tr th {\n        vertical-align: top;\n    }\n\n    .dataframe thead th {\n        text-align: right;\n    }\n</style>\n<table border=\"1\" class=\"dataframe\">\n  <thead>\n    <tr style=\"text-align: right;\">\n      <th></th>\n      <th>Unnamed: 1</th>\n      <th>Unnamed: 2</th>\n      <th>Unnamed: 3</th>\n      <th>Unnamed: 4</th>\n    </tr>\n    <tr>\n      <th>기온분석</th>\n      <th></th>\n      <th></th>\n      <th></th>\n      <th></th>\n    </tr>\n  </thead>\n  <tbody>\n    <tr>\n      <th>[검색조건]</th>\n      <td>NaN</td>\n      <td>NaN</td>\n      <td>NaN</td>\n      <td>NaN</td>\n    </tr>\n    <tr>\n      <th>자료구분 : 일</th>\n      <td>NaN</td>\n      <td>NaN</td>\n      <td>NaN</td>\n      <td>NaN</td>\n    </tr>\n    <tr>\n      <th>자료형태 : 기본</th>\n      <td>NaN</td>\n      <td>NaN</td>\n      <td>NaN</td>\n      <td>NaN</td>\n    </tr>\n    <tr>\n      <th>지역/지점 : 대구</th>\n      <td>NaN</td>\n      <td>NaN</td>\n      <td>NaN</td>\n      <td>NaN</td>\n    </tr>\n    <tr>\n      <th>기간 : 20000621~20200720</th>\n      <td>NaN</td>\n      <td>NaN</td>\n      <td>NaN</td>\n      <td>NaN</td>\n    </tr>\n    <tr>\n      <th>...</th>\n      <td>...</td>\n      <td>...</td>\n      <td>...</td>\n      <td>...</td>\n    </tr>\n    <tr>\n      <th>2020-07-16</th>\n      <td>143</td>\n      <td>22.2</td>\n      <td>16.8</td>\n      <td>28.8</td>\n    </tr>\n    <tr>\n      <th>2020-07-17</th>\n      <td>143</td>\n      <td>22.7</td>\n      <td>17.3</td>\n      <td>28.8</td>\n    </tr>\n    <tr>\n      <th>2020-07-18</th>\n      <td>143</td>\n      <td>22.4</td>\n      <td>16.8</td>\n      <td>27.6</td>\n    </tr>\n    <tr>\n      <th>2020-07-19</th>\n      <td>143</td>\n      <td>24.3</td>\n      <td>20.5</td>\n      <td>28</td>\n    </tr>\n    <tr>\n      <th>2020-07-20</th>\n      <td>143</td>\n      <td>29.1</td>\n      <td>25.9</td>\n      <td>32.8</td>\n    </tr>\n  </tbody>\n</table>\n<p>7342 rows × 4 columns</p>\n</div>"
     },
     "metadata": {},
     "execution_count": 40
    }
   ],
   "source": [
    "temp20"
   ]
  },
  {
   "cell_type": "code",
   "execution_count": 25,
   "metadata": {},
   "outputs": [
    {
     "output_type": "execute_result",
     "data": {
      "text/plain": "                       Unnamed: 1 Unnamed: 2 Unnamed: 3 Unnamed: 4\n기온분석                                                              \n[검색조건]                        NaN        NaN        NaN        NaN\n자료구분 : 일                      NaN        NaN        NaN        NaN\n자료형태 : 기본                     NaN        NaN        NaN        NaN\n지역/지점 : 대구                    NaN        NaN        NaN        NaN\n기간 : 20000621~20200720        NaN        NaN        NaN        NaN\n...                           ...        ...        ...        ...\n2020-07-16                    143       22.2       16.8       28.8\n2020-07-17                    143       22.7       17.3       28.8\n2020-07-18                    143       22.4       16.8       27.6\n2020-07-19                    143       24.3       20.5         28\n2020-07-20                    143       29.1       25.9       32.8\n\n[7342 rows x 4 columns]",
      "text/html": "<div>\n<style scoped>\n    .dataframe tbody tr th:only-of-type {\n        vertical-align: middle;\n    }\n\n    .dataframe tbody tr th {\n        vertical-align: top;\n    }\n\n    .dataframe thead th {\n        text-align: right;\n    }\n</style>\n<table border=\"1\" class=\"dataframe\">\n  <thead>\n    <tr style=\"text-align: right;\">\n      <th></th>\n      <th>Unnamed: 1</th>\n      <th>Unnamed: 2</th>\n      <th>Unnamed: 3</th>\n      <th>Unnamed: 4</th>\n    </tr>\n    <tr>\n      <th>기온분석</th>\n      <th></th>\n      <th></th>\n      <th></th>\n      <th></th>\n    </tr>\n  </thead>\n  <tbody>\n    <tr>\n      <th>[검색조건]</th>\n      <td>NaN</td>\n      <td>NaN</td>\n      <td>NaN</td>\n      <td>NaN</td>\n    </tr>\n    <tr>\n      <th>자료구분 : 일</th>\n      <td>NaN</td>\n      <td>NaN</td>\n      <td>NaN</td>\n      <td>NaN</td>\n    </tr>\n    <tr>\n      <th>자료형태 : 기본</th>\n      <td>NaN</td>\n      <td>NaN</td>\n      <td>NaN</td>\n      <td>NaN</td>\n    </tr>\n    <tr>\n      <th>지역/지점 : 대구</th>\n      <td>NaN</td>\n      <td>NaN</td>\n      <td>NaN</td>\n      <td>NaN</td>\n    </tr>\n    <tr>\n      <th>기간 : 20000621~20200720</th>\n      <td>NaN</td>\n      <td>NaN</td>\n      <td>NaN</td>\n      <td>NaN</td>\n    </tr>\n    <tr>\n      <th>...</th>\n      <td>...</td>\n      <td>...</td>\n      <td>...</td>\n      <td>...</td>\n    </tr>\n    <tr>\n      <th>2020-07-16</th>\n      <td>143</td>\n      <td>22.2</td>\n      <td>16.8</td>\n      <td>28.8</td>\n    </tr>\n    <tr>\n      <th>2020-07-17</th>\n      <td>143</td>\n      <td>22.7</td>\n      <td>17.3</td>\n      <td>28.8</td>\n    </tr>\n    <tr>\n      <th>2020-07-18</th>\n      <td>143</td>\n      <td>22.4</td>\n      <td>16.8</td>\n      <td>27.6</td>\n    </tr>\n    <tr>\n      <th>2020-07-19</th>\n      <td>143</td>\n      <td>24.3</td>\n      <td>20.5</td>\n      <td>28</td>\n    </tr>\n    <tr>\n      <th>2020-07-20</th>\n      <td>143</td>\n      <td>29.1</td>\n      <td>25.9</td>\n      <td>32.8</td>\n    </tr>\n  </tbody>\n</table>\n<p>7342 rows × 4 columns</p>\n</div>"
     },
     "metadata": {},
     "execution_count": 25
    }
   ],
   "source": [
    "temp20.set_index(['기온분석'])"
   ]
  },
  {
   "cell_type": "code",
   "execution_count": 27,
   "metadata": {},
   "outputs": [],
   "source": [
    "temp20_2 = pd.DataFrame(temp20, columns = ['지점', '평균기온', '최저기온', '최고기온'])"
   ]
  },
  {
   "cell_type": "code",
   "execution_count": 28,
   "metadata": {},
   "outputs": [
    {
     "output_type": "execute_result",
     "data": {
      "text/plain": "      지점  평균기온  최저기온  최고기온\n0    NaN   NaN   NaN   NaN\n1    NaN   NaN   NaN   NaN\n2    NaN   NaN   NaN   NaN\n3    NaN   NaN   NaN   NaN\n4    NaN   NaN   NaN   NaN\n...   ..   ...   ...   ...\n7337 NaN   NaN   NaN   NaN\n7338 NaN   NaN   NaN   NaN\n7339 NaN   NaN   NaN   NaN\n7340 NaN   NaN   NaN   NaN\n7341 NaN   NaN   NaN   NaN\n\n[7342 rows x 4 columns]",
      "text/html": "<div>\n<style scoped>\n    .dataframe tbody tr th:only-of-type {\n        vertical-align: middle;\n    }\n\n    .dataframe tbody tr th {\n        vertical-align: top;\n    }\n\n    .dataframe thead th {\n        text-align: right;\n    }\n</style>\n<table border=\"1\" class=\"dataframe\">\n  <thead>\n    <tr style=\"text-align: right;\">\n      <th></th>\n      <th>지점</th>\n      <th>평균기온</th>\n      <th>최저기온</th>\n      <th>최고기온</th>\n    </tr>\n  </thead>\n  <tbody>\n    <tr>\n      <th>0</th>\n      <td>NaN</td>\n      <td>NaN</td>\n      <td>NaN</td>\n      <td>NaN</td>\n    </tr>\n    <tr>\n      <th>1</th>\n      <td>NaN</td>\n      <td>NaN</td>\n      <td>NaN</td>\n      <td>NaN</td>\n    </tr>\n    <tr>\n      <th>2</th>\n      <td>NaN</td>\n      <td>NaN</td>\n      <td>NaN</td>\n      <td>NaN</td>\n    </tr>\n    <tr>\n      <th>3</th>\n      <td>NaN</td>\n      <td>NaN</td>\n      <td>NaN</td>\n      <td>NaN</td>\n    </tr>\n    <tr>\n      <th>4</th>\n      <td>NaN</td>\n      <td>NaN</td>\n      <td>NaN</td>\n      <td>NaN</td>\n    </tr>\n    <tr>\n      <th>...</th>\n      <td>...</td>\n      <td>...</td>\n      <td>...</td>\n      <td>...</td>\n    </tr>\n    <tr>\n      <th>7337</th>\n      <td>NaN</td>\n      <td>NaN</td>\n      <td>NaN</td>\n      <td>NaN</td>\n    </tr>\n    <tr>\n      <th>7338</th>\n      <td>NaN</td>\n      <td>NaN</td>\n      <td>NaN</td>\n      <td>NaN</td>\n    </tr>\n    <tr>\n      <th>7339</th>\n      <td>NaN</td>\n      <td>NaN</td>\n      <td>NaN</td>\n      <td>NaN</td>\n    </tr>\n    <tr>\n      <th>7340</th>\n      <td>NaN</td>\n      <td>NaN</td>\n      <td>NaN</td>\n      <td>NaN</td>\n    </tr>\n    <tr>\n      <th>7341</th>\n      <td>NaN</td>\n      <td>NaN</td>\n      <td>NaN</td>\n      <td>NaN</td>\n    </tr>\n  </tbody>\n</table>\n<p>7342 rows × 4 columns</p>\n</div>"
     },
     "metadata": {},
     "execution_count": 28
    }
   ],
   "source": [
    "temp20_2"
   ]
  },
  {
   "cell_type": "markdown",
   "metadata": {},
   "source": [
    "## 풀이"
   ]
  },
  {
   "cell_type": "code",
   "execution_count": 49,
   "metadata": {},
   "outputs": [],
   "source": [
    "# windows에서 쓰는 파일 중, 한글을 포함하는 파일이 utf-8 형식이 아닌 경우가 많음. \n",
    "# ms949 가 Windows에서 사용하는 한글 인코딩 방법.\n",
    "\n",
    "df_tempdata = pd.read_csv('daegu_temp_20years.csv', encoding = 'ms949', skiprows=7)     "
   ]
  },
  {
   "cell_type": "code",
   "execution_count": 50,
   "metadata": {},
   "outputs": [
    {
     "output_type": "execute_result",
     "data": {
      "text/plain": "7335"
     },
     "metadata": {},
     "execution_count": 50
    }
   ],
   "source": [
    "len(df_tempdata)"
   ]
  },
  {
   "cell_type": "code",
   "execution_count": 46,
   "metadata": {},
   "outputs": [
    {
     "output_type": "execute_result",
     "data": {
      "text/plain": "(7335, 5)"
     },
     "metadata": {},
     "execution_count": 46
    }
   ],
   "source": [
    "df_tempdata.shape"
   ]
  },
  {
   "cell_type": "code",
   "execution_count": 51,
   "metadata": {},
   "outputs": [
    {
     "output_type": "execute_result",
     "data": {
      "text/plain": "           날짜   지점  평균기온(℃)  최저기온(℃)  최고기온(℃)\n0  2000-06-21  143     26.9     23.2     33.0\n1  2000-06-22  143     21.5     20.3     23.4\n2  2000-06-23  143     24.0     20.7     28.3\n3  2000-06-24  143     21.2     20.1     22.4\n4  2000-06-25  143     23.4     20.2     26.9",
      "text/html": "<div>\n<style scoped>\n    .dataframe tbody tr th:only-of-type {\n        vertical-align: middle;\n    }\n\n    .dataframe tbody tr th {\n        vertical-align: top;\n    }\n\n    .dataframe thead th {\n        text-align: right;\n    }\n</style>\n<table border=\"1\" class=\"dataframe\">\n  <thead>\n    <tr style=\"text-align: right;\">\n      <th></th>\n      <th>날짜</th>\n      <th>지점</th>\n      <th>평균기온(℃)</th>\n      <th>최저기온(℃)</th>\n      <th>최고기온(℃)</th>\n    </tr>\n  </thead>\n  <tbody>\n    <tr>\n      <th>0</th>\n      <td>2000-06-21</td>\n      <td>143</td>\n      <td>26.9</td>\n      <td>23.2</td>\n      <td>33.0</td>\n    </tr>\n    <tr>\n      <th>1</th>\n      <td>2000-06-22</td>\n      <td>143</td>\n      <td>21.5</td>\n      <td>20.3</td>\n      <td>23.4</td>\n    </tr>\n    <tr>\n      <th>2</th>\n      <td>2000-06-23</td>\n      <td>143</td>\n      <td>24.0</td>\n      <td>20.7</td>\n      <td>28.3</td>\n    </tr>\n    <tr>\n      <th>3</th>\n      <td>2000-06-24</td>\n      <td>143</td>\n      <td>21.2</td>\n      <td>20.1</td>\n      <td>22.4</td>\n    </tr>\n    <tr>\n      <th>4</th>\n      <td>2000-06-25</td>\n      <td>143</td>\n      <td>23.4</td>\n      <td>20.2</td>\n      <td>26.9</td>\n    </tr>\n  </tbody>\n</table>\n</div>"
     },
     "metadata": {},
     "execution_count": 51
    }
   ],
   "source": [
    "df_tempdata.head()"
   ]
  },
  {
   "cell_type": "code",
   "execution_count": 52,
   "metadata": {},
   "outputs": [
    {
     "output_type": "execute_result",
     "data": {
      "text/plain": "             지점  평균기온(℃)  최저기온(℃)  최고기온(℃)\n날짜                                        \n2000-06-21  143     26.9     23.2     33.0\n2000-06-22  143     21.5     20.3     23.4\n2000-06-23  143     24.0     20.7     28.3\n2000-06-24  143     21.2     20.1     22.4\n2000-06-25  143     23.4     20.2     26.9\n...         ...      ...      ...      ...\n2020-07-16  143     22.2     16.8     28.8\n2020-07-17  143     22.7     17.3     28.8\n2020-07-18  143     22.4     16.8     27.6\n2020-07-19  143     24.3     20.5     28.0\n2020-07-20  143     29.1     25.9     32.8\n\n[7335 rows x 4 columns]",
      "text/html": "<div>\n<style scoped>\n    .dataframe tbody tr th:only-of-type {\n        vertical-align: middle;\n    }\n\n    .dataframe tbody tr th {\n        vertical-align: top;\n    }\n\n    .dataframe thead th {\n        text-align: right;\n    }\n</style>\n<table border=\"1\" class=\"dataframe\">\n  <thead>\n    <tr style=\"text-align: right;\">\n      <th></th>\n      <th>지점</th>\n      <th>평균기온(℃)</th>\n      <th>최저기온(℃)</th>\n      <th>최고기온(℃)</th>\n    </tr>\n    <tr>\n      <th>날짜</th>\n      <th></th>\n      <th></th>\n      <th></th>\n      <th></th>\n    </tr>\n  </thead>\n  <tbody>\n    <tr>\n      <th>2000-06-21</th>\n      <td>143</td>\n      <td>26.9</td>\n      <td>23.2</td>\n      <td>33.0</td>\n    </tr>\n    <tr>\n      <th>2000-06-22</th>\n      <td>143</td>\n      <td>21.5</td>\n      <td>20.3</td>\n      <td>23.4</td>\n    </tr>\n    <tr>\n      <th>2000-06-23</th>\n      <td>143</td>\n      <td>24.0</td>\n      <td>20.7</td>\n      <td>28.3</td>\n    </tr>\n    <tr>\n      <th>2000-06-24</th>\n      <td>143</td>\n      <td>21.2</td>\n      <td>20.1</td>\n      <td>22.4</td>\n    </tr>\n    <tr>\n      <th>2000-06-25</th>\n      <td>143</td>\n      <td>23.4</td>\n      <td>20.2</td>\n      <td>26.9</td>\n    </tr>\n    <tr>\n      <th>...</th>\n      <td>...</td>\n      <td>...</td>\n      <td>...</td>\n      <td>...</td>\n    </tr>\n    <tr>\n      <th>2020-07-16</th>\n      <td>143</td>\n      <td>22.2</td>\n      <td>16.8</td>\n      <td>28.8</td>\n    </tr>\n    <tr>\n      <th>2020-07-17</th>\n      <td>143</td>\n      <td>22.7</td>\n      <td>17.3</td>\n      <td>28.8</td>\n    </tr>\n    <tr>\n      <th>2020-07-18</th>\n      <td>143</td>\n      <td>22.4</td>\n      <td>16.8</td>\n      <td>27.6</td>\n    </tr>\n    <tr>\n      <th>2020-07-19</th>\n      <td>143</td>\n      <td>24.3</td>\n      <td>20.5</td>\n      <td>28.0</td>\n    </tr>\n    <tr>\n      <th>2020-07-20</th>\n      <td>143</td>\n      <td>29.1</td>\n      <td>25.9</td>\n      <td>32.8</td>\n    </tr>\n  </tbody>\n</table>\n<p>7335 rows × 4 columns</p>\n</div>"
     },
     "metadata": {},
     "execution_count": 52
    }
   ],
   "source": [
    "df_tempdata.set_index('날짜')"
   ]
  },
  {
   "cell_type": "code",
   "execution_count": 54,
   "metadata": {},
   "outputs": [
    {
     "output_type": "execute_result",
     "data": {
      "text/plain": "              날짜   지점  평균기온(℃)  최저기온(℃)  최고기온(℃)\n7330  2020-07-16  143     22.2     16.8     28.8\n7331  2020-07-17  143     22.7     17.3     28.8\n7332  2020-07-18  143     22.4     16.8     27.6\n7333  2020-07-19  143     24.3     20.5     28.0\n7334  2020-07-20  143     29.1     25.9     32.8",
      "text/html": "<div>\n<style scoped>\n    .dataframe tbody tr th:only-of-type {\n        vertical-align: middle;\n    }\n\n    .dataframe tbody tr th {\n        vertical-align: top;\n    }\n\n    .dataframe thead th {\n        text-align: right;\n    }\n</style>\n<table border=\"1\" class=\"dataframe\">\n  <thead>\n    <tr style=\"text-align: right;\">\n      <th></th>\n      <th>날짜</th>\n      <th>지점</th>\n      <th>평균기온(℃)</th>\n      <th>최저기온(℃)</th>\n      <th>최고기온(℃)</th>\n    </tr>\n  </thead>\n  <tbody>\n    <tr>\n      <th>7330</th>\n      <td>2020-07-16</td>\n      <td>143</td>\n      <td>22.2</td>\n      <td>16.8</td>\n      <td>28.8</td>\n    </tr>\n    <tr>\n      <th>7331</th>\n      <td>2020-07-17</td>\n      <td>143</td>\n      <td>22.7</td>\n      <td>17.3</td>\n      <td>28.8</td>\n    </tr>\n    <tr>\n      <th>7332</th>\n      <td>2020-07-18</td>\n      <td>143</td>\n      <td>22.4</td>\n      <td>16.8</td>\n      <td>27.6</td>\n    </tr>\n    <tr>\n      <th>7333</th>\n      <td>2020-07-19</td>\n      <td>143</td>\n      <td>24.3</td>\n      <td>20.5</td>\n      <td>28.0</td>\n    </tr>\n    <tr>\n      <th>7334</th>\n      <td>2020-07-20</td>\n      <td>143</td>\n      <td>29.1</td>\n      <td>25.9</td>\n      <td>32.8</td>\n    </tr>\n  </tbody>\n</table>\n</div>"
     },
     "metadata": {},
     "execution_count": 54
    }
   ],
   "source": [
    "df_tempdata.tail()"
   ]
  },
  {
   "cell_type": "code",
   "execution_count": 55,
   "metadata": {},
   "outputs": [
    {
     "output_type": "execute_result",
     "data": {
      "text/plain": "0       33.0\n1       23.4\n2       28.3\n3       22.4\n4       26.9\n        ... \n7330    28.8\n7331    28.8\n7332    27.6\n7333    28.0\n7334    32.8\nName: 최고기온(℃), Length: 7335, dtype: float64"
     },
     "metadata": {},
     "execution_count": 55
    }
   ],
   "source": [
    "df_tempdata['최고기온(℃)']"
   ]
  },
  {
   "cell_type": "code",
   "execution_count": 56,
   "metadata": {},
   "outputs": [
    {
     "output_type": "execute_result",
     "data": {
      "text/plain": "39.2"
     },
     "metadata": {},
     "execution_count": 56
    }
   ],
   "source": [
    "df_tempdata['최고기온(℃)'].max()    # 최고기온 구하기   "
   ]
  },
  {
   "cell_type": "code",
   "execution_count": 60,
   "metadata": {},
   "outputs": [
    {
     "output_type": "execute_result",
     "data": {
      "text/plain": "-13.9"
     },
     "metadata": {},
     "execution_count": 60
    }
   ],
   "source": [
    "df_tempdata['최저기온(℃)'].min()    # 최저기온 구하기"
   ]
  },
  {
   "cell_type": "code",
   "execution_count": 66,
   "metadata": {},
   "outputs": [
    {
     "output_type": "execute_result",
     "data": {
      "text/plain": "6610"
     },
     "metadata": {},
     "execution_count": 66
    }
   ],
   "source": [
    "df_tempdata['최고기온(℃)'].idxmax()  # 최고기온을 갖는 index 출력"
   ]
  },
  {
   "cell_type": "code",
   "execution_count": 65,
   "metadata": {},
   "outputs": [
    {
     "output_type": "execute_result",
     "data": {
      "text/plain": "날짜         2018-07-27\n지점                143\n평균기온(℃)          32.4\n최저기온(℃)          28.6\n최고기온(℃)          39.2\nName: 6610, dtype: object"
     },
     "metadata": {},
     "execution_count": 65
    }
   ],
   "source": [
    "df_tempdata.iloc[6610]      # 6610의 인덱스의 정보를 시리즈로 출력"
   ]
  },
  {
   "cell_type": "code",
   "execution_count": 67,
   "metadata": {},
   "outputs": [
    {
     "output_type": "execute_result",
     "data": {
      "text/plain": "날짜         2016-01-24\n지점                143\n평균기온(℃)         -10.2\n최저기온(℃)           -13\n최고기온(℃)          -7.6\nName: 5695, dtype: object"
     },
     "metadata": {},
     "execution_count": 67
    }
   ],
   "source": [
    "df_tempdata.iloc[df_tempdata['최고기온(℃)'].idxmin()]"
   ]
  },
  {
   "cell_type": "code",
   "execution_count": 70,
   "metadata": {},
   "outputs": [
    {
     "output_type": "execute_result",
     "data": {
      "text/plain": "              날짜   지점  평균기온(℃)  최저기온(℃)  최고기온(℃)\n6610  2018-07-27  143     32.4     28.6     39.2\n6618  2018-08-04  143     32.3     27.2     38.7\n6607  2018-07-24  143     32.2     26.7     38.6\n6603  2018-07-20  143     31.5     25.4     38.5\n6240  2017-07-22  143     28.8     22.7     38.4\n5524  2015-08-06  143     31.3     25.6     38.3\n5897  2016-08-13  143     32.4     26.1     38.1\n6606  2018-07-23  143     32.2     27.4     38.0\n6609  2018-07-26  143     33.1     27.9     38.0\n4800  2013-08-12  143     32.5     27.6     37.9",
      "text/html": "<div>\n<style scoped>\n    .dataframe tbody tr th:only-of-type {\n        vertical-align: middle;\n    }\n\n    .dataframe tbody tr th {\n        vertical-align: top;\n    }\n\n    .dataframe thead th {\n        text-align: right;\n    }\n</style>\n<table border=\"1\" class=\"dataframe\">\n  <thead>\n    <tr style=\"text-align: right;\">\n      <th></th>\n      <th>날짜</th>\n      <th>지점</th>\n      <th>평균기온(℃)</th>\n      <th>최저기온(℃)</th>\n      <th>최고기온(℃)</th>\n    </tr>\n  </thead>\n  <tbody>\n    <tr>\n      <th>6610</th>\n      <td>2018-07-27</td>\n      <td>143</td>\n      <td>32.4</td>\n      <td>28.6</td>\n      <td>39.2</td>\n    </tr>\n    <tr>\n      <th>6618</th>\n      <td>2018-08-04</td>\n      <td>143</td>\n      <td>32.3</td>\n      <td>27.2</td>\n      <td>38.7</td>\n    </tr>\n    <tr>\n      <th>6607</th>\n      <td>2018-07-24</td>\n      <td>143</td>\n      <td>32.2</td>\n      <td>26.7</td>\n      <td>38.6</td>\n    </tr>\n    <tr>\n      <th>6603</th>\n      <td>2018-07-20</td>\n      <td>143</td>\n      <td>31.5</td>\n      <td>25.4</td>\n      <td>38.5</td>\n    </tr>\n    <tr>\n      <th>6240</th>\n      <td>2017-07-22</td>\n      <td>143</td>\n      <td>28.8</td>\n      <td>22.7</td>\n      <td>38.4</td>\n    </tr>\n    <tr>\n      <th>5524</th>\n      <td>2015-08-06</td>\n      <td>143</td>\n      <td>31.3</td>\n      <td>25.6</td>\n      <td>38.3</td>\n    </tr>\n    <tr>\n      <th>5897</th>\n      <td>2016-08-13</td>\n      <td>143</td>\n      <td>32.4</td>\n      <td>26.1</td>\n      <td>38.1</td>\n    </tr>\n    <tr>\n      <th>6606</th>\n      <td>2018-07-23</td>\n      <td>143</td>\n      <td>32.2</td>\n      <td>27.4</td>\n      <td>38.0</td>\n    </tr>\n    <tr>\n      <th>6609</th>\n      <td>2018-07-26</td>\n      <td>143</td>\n      <td>33.1</td>\n      <td>27.9</td>\n      <td>38.0</td>\n    </tr>\n    <tr>\n      <th>4800</th>\n      <td>2013-08-12</td>\n      <td>143</td>\n      <td>32.5</td>\n      <td>27.6</td>\n      <td>37.9</td>\n    </tr>\n  </tbody>\n</table>\n</div>"
     },
     "metadata": {},
     "execution_count": 70
    }
   ],
   "source": [
    "df_tempdata.sort_values('최고기온(℃)', ascending = False).head(10)      # 내림차순으로 정렬 후 상위 10개만 출력하기"
   ]
  },
  {
   "cell_type": "code",
   "execution_count": 71,
   "metadata": {},
   "outputs": [
    {
     "output_type": "execute_result",
     "data": {
      "text/plain": "              날짜   지점  평균기온(℃)  최저기온(℃)  최고기온(℃)\n6429  2018-01-27  143     -5.6    -13.9      2.8\n3861  2011-01-16  143     -8.5    -13.1     -3.2\n5695  2016-01-24  143    -10.2    -13.0     -7.6\n6428  2018-01-26  143     -8.9    -13.0     -3.9\n4615  2013-02-08  143     -6.5    -12.5     -0.5\n4243  2012-02-02  143     -8.7    -12.4     -4.6\n6427  2018-01-25  143     -8.7    -12.4     -4.4\n3860  2011-01-15  143     -5.9    -12.3      0.1\n6426  2018-01-24  143     -9.4    -12.3     -6.1\n1310  2004-01-22  143     -8.1    -11.8     -3.7",
      "text/html": "<div>\n<style scoped>\n    .dataframe tbody tr th:only-of-type {\n        vertical-align: middle;\n    }\n\n    .dataframe tbody tr th {\n        vertical-align: top;\n    }\n\n    .dataframe thead th {\n        text-align: right;\n    }\n</style>\n<table border=\"1\" class=\"dataframe\">\n  <thead>\n    <tr style=\"text-align: right;\">\n      <th></th>\n      <th>날짜</th>\n      <th>지점</th>\n      <th>평균기온(℃)</th>\n      <th>최저기온(℃)</th>\n      <th>최고기온(℃)</th>\n    </tr>\n  </thead>\n  <tbody>\n    <tr>\n      <th>6429</th>\n      <td>2018-01-27</td>\n      <td>143</td>\n      <td>-5.6</td>\n      <td>-13.9</td>\n      <td>2.8</td>\n    </tr>\n    <tr>\n      <th>3861</th>\n      <td>2011-01-16</td>\n      <td>143</td>\n      <td>-8.5</td>\n      <td>-13.1</td>\n      <td>-3.2</td>\n    </tr>\n    <tr>\n      <th>5695</th>\n      <td>2016-01-24</td>\n      <td>143</td>\n      <td>-10.2</td>\n      <td>-13.0</td>\n      <td>-7.6</td>\n    </tr>\n    <tr>\n      <th>6428</th>\n      <td>2018-01-26</td>\n      <td>143</td>\n      <td>-8.9</td>\n      <td>-13.0</td>\n      <td>-3.9</td>\n    </tr>\n    <tr>\n      <th>4615</th>\n      <td>2013-02-08</td>\n      <td>143</td>\n      <td>-6.5</td>\n      <td>-12.5</td>\n      <td>-0.5</td>\n    </tr>\n    <tr>\n      <th>4243</th>\n      <td>2012-02-02</td>\n      <td>143</td>\n      <td>-8.7</td>\n      <td>-12.4</td>\n      <td>-4.6</td>\n    </tr>\n    <tr>\n      <th>6427</th>\n      <td>2018-01-25</td>\n      <td>143</td>\n      <td>-8.7</td>\n      <td>-12.4</td>\n      <td>-4.4</td>\n    </tr>\n    <tr>\n      <th>3860</th>\n      <td>2011-01-15</td>\n      <td>143</td>\n      <td>-5.9</td>\n      <td>-12.3</td>\n      <td>0.1</td>\n    </tr>\n    <tr>\n      <th>6426</th>\n      <td>2018-01-24</td>\n      <td>143</td>\n      <td>-9.4</td>\n      <td>-12.3</td>\n      <td>-6.1</td>\n    </tr>\n    <tr>\n      <th>1310</th>\n      <td>2004-01-22</td>\n      <td>143</td>\n      <td>-8.1</td>\n      <td>-11.8</td>\n      <td>-3.7</td>\n    </tr>\n  </tbody>\n</table>\n</div>"
     },
     "metadata": {},
     "execution_count": 71
    }
   ],
   "source": [
    "df_tempdata.sort_values('최저기온(℃)', ascending = True).head(10)       # 최저기온을 기준으로 오름차순으로 정렬 후 상위 10개 출력"
   ]
  },
  {
   "cell_type": "code",
   "execution_count": 79,
   "metadata": {},
   "outputs": [
    {
     "output_type": "execute_result",
     "data": {
      "text/plain": "지점         143.0\n평균기온(℃)     22.2\n최저기온(℃)     16.8\n최고기온(℃)     28.8\nName: 2020-07-16, dtype: float64"
     },
     "metadata": {},
     "execution_count": 79
    }
   ],
   "source": [
    "df_tempdata.loc['2020-07-16']"
   ]
  },
  {
   "cell_type": "code",
   "execution_count": 81,
   "metadata": {},
   "outputs": [
    {
     "output_type": "execute_result",
     "data": {
      "text/plain": "지점         143.0\n평균기온(℃)      NaN\n최저기온(℃)     20.1\n최고기온(℃)      NaN\nName: 2013-09-30, dtype: float64"
     },
     "metadata": {},
     "execution_count": 81
    }
   ],
   "source": [
    "df_tempdata.loc['2013-09-30']"
   ]
  },
  {
   "cell_type": "markdown",
   "metadata": {},
   "source": [
    "## Hierarchical Indexing"
   ]
  },
  {
   "cell_type": "code",
   "execution_count": 82,
   "metadata": {},
   "outputs": [],
   "source": [
    "data = pd.Series([10, 20, 30, 50, 5, 1, 2, 4])"
   ]
  },
  {
   "cell_type": "code",
   "execution_count": 83,
   "metadata": {},
   "outputs": [
    {
     "output_type": "execute_result",
     "data": {
      "text/plain": "0    10\n1    20\n2    30\n3    50\n4     5\n5     1\n6     2\n7     4\ndtype: int64"
     },
     "metadata": {},
     "execution_count": 83
    }
   ],
   "source": [
    "data"
   ]
  },
  {
   "cell_type": "code",
   "execution_count": 84,
   "metadata": {},
   "outputs": [],
   "source": [
    "data = pd.Series([10, 20, 30, 50, 5, 1, 2, 4], \n",
    "                 index = [ ['a','a','a','a', 'b','b','b','b'],\n",
    "                           ['obj1','obj2','obj3','obj4', 'obj1','obj2','obj3','obj4'] ])"
   ]
  },
  {
   "cell_type": "code",
   "execution_count": 85,
   "metadata": {},
   "outputs": [
    {
     "output_type": "execute_result",
     "data": {
      "text/plain": "a  obj1    10\n   obj2    20\n   obj3    30\n   obj4    50\nb  obj1     5\n   obj2     1\n   obj3     2\n   obj4     4\ndtype: int64"
     },
     "metadata": {},
     "execution_count": 85
    }
   ],
   "source": [
    "data        # a, b가 첫번째 인덱스, obj가 두번째 인덱스"
   ]
  },
  {
   "cell_type": "code",
   "execution_count": 86,
   "metadata": {},
   "outputs": [
    {
     "output_type": "execute_result",
     "data": {
      "text/plain": "MultiIndex([('a', 'obj1'),\n            ('a', 'obj2'),\n            ('a', 'obj3'),\n            ('a', 'obj4'),\n            ('b', 'obj1'),\n            ('b', 'obj2'),\n            ('b', 'obj3'),\n            ('b', 'obj4')],\n           )"
     },
     "metadata": {},
     "execution_count": 86
    }
   ],
   "source": [
    "data.index"
   ]
  },
  {
   "cell_type": "code",
   "execution_count": 88,
   "metadata": {},
   "outputs": [
    {
     "output_type": "execute_result",
     "data": {
      "text/plain": "FrozenList([['a', 'b'], ['obj1', 'obj2', 'obj3', 'obj4']])"
     },
     "metadata": {},
     "execution_count": 88
    }
   ],
   "source": [
    "data.index.levels   # 0번 인덱스에는 'a', 'b' (level = 0), 1번 인덱스에는 obj1 ~ obj4 (level = 1)"
   ]
  },
  {
   "cell_type": "code",
   "execution_count": 89,
   "metadata": {},
   "outputs": [
    {
     "output_type": "execute_result",
     "data": {
      "text/plain": "Index(['obj1', 'obj2', 'obj3', 'obj4', 'obj1', 'obj2', 'obj3', 'obj4'], dtype='object')"
     },
     "metadata": {},
     "execution_count": 89
    }
   ],
   "source": [
    "data.index.get_level_values(-1)"
   ]
  },
  {
   "cell_type": "code",
   "execution_count": 90,
   "metadata": {},
   "outputs": [
    {
     "output_type": "execute_result",
     "data": {
      "text/plain": "Index(['obj1', 'obj2', 'obj3', 'obj4', 'obj1', 'obj2', 'obj3', 'obj4'], dtype='object')"
     },
     "metadata": {},
     "execution_count": 90
    }
   ],
   "source": [
    "data.index.get_level_values(1)"
   ]
  },
  {
   "cell_type": "code",
   "execution_count": 91,
   "metadata": {},
   "outputs": [
    {
     "output_type": "execute_result",
     "data": {
      "text/plain": "Index(['a', 'a', 'a', 'a', 'b', 'b', 'b', 'b'], dtype='object')"
     },
     "metadata": {},
     "execution_count": 91
    }
   ],
   "source": [
    "data.index.get_level_values(0)"
   ]
  },
  {
   "cell_type": "code",
   "execution_count": 92,
   "metadata": {},
   "outputs": [
    {
     "output_type": "execute_result",
     "data": {
      "text/plain": "a  obj1    10\n   obj2    20\n   obj3    30\n   obj4    50\nb  obj1     5\n   obj2     1\n   obj3     2\n   obj4     4\ndtype: int64"
     },
     "metadata": {},
     "execution_count": 92
    }
   ],
   "source": [
    "data"
   ]
  },
  {
   "cell_type": "code",
   "execution_count": 93,
   "metadata": {},
   "outputs": [
    {
     "output_type": "execute_result",
     "data": {
      "text/plain": "obj1    10\nobj2    20\nobj3    30\nobj4    50\ndtype: int64"
     },
     "metadata": {},
     "execution_count": 93
    }
   ],
   "source": [
    "# data에서 선택할때 --> 인덱스 값을 사용\n",
    "data['a']"
   ]
  },
  {
   "cell_type": "code",
   "execution_count": 94,
   "metadata": {},
   "outputs": [
    {
     "output_type": "execute_result",
     "data": {
      "text/plain": "10"
     },
     "metadata": {},
     "execution_count": 94
    }
   ],
   "source": [
    "# a 의 obj1을 선택하고 싶을때\n",
    "data['a','obj1']"
   ]
  },
  {
   "cell_type": "code",
   "execution_count": 95,
   "metadata": {},
   "outputs": [
    {
     "output_type": "execute_result",
     "data": {
      "text/plain": "a    20\nb     1\ndtype: int64"
     },
     "metadata": {},
     "execution_count": 95
    }
   ],
   "source": [
    "data[:, 'obj2']"
   ]
  },
  {
   "cell_type": "markdown",
   "metadata": {},
   "source": [
    "## Unstack\n",
    "\n",
    " - row header(row index) --> column geader(column index) 로 변경\n",
    "\n",
    " - Series --> DataFrame으로 변경!!!"
   ]
  },
  {
   "cell_type": "code",
   "execution_count": 96,
   "metadata": {},
   "outputs": [
    {
     "output_type": "execute_result",
     "data": {
      "text/plain": "a  obj1    10\n   obj2    20\n   obj3    30\n   obj4    50\nb  obj1     5\n   obj2     1\n   obj3     2\n   obj4     4\ndtype: int64"
     },
     "metadata": {},
     "execution_count": 96
    }
   ],
   "source": [
    "data"
   ]
  },
  {
   "cell_type": "code",
   "execution_count": 97,
   "metadata": {},
   "outputs": [
    {
     "output_type": "execute_result",
     "data": {
      "text/plain": "pandas.core.series.Series"
     },
     "metadata": {},
     "execution_count": 97
    }
   ],
   "source": [
    "type(data)"
   ]
  },
  {
   "cell_type": "code",
   "execution_count": 98,
   "metadata": {},
   "outputs": [],
   "source": [
    "data_u = data.unstack() # level = -1 이 기본값. -1이 의미하는 것은 맨 마지막 level"
   ]
  },
  {
   "cell_type": "code",
   "execution_count": 99,
   "metadata": {},
   "outputs": [
    {
     "output_type": "execute_result",
     "data": {
      "text/plain": "   obj1  obj2  obj3  obj4\na    10    20    30    50\nb     5     1     2     4",
      "text/html": "<div>\n<style scoped>\n    .dataframe tbody tr th:only-of-type {\n        vertical-align: middle;\n    }\n\n    .dataframe tbody tr th {\n        vertical-align: top;\n    }\n\n    .dataframe thead th {\n        text-align: right;\n    }\n</style>\n<table border=\"1\" class=\"dataframe\">\n  <thead>\n    <tr style=\"text-align: right;\">\n      <th></th>\n      <th>obj1</th>\n      <th>obj2</th>\n      <th>obj3</th>\n      <th>obj4</th>\n    </tr>\n  </thead>\n  <tbody>\n    <tr>\n      <th>a</th>\n      <td>10</td>\n      <td>20</td>\n      <td>30</td>\n      <td>50</td>\n    </tr>\n    <tr>\n      <th>b</th>\n      <td>5</td>\n      <td>1</td>\n      <td>2</td>\n      <td>4</td>\n    </tr>\n  </tbody>\n</table>\n</div>"
     },
     "metadata": {},
     "execution_count": 99
    }
   ],
   "source": [
    "data_u"
   ]
  },
  {
   "cell_type": "code",
   "execution_count": 100,
   "metadata": {},
   "outputs": [
    {
     "output_type": "execute_result",
     "data": {
      "text/plain": "pandas.core.frame.DataFrame"
     },
     "metadata": {},
     "execution_count": 100
    }
   ],
   "source": [
    "type(data_u)"
   ]
  },
  {
   "cell_type": "code",
   "execution_count": 101,
   "metadata": {},
   "outputs": [],
   "source": [
    "data_u2 = data.unstack(level=0)"
   ]
  },
  {
   "cell_type": "code",
   "execution_count": 102,
   "metadata": {},
   "outputs": [
    {
     "output_type": "execute_result",
     "data": {
      "text/plain": "       a  b\nobj1  10  5\nobj2  20  1\nobj3  30  2\nobj4  50  4",
      "text/html": "<div>\n<style scoped>\n    .dataframe tbody tr th:only-of-type {\n        vertical-align: middle;\n    }\n\n    .dataframe tbody tr th {\n        vertical-align: top;\n    }\n\n    .dataframe thead th {\n        text-align: right;\n    }\n</style>\n<table border=\"1\" class=\"dataframe\">\n  <thead>\n    <tr style=\"text-align: right;\">\n      <th></th>\n      <th>a</th>\n      <th>b</th>\n    </tr>\n  </thead>\n  <tbody>\n    <tr>\n      <th>obj1</th>\n      <td>10</td>\n      <td>5</td>\n    </tr>\n    <tr>\n      <th>obj2</th>\n      <td>20</td>\n      <td>1</td>\n    </tr>\n    <tr>\n      <th>obj3</th>\n      <td>30</td>\n      <td>2</td>\n    </tr>\n    <tr>\n      <th>obj4</th>\n      <td>50</td>\n      <td>4</td>\n    </tr>\n  </tbody>\n</table>\n</div>"
     },
     "metadata": {},
     "execution_count": 102
    }
   ],
   "source": [
    "data_u2"
   ]
  },
  {
   "cell_type": "markdown",
   "metadata": {},
   "source": [
    "### Column index ---> Row index!"
   ]
  },
  {
   "cell_type": "code",
   "execution_count": 103,
   "metadata": {},
   "outputs": [
    {
     "output_type": "execute_result",
     "data": {
      "text/plain": "       a  b\nobj1  10  5\nobj2  20  1\nobj3  30  2\nobj4  50  4",
      "text/html": "<div>\n<style scoped>\n    .dataframe tbody tr th:only-of-type {\n        vertical-align: middle;\n    }\n\n    .dataframe tbody tr th {\n        vertical-align: top;\n    }\n\n    .dataframe thead th {\n        text-align: right;\n    }\n</style>\n<table border=\"1\" class=\"dataframe\">\n  <thead>\n    <tr style=\"text-align: right;\">\n      <th></th>\n      <th>a</th>\n      <th>b</th>\n    </tr>\n  </thead>\n  <tbody>\n    <tr>\n      <th>obj1</th>\n      <td>10</td>\n      <td>5</td>\n    </tr>\n    <tr>\n      <th>obj2</th>\n      <td>20</td>\n      <td>1</td>\n    </tr>\n    <tr>\n      <th>obj3</th>\n      <td>30</td>\n      <td>2</td>\n    </tr>\n    <tr>\n      <th>obj4</th>\n      <td>50</td>\n      <td>4</td>\n    </tr>\n  </tbody>\n</table>\n</div>"
     },
     "metadata": {},
     "execution_count": 103
    }
   ],
   "source": [
    "data_u2"
   ]
  },
  {
   "cell_type": "code",
   "execution_count": 106,
   "metadata": {},
   "outputs": [
    {
     "output_type": "execute_result",
     "data": {
      "text/plain": "obj1  a    10\n      b     5\nobj2  a    20\n      b     1\nobj3  a    30\n      b     2\nobj4  a    50\n      b     4\ndtype: int64"
     },
     "metadata": {},
     "execution_count": 106
    }
   ],
   "source": [
    "data_u2.stack()     # 'a'와 'b' 가 row index로 사용"
   ]
  },
  {
   "cell_type": "code",
   "execution_count": 109,
   "metadata": {},
   "outputs": [
    {
     "output_type": "execute_result",
     "data": {
      "text/plain": "   obj1  obj2  obj3  obj4\na    10    20    30    50\nb     5     1     2     4",
      "text/html": "<div>\n<style scoped>\n    .dataframe tbody tr th:only-of-type {\n        vertical-align: middle;\n    }\n\n    .dataframe tbody tr th {\n        vertical-align: top;\n    }\n\n    .dataframe thead th {\n        text-align: right;\n    }\n</style>\n<table border=\"1\" class=\"dataframe\">\n  <thead>\n    <tr style=\"text-align: right;\">\n      <th></th>\n      <th>obj1</th>\n      <th>obj2</th>\n      <th>obj3</th>\n      <th>obj4</th>\n    </tr>\n  </thead>\n  <tbody>\n    <tr>\n      <th>a</th>\n      <td>10</td>\n      <td>20</td>\n      <td>30</td>\n      <td>50</td>\n    </tr>\n    <tr>\n      <th>b</th>\n      <td>5</td>\n      <td>1</td>\n      <td>2</td>\n      <td>4</td>\n    </tr>\n  </tbody>\n</table>\n</div>"
     },
     "metadata": {},
     "execution_count": 109
    }
   ],
   "source": [
    "data_u"
   ]
  },
  {
   "cell_type": "code",
   "execution_count": 110,
   "metadata": {},
   "outputs": [
    {
     "output_type": "execute_result",
     "data": {
      "text/plain": "a  obj1    10\n   obj2    20\n   obj3    30\n   obj4    50\nb  obj1     5\n   obj2     1\n   obj3     2\n   obj4     4\ndtype: int64"
     },
     "metadata": {},
     "execution_count": 110
    }
   ],
   "source": [
    "data_u.stack()"
   ]
  },
  {
   "cell_type": "markdown",
   "metadata": {},
   "source": [
    "### Multiple Column Index"
   ]
  },
  {
   "cell_type": "code",
   "execution_count": 111,
   "metadata": {},
   "outputs": [],
   "source": [
    "df = pd.DataFrame(np.arange(12).reshape(4,3))"
   ]
  },
  {
   "cell_type": "code",
   "execution_count": 112,
   "metadata": {},
   "outputs": [
    {
     "output_type": "execute_result",
     "data": {
      "text/plain": "   0   1   2\n0  0   1   2\n1  3   4   5\n2  6   7   8\n3  9  10  11",
      "text/html": "<div>\n<style scoped>\n    .dataframe tbody tr th:only-of-type {\n        vertical-align: middle;\n    }\n\n    .dataframe tbody tr th {\n        vertical-align: top;\n    }\n\n    .dataframe thead th {\n        text-align: right;\n    }\n</style>\n<table border=\"1\" class=\"dataframe\">\n  <thead>\n    <tr style=\"text-align: right;\">\n      <th></th>\n      <th>0</th>\n      <th>1</th>\n      <th>2</th>\n    </tr>\n  </thead>\n  <tbody>\n    <tr>\n      <th>0</th>\n      <td>0</td>\n      <td>1</td>\n      <td>2</td>\n    </tr>\n    <tr>\n      <th>1</th>\n      <td>3</td>\n      <td>4</td>\n      <td>5</td>\n    </tr>\n    <tr>\n      <th>2</th>\n      <td>6</td>\n      <td>7</td>\n      <td>8</td>\n    </tr>\n    <tr>\n      <th>3</th>\n      <td>9</td>\n      <td>10</td>\n      <td>11</td>\n    </tr>\n  </tbody>\n</table>\n</div>"
     },
     "metadata": {},
     "execution_count": 112
    }
   ],
   "source": [
    "df"
   ]
  },
  {
   "cell_type": "code",
   "execution_count": 113,
   "metadata": {},
   "outputs": [],
   "source": [
    "df = pd.DataFrame(np.arange(12).reshape(4,3),\n",
    "                  index = [ ['a','a','b','b'], ['one','two','three','four'] ],\n",
    "                  columns= [ ['num1', 'num2', 'num3'], ['red', 'greeb', 'red'] ]\n",
    "                  )"
   ]
  },
  {
   "cell_type": "code",
   "execution_count": 114,
   "metadata": {},
   "outputs": [
    {
     "output_type": "execute_result",
     "data": {
      "text/plain": "        num1  num2 num3\n         red greeb  red\na one      0     1    2\n  two      3     4    5\nb three    6     7    8\n  four     9    10   11",
      "text/html": "<div>\n<style scoped>\n    .dataframe tbody tr th:only-of-type {\n        vertical-align: middle;\n    }\n\n    .dataframe tbody tr th {\n        vertical-align: top;\n    }\n\n    .dataframe thead tr th {\n        text-align: left;\n    }\n</style>\n<table border=\"1\" class=\"dataframe\">\n  <thead>\n    <tr>\n      <th></th>\n      <th></th>\n      <th>num1</th>\n      <th>num2</th>\n      <th>num3</th>\n    </tr>\n    <tr>\n      <th></th>\n      <th></th>\n      <th>red</th>\n      <th>greeb</th>\n      <th>red</th>\n    </tr>\n  </thead>\n  <tbody>\n    <tr>\n      <th rowspan=\"2\" valign=\"top\">a</th>\n      <th>one</th>\n      <td>0</td>\n      <td>1</td>\n      <td>2</td>\n    </tr>\n    <tr>\n      <th>two</th>\n      <td>3</td>\n      <td>4</td>\n      <td>5</td>\n    </tr>\n    <tr>\n      <th rowspan=\"2\" valign=\"top\">b</th>\n      <th>three</th>\n      <td>6</td>\n      <td>7</td>\n      <td>8</td>\n    </tr>\n    <tr>\n      <th>four</th>\n      <td>9</td>\n      <td>10</td>\n      <td>11</td>\n    </tr>\n  </tbody>\n</table>\n</div>"
     },
     "metadata": {},
     "execution_count": 114
    }
   ],
   "source": [
    "df"
   ]
  },
  {
   "cell_type": "code",
   "execution_count": 115,
   "metadata": {},
   "outputs": [
    {
     "output_type": "execute_result",
     "data": {
      "text/plain": "MultiIndex([('num1',   'red'),\n            ('num2', 'greeb'),\n            ('num3',   'red')],\n           )"
     },
     "metadata": {},
     "execution_count": 115
    }
   ],
   "source": [
    "df.columns"
   ]
  },
  {
   "cell_type": "code",
   "execution_count": 116,
   "metadata": {},
   "outputs": [
    {
     "output_type": "execute_result",
     "data": {
      "text/plain": "FrozenList([['a', 'b'], ['four', 'one', 'three', 'two']])"
     },
     "metadata": {},
     "execution_count": 116
    }
   ],
   "source": [
    "df.index.levels"
   ]
  },
  {
   "cell_type": "code",
   "execution_count": 117,
   "metadata": {},
   "outputs": [
    {
     "output_type": "execute_result",
     "data": {
      "text/plain": "FrozenList([['num1', 'num2', 'num3'], ['greeb', 'red']])"
     },
     "metadata": {},
     "execution_count": 117
    }
   ],
   "source": [
    "df.columns.levels"
   ]
  },
  {
   "cell_type": "code",
   "execution_count": 118,
   "metadata": {},
   "outputs": [],
   "source": [
    "# 각 index에 이름을 달아보자\n",
    "\n",
    "df.index.names = ['key1', 'key2']   "
   ]
  },
  {
   "cell_type": "code",
   "execution_count": 119,
   "metadata": {},
   "outputs": [
    {
     "output_type": "execute_result",
     "data": {
      "text/plain": "           num1  num2 num3\n            red greeb  red\nkey1 key2                 \na    one      0     1    2\n     two      3     4    5\nb    three    6     7    8\n     four     9    10   11",
      "text/html": "<div>\n<style scoped>\n    .dataframe tbody tr th:only-of-type {\n        vertical-align: middle;\n    }\n\n    .dataframe tbody tr th {\n        vertical-align: top;\n    }\n\n    .dataframe thead tr th {\n        text-align: left;\n    }\n\n    .dataframe thead tr:last-of-type th {\n        text-align: right;\n    }\n</style>\n<table border=\"1\" class=\"dataframe\">\n  <thead>\n    <tr>\n      <th></th>\n      <th></th>\n      <th>num1</th>\n      <th>num2</th>\n      <th>num3</th>\n    </tr>\n    <tr>\n      <th></th>\n      <th></th>\n      <th>red</th>\n      <th>greeb</th>\n      <th>red</th>\n    </tr>\n    <tr>\n      <th>key1</th>\n      <th>key2</th>\n      <th></th>\n      <th></th>\n      <th></th>\n    </tr>\n  </thead>\n  <tbody>\n    <tr>\n      <th rowspan=\"2\" valign=\"top\">a</th>\n      <th>one</th>\n      <td>0</td>\n      <td>1</td>\n      <td>2</td>\n    </tr>\n    <tr>\n      <th>two</th>\n      <td>3</td>\n      <td>4</td>\n      <td>5</td>\n    </tr>\n    <tr>\n      <th rowspan=\"2\" valign=\"top\">b</th>\n      <th>three</th>\n      <td>6</td>\n      <td>7</td>\n      <td>8</td>\n    </tr>\n    <tr>\n      <th>four</th>\n      <td>9</td>\n      <td>10</td>\n      <td>11</td>\n    </tr>\n  </tbody>\n</table>\n</div>"
     },
     "metadata": {},
     "execution_count": 119
    }
   ],
   "source": [
    "df"
   ]
  },
  {
   "cell_type": "code",
   "execution_count": 120,
   "metadata": {},
   "outputs": [],
   "source": [
    "df.columns.names=['n', 'color']"
   ]
  },
  {
   "cell_type": "code",
   "execution_count": 121,
   "metadata": {},
   "outputs": [
    {
     "output_type": "execute_result",
     "data": {
      "text/plain": "n          num1  num2 num3\ncolor       red greeb  red\nkey1 key2                 \na    one      0     1    2\n     two      3     4    5\nb    three    6     7    8\n     four     9    10   11",
      "text/html": "<div>\n<style scoped>\n    .dataframe tbody tr th:only-of-type {\n        vertical-align: middle;\n    }\n\n    .dataframe tbody tr th {\n        vertical-align: top;\n    }\n\n    .dataframe thead tr th {\n        text-align: left;\n    }\n\n    .dataframe thead tr:last-of-type th {\n        text-align: right;\n    }\n</style>\n<table border=\"1\" class=\"dataframe\">\n  <thead>\n    <tr>\n      <th></th>\n      <th>n</th>\n      <th>num1</th>\n      <th>num2</th>\n      <th>num3</th>\n    </tr>\n    <tr>\n      <th></th>\n      <th>color</th>\n      <th>red</th>\n      <th>greeb</th>\n      <th>red</th>\n    </tr>\n    <tr>\n      <th>key1</th>\n      <th>key2</th>\n      <th></th>\n      <th></th>\n      <th></th>\n    </tr>\n  </thead>\n  <tbody>\n    <tr>\n      <th rowspan=\"2\" valign=\"top\">a</th>\n      <th>one</th>\n      <td>0</td>\n      <td>1</td>\n      <td>2</td>\n    </tr>\n    <tr>\n      <th>two</th>\n      <td>3</td>\n      <td>4</td>\n      <td>5</td>\n    </tr>\n    <tr>\n      <th rowspan=\"2\" valign=\"top\">b</th>\n      <th>three</th>\n      <td>6</td>\n      <td>7</td>\n      <td>8</td>\n    </tr>\n    <tr>\n      <th>four</th>\n      <td>9</td>\n      <td>10</td>\n      <td>11</td>\n    </tr>\n  </tbody>\n</table>\n</div>"
     },
     "metadata": {},
     "execution_count": 121
    }
   ],
   "source": [
    "df"
   ]
  },
  {
   "cell_type": "code",
   "execution_count": 122,
   "metadata": {},
   "outputs": [
    {
     "output_type": "execute_result",
     "data": {
      "text/plain": "n     num1  num2 num3\ncolor  red greeb  red\nkey2                 \none      0     1    2\ntwo      3     4    5",
      "text/html": "<div>\n<style scoped>\n    .dataframe tbody tr th:only-of-type {\n        vertical-align: middle;\n    }\n\n    .dataframe tbody tr th {\n        vertical-align: top;\n    }\n\n    .dataframe thead tr th {\n        text-align: left;\n    }\n\n    .dataframe thead tr:last-of-type th {\n        text-align: right;\n    }\n</style>\n<table border=\"1\" class=\"dataframe\">\n  <thead>\n    <tr>\n      <th>n</th>\n      <th>num1</th>\n      <th>num2</th>\n      <th>num3</th>\n    </tr>\n    <tr>\n      <th>color</th>\n      <th>red</th>\n      <th>greeb</th>\n      <th>red</th>\n    </tr>\n    <tr>\n      <th>key2</th>\n      <th></th>\n      <th></th>\n      <th></th>\n    </tr>\n  </thead>\n  <tbody>\n    <tr>\n      <th>one</th>\n      <td>0</td>\n      <td>1</td>\n      <td>2</td>\n    </tr>\n    <tr>\n      <th>two</th>\n      <td>3</td>\n      <td>4</td>\n      <td>5</td>\n    </tr>\n  </tbody>\n</table>\n</div>"
     },
     "metadata": {},
     "execution_count": 122
    }
   ],
   "source": [
    "df.loc['a']"
   ]
  },
  {
   "cell_type": "code",
   "execution_count": 123,
   "metadata": {},
   "outputs": [
    {
     "output_type": "execute_result",
     "data": {
      "text/plain": "n     color\nnum1  red      3\nnum2  greeb    4\nnum3  red      5\nName: two, dtype: int32"
     },
     "metadata": {},
     "execution_count": 123
    }
   ],
   "source": [
    "df.loc['a'].loc['two']  # loc['a']로 만들어진 것중에 loc['two']"
   ]
  },
  {
   "cell_type": "code",
   "execution_count": 124,
   "metadata": {},
   "outputs": [
    {
     "output_type": "execute_result",
     "data": {
      "text/plain": "n          num1  num2 num3\ncolor       red greeb  red\nkey1 key2                 \na    one      0     1    2\n     two      3     4    5\nb    three    6     7    8\n     four     9    10   11",
      "text/html": "<div>\n<style scoped>\n    .dataframe tbody tr th:only-of-type {\n        vertical-align: middle;\n    }\n\n    .dataframe tbody tr th {\n        vertical-align: top;\n    }\n\n    .dataframe thead tr th {\n        text-align: left;\n    }\n\n    .dataframe thead tr:last-of-type th {\n        text-align: right;\n    }\n</style>\n<table border=\"1\" class=\"dataframe\">\n  <thead>\n    <tr>\n      <th></th>\n      <th>n</th>\n      <th>num1</th>\n      <th>num2</th>\n      <th>num3</th>\n    </tr>\n    <tr>\n      <th></th>\n      <th>color</th>\n      <th>red</th>\n      <th>greeb</th>\n      <th>red</th>\n    </tr>\n    <tr>\n      <th>key1</th>\n      <th>key2</th>\n      <th></th>\n      <th></th>\n      <th></th>\n    </tr>\n  </thead>\n  <tbody>\n    <tr>\n      <th rowspan=\"2\" valign=\"top\">a</th>\n      <th>one</th>\n      <td>0</td>\n      <td>1</td>\n      <td>2</td>\n    </tr>\n    <tr>\n      <th>two</th>\n      <td>3</td>\n      <td>4</td>\n      <td>5</td>\n    </tr>\n    <tr>\n      <th rowspan=\"2\" valign=\"top\">b</th>\n      <th>three</th>\n      <td>6</td>\n      <td>7</td>\n      <td>8</td>\n    </tr>\n    <tr>\n      <th>four</th>\n      <td>9</td>\n      <td>10</td>\n      <td>11</td>\n    </tr>\n  </tbody>\n</table>\n</div>"
     },
     "metadata": {},
     "execution_count": 124
    }
   ],
   "source": [
    "df"
   ]
  },
  {
   "cell_type": "code",
   "execution_count": 125,
   "metadata": {},
   "outputs": [
    {
     "output_type": "execute_result",
     "data": {
      "text/plain": "color       red\nkey1 key2      \na    one      0\n     two      3\nb    three    6\n     four     9",
      "text/html": "<div>\n<style scoped>\n    .dataframe tbody tr th:only-of-type {\n        vertical-align: middle;\n    }\n\n    .dataframe tbody tr th {\n        vertical-align: top;\n    }\n\n    .dataframe thead th {\n        text-align: right;\n    }\n</style>\n<table border=\"1\" class=\"dataframe\">\n  <thead>\n    <tr style=\"text-align: right;\">\n      <th></th>\n      <th>color</th>\n      <th>red</th>\n    </tr>\n    <tr>\n      <th>key1</th>\n      <th>key2</th>\n      <th></th>\n    </tr>\n  </thead>\n  <tbody>\n    <tr>\n      <th rowspan=\"2\" valign=\"top\">a</th>\n      <th>one</th>\n      <td>0</td>\n    </tr>\n    <tr>\n      <th>two</th>\n      <td>3</td>\n    </tr>\n    <tr>\n      <th rowspan=\"2\" valign=\"top\">b</th>\n      <th>three</th>\n      <td>6</td>\n    </tr>\n    <tr>\n      <th>four</th>\n      <td>9</td>\n    </tr>\n  </tbody>\n</table>\n</div>"
     },
     "metadata": {},
     "execution_count": 125
    }
   ],
   "source": [
    "df['num1']"
   ]
  },
  {
   "cell_type": "code",
   "execution_count": 128,
   "metadata": {},
   "outputs": [
    {
     "output_type": "execute_result",
     "data": {
      "text/plain": "color       red\nkey1 key2      \na    one      0\n     two      3\nb    three    6\n     four     9",
      "text/html": "<div>\n<style scoped>\n    .dataframe tbody tr th:only-of-type {\n        vertical-align: middle;\n    }\n\n    .dataframe tbody tr th {\n        vertical-align: top;\n    }\n\n    .dataframe thead th {\n        text-align: right;\n    }\n</style>\n<table border=\"1\" class=\"dataframe\">\n  <thead>\n    <tr style=\"text-align: right;\">\n      <th></th>\n      <th>color</th>\n      <th>red</th>\n    </tr>\n    <tr>\n      <th>key1</th>\n      <th>key2</th>\n      <th></th>\n    </tr>\n  </thead>\n  <tbody>\n    <tr>\n      <th rowspan=\"2\" valign=\"top\">a</th>\n      <th>one</th>\n      <td>0</td>\n    </tr>\n    <tr>\n      <th>two</th>\n      <td>3</td>\n    </tr>\n    <tr>\n      <th rowspan=\"2\" valign=\"top\">b</th>\n      <th>three</th>\n      <td>6</td>\n    </tr>\n    <tr>\n      <th>four</th>\n      <td>9</td>\n    </tr>\n  </tbody>\n</table>\n</div>"
     },
     "metadata": {},
     "execution_count": 128
    }
   ],
   "source": [
    "df.loc[:, 'num1']   # 전체 행 중에 num1 열을 선택"
   ]
  },
  {
   "cell_type": "code",
   "execution_count": 129,
   "metadata": {},
   "outputs": [
    {
     "output_type": "execute_result",
     "data": {
      "text/plain": "n     color\nnum1  red      0\nnum2  greeb    1\nnum3  red      2\nName: (a, one), dtype: int32"
     },
     "metadata": {},
     "execution_count": 129
    }
   ],
   "source": [
    "df.iloc[0]      # index가 0인 데이터를 시리즈로 출력. 제일 첫번째 가로 행이 index = 0"
   ]
  },
  {
   "cell_type": "markdown",
   "metadata": {},
   "source": [
    "## index level을 변경하자!!"
   ]
  },
  {
   "cell_type": "code",
   "execution_count": 130,
   "metadata": {},
   "outputs": [
    {
     "output_type": "execute_result",
     "data": {
      "text/plain": "n          num1  num2 num3\ncolor       red greeb  red\nkey2  key1                \none   a       0     1    2\ntwo   a       3     4    5\nthree b       6     7    8\nfour  b       9    10   11",
      "text/html": "<div>\n<style scoped>\n    .dataframe tbody tr th:only-of-type {\n        vertical-align: middle;\n    }\n\n    .dataframe tbody tr th {\n        vertical-align: top;\n    }\n\n    .dataframe thead tr th {\n        text-align: left;\n    }\n\n    .dataframe thead tr:last-of-type th {\n        text-align: right;\n    }\n</style>\n<table border=\"1\" class=\"dataframe\">\n  <thead>\n    <tr>\n      <th></th>\n      <th>n</th>\n      <th>num1</th>\n      <th>num2</th>\n      <th>num3</th>\n    </tr>\n    <tr>\n      <th></th>\n      <th>color</th>\n      <th>red</th>\n      <th>greeb</th>\n      <th>red</th>\n    </tr>\n    <tr>\n      <th>key2</th>\n      <th>key1</th>\n      <th></th>\n      <th></th>\n      <th></th>\n    </tr>\n  </thead>\n  <tbody>\n    <tr>\n      <th>one</th>\n      <th>a</th>\n      <td>0</td>\n      <td>1</td>\n      <td>2</td>\n    </tr>\n    <tr>\n      <th>two</th>\n      <th>a</th>\n      <td>3</td>\n      <td>4</td>\n      <td>5</td>\n    </tr>\n    <tr>\n      <th>three</th>\n      <th>b</th>\n      <td>6</td>\n      <td>7</td>\n      <td>8</td>\n    </tr>\n    <tr>\n      <th>four</th>\n      <th>b</th>\n      <td>9</td>\n      <td>10</td>\n      <td>11</td>\n    </tr>\n  </tbody>\n</table>\n</div>"
     },
     "metadata": {},
     "execution_count": 130
    }
   ],
   "source": [
    "df.swaplevel()      # default 값 사용하면 -2와 -1 위치를 바꾸어줌. 지금 경우에는 두 개 밖에 없으니까 두 개를 서로 바꿔줌."
   ]
  },
  {
   "cell_type": "code",
   "execution_count": 132,
   "metadata": {},
   "outputs": [
    {
     "output_type": "execute_result",
     "data": {
      "text/plain": "n          num1  num2 num3\ncolor       red greeb  red\nkey2  key1                \none   a       0     1    2\ntwo   a       3     4    5\nthree b       6     7    8\nfour  b       9    10   11",
      "text/html": "<div>\n<style scoped>\n    .dataframe tbody tr th:only-of-type {\n        vertical-align: middle;\n    }\n\n    .dataframe tbody tr th {\n        vertical-align: top;\n    }\n\n    .dataframe thead tr th {\n        text-align: left;\n    }\n\n    .dataframe thead tr:last-of-type th {\n        text-align: right;\n    }\n</style>\n<table border=\"1\" class=\"dataframe\">\n  <thead>\n    <tr>\n      <th></th>\n      <th>n</th>\n      <th>num1</th>\n      <th>num2</th>\n      <th>num3</th>\n    </tr>\n    <tr>\n      <th></th>\n      <th>color</th>\n      <th>red</th>\n      <th>greeb</th>\n      <th>red</th>\n    </tr>\n    <tr>\n      <th>key2</th>\n      <th>key1</th>\n      <th></th>\n      <th></th>\n      <th></th>\n    </tr>\n  </thead>\n  <tbody>\n    <tr>\n      <th>one</th>\n      <th>a</th>\n      <td>0</td>\n      <td>1</td>\n      <td>2</td>\n    </tr>\n    <tr>\n      <th>two</th>\n      <th>a</th>\n      <td>3</td>\n      <td>4</td>\n      <td>5</td>\n    </tr>\n    <tr>\n      <th>three</th>\n      <th>b</th>\n      <td>6</td>\n      <td>7</td>\n      <td>8</td>\n    </tr>\n    <tr>\n      <th>four</th>\n      <th>b</th>\n      <td>9</td>\n      <td>10</td>\n      <td>11</td>\n    </tr>\n  </tbody>\n</table>\n</div>"
     },
     "metadata": {},
     "execution_count": 132
    }
   ],
   "source": [
    "df.swaplevel('key1', 'key2',axis=0)"
   ]
  },
  {
   "cell_type": "code",
   "execution_count": 133,
   "metadata": {},
   "outputs": [
    {
     "output_type": "execute_result",
     "data": {
      "text/plain": "color       red greeb  red\nn          num1  num2 num3\nkey1 key2                 \na    one      0     1    2\n     two      3     4    5\nb    three    6     7    8\n     four     9    10   11",
      "text/html": "<div>\n<style scoped>\n    .dataframe tbody tr th:only-of-type {\n        vertical-align: middle;\n    }\n\n    .dataframe tbody tr th {\n        vertical-align: top;\n    }\n\n    .dataframe thead tr th {\n        text-align: left;\n    }\n\n    .dataframe thead tr:last-of-type th {\n        text-align: right;\n    }\n</style>\n<table border=\"1\" class=\"dataframe\">\n  <thead>\n    <tr>\n      <th></th>\n      <th>color</th>\n      <th>red</th>\n      <th>greeb</th>\n      <th>red</th>\n    </tr>\n    <tr>\n      <th></th>\n      <th>n</th>\n      <th>num1</th>\n      <th>num2</th>\n      <th>num3</th>\n    </tr>\n    <tr>\n      <th>key1</th>\n      <th>key2</th>\n      <th></th>\n      <th></th>\n      <th></th>\n    </tr>\n  </thead>\n  <tbody>\n    <tr>\n      <th rowspan=\"2\" valign=\"top\">a</th>\n      <th>one</th>\n      <td>0</td>\n      <td>1</td>\n      <td>2</td>\n    </tr>\n    <tr>\n      <th>two</th>\n      <td>3</td>\n      <td>4</td>\n      <td>5</td>\n    </tr>\n    <tr>\n      <th rowspan=\"2\" valign=\"top\">b</th>\n      <th>three</th>\n      <td>6</td>\n      <td>7</td>\n      <td>8</td>\n    </tr>\n    <tr>\n      <th>four</th>\n      <td>9</td>\n      <td>10</td>\n      <td>11</td>\n    </tr>\n  </tbody>\n</table>\n</div>"
     },
     "metadata": {},
     "execution_count": 133
    }
   ],
   "source": [
    "df.swaplevel('n', 'color', axis=1)"
   ]
  },
  {
   "cell_type": "code",
   "execution_count": 134,
   "metadata": {},
   "outputs": [
    {
     "output_type": "execute_result",
     "data": {
      "text/plain": "n          num1  num2 num3\ncolor       red greeb  red\nkey1 key2                 \na    one      0     1    2\n     two      3     4    5\nb    three    6     7    8\n     four     9    10   11",
      "text/html": "<div>\n<style scoped>\n    .dataframe tbody tr th:only-of-type {\n        vertical-align: middle;\n    }\n\n    .dataframe tbody tr th {\n        vertical-align: top;\n    }\n\n    .dataframe thead tr th {\n        text-align: left;\n    }\n\n    .dataframe thead tr:last-of-type th {\n        text-align: right;\n    }\n</style>\n<table border=\"1\" class=\"dataframe\">\n  <thead>\n    <tr>\n      <th></th>\n      <th>n</th>\n      <th>num1</th>\n      <th>num2</th>\n      <th>num3</th>\n    </tr>\n    <tr>\n      <th></th>\n      <th>color</th>\n      <th>red</th>\n      <th>greeb</th>\n      <th>red</th>\n    </tr>\n    <tr>\n      <th>key1</th>\n      <th>key2</th>\n      <th></th>\n      <th></th>\n      <th></th>\n    </tr>\n  </thead>\n  <tbody>\n    <tr>\n      <th rowspan=\"2\" valign=\"top\">a</th>\n      <th>one</th>\n      <td>0</td>\n      <td>1</td>\n      <td>2</td>\n    </tr>\n    <tr>\n      <th>two</th>\n      <td>3</td>\n      <td>4</td>\n      <td>5</td>\n    </tr>\n    <tr>\n      <th rowspan=\"2\" valign=\"top\">b</th>\n      <th>three</th>\n      <td>6</td>\n      <td>7</td>\n      <td>8</td>\n    </tr>\n    <tr>\n      <th>four</th>\n      <td>9</td>\n      <td>10</td>\n      <td>11</td>\n    </tr>\n  </tbody>\n</table>\n</div>"
     },
     "metadata": {},
     "execution_count": 134
    }
   ],
   "source": [
    "df"
   ]
  },
  {
   "cell_type": "code",
   "execution_count": 135,
   "metadata": {},
   "outputs": [
    {
     "output_type": "execute_result",
     "data": {
      "text/plain": "n          num1  num2 num3\ncolor       red greeb  red\nkey1 key2                 \nb    four     9    10   11\na    one      0     1    2\nb    three    6     7    8\na    two      3     4    5",
      "text/html": "<div>\n<style scoped>\n    .dataframe tbody tr th:only-of-type {\n        vertical-align: middle;\n    }\n\n    .dataframe tbody tr th {\n        vertical-align: top;\n    }\n\n    .dataframe thead tr th {\n        text-align: left;\n    }\n\n    .dataframe thead tr:last-of-type th {\n        text-align: right;\n    }\n</style>\n<table border=\"1\" class=\"dataframe\">\n  <thead>\n    <tr>\n      <th></th>\n      <th>n</th>\n      <th>num1</th>\n      <th>num2</th>\n      <th>num3</th>\n    </tr>\n    <tr>\n      <th></th>\n      <th>color</th>\n      <th>red</th>\n      <th>greeb</th>\n      <th>red</th>\n    </tr>\n    <tr>\n      <th>key1</th>\n      <th>key2</th>\n      <th></th>\n      <th></th>\n      <th></th>\n    </tr>\n  </thead>\n  <tbody>\n    <tr>\n      <th>b</th>\n      <th>four</th>\n      <td>9</td>\n      <td>10</td>\n      <td>11</td>\n    </tr>\n    <tr>\n      <th>a</th>\n      <th>one</th>\n      <td>0</td>\n      <td>1</td>\n      <td>2</td>\n    </tr>\n    <tr>\n      <th>b</th>\n      <th>three</th>\n      <td>6</td>\n      <td>7</td>\n      <td>8</td>\n    </tr>\n    <tr>\n      <th>a</th>\n      <th>two</th>\n      <td>3</td>\n      <td>4</td>\n      <td>5</td>\n    </tr>\n  </tbody>\n</table>\n</div>"
     },
     "metadata": {},
     "execution_count": 135
    }
   ],
   "source": [
    "# 기준값을 설정\n",
    "df.sort_index(level = 'key2')"
   ]
  },
  {
   "cell_type": "code",
   "execution_count": 136,
   "metadata": {},
   "outputs": [
    {
     "output_type": "execute_result",
     "data": {
      "text/plain": "n          num1  num2 num3\ncolor       red greeb  red\nkey1 key2                 \na    one      0     1    2\n     two      3     4    5\nb    four     9    10   11\n     three    6     7    8",
      "text/html": "<div>\n<style scoped>\n    .dataframe tbody tr th:only-of-type {\n        vertical-align: middle;\n    }\n\n    .dataframe tbody tr th {\n        vertical-align: top;\n    }\n\n    .dataframe thead tr th {\n        text-align: left;\n    }\n\n    .dataframe thead tr:last-of-type th {\n        text-align: right;\n    }\n</style>\n<table border=\"1\" class=\"dataframe\">\n  <thead>\n    <tr>\n      <th></th>\n      <th>n</th>\n      <th>num1</th>\n      <th>num2</th>\n      <th>num3</th>\n    </tr>\n    <tr>\n      <th></th>\n      <th>color</th>\n      <th>red</th>\n      <th>greeb</th>\n      <th>red</th>\n    </tr>\n    <tr>\n      <th>key1</th>\n      <th>key2</th>\n      <th></th>\n      <th></th>\n      <th></th>\n    </tr>\n  </thead>\n  <tbody>\n    <tr>\n      <th rowspan=\"2\" valign=\"top\">a</th>\n      <th>one</th>\n      <td>0</td>\n      <td>1</td>\n      <td>2</td>\n    </tr>\n    <tr>\n      <th>two</th>\n      <td>3</td>\n      <td>4</td>\n      <td>5</td>\n    </tr>\n    <tr>\n      <th rowspan=\"2\" valign=\"top\">b</th>\n      <th>four</th>\n      <td>9</td>\n      <td>10</td>\n      <td>11</td>\n    </tr>\n    <tr>\n      <th>three</th>\n      <td>6</td>\n      <td>7</td>\n      <td>8</td>\n    </tr>\n  </tbody>\n</table>\n</div>"
     },
     "metadata": {},
     "execution_count": 136
    }
   ],
   "source": [
    "df.sort_index()"
   ]
  },
  {
   "cell_type": "code",
   "execution_count": 137,
   "metadata": {},
   "outputs": [
    {
     "output_type": "execute_result",
     "data": {
      "text/plain": "n     color\nnum1  red      18\nnum2  greeb    22\nnum3  red      26\ndtype: int64"
     },
     "metadata": {},
     "execution_count": 137
    }
   ],
   "source": [
    "df.sum()"
   ]
  },
  {
   "cell_type": "code",
   "execution_count": 138,
   "metadata": {},
   "outputs": [
    {
     "output_type": "execute_result",
     "data": {
      "text/plain": "n     num1  num2 num3\ncolor  red greeb  red\nkey1                 \na        3     5    7\nb       15    17   19",
      "text/html": "<div>\n<style scoped>\n    .dataframe tbody tr th:only-of-type {\n        vertical-align: middle;\n    }\n\n    .dataframe tbody tr th {\n        vertical-align: top;\n    }\n\n    .dataframe thead tr th {\n        text-align: left;\n    }\n\n    .dataframe thead tr:last-of-type th {\n        text-align: right;\n    }\n</style>\n<table border=\"1\" class=\"dataframe\">\n  <thead>\n    <tr>\n      <th>n</th>\n      <th>num1</th>\n      <th>num2</th>\n      <th>num3</th>\n    </tr>\n    <tr>\n      <th>color</th>\n      <th>red</th>\n      <th>greeb</th>\n      <th>red</th>\n    </tr>\n    <tr>\n      <th>key1</th>\n      <th></th>\n      <th></th>\n      <th></th>\n    </tr>\n  </thead>\n  <tbody>\n    <tr>\n      <th>a</th>\n      <td>3</td>\n      <td>5</td>\n      <td>7</td>\n    </tr>\n    <tr>\n      <th>b</th>\n      <td>15</td>\n      <td>17</td>\n      <td>19</td>\n    </tr>\n  </tbody>\n</table>\n</div>"
     },
     "metadata": {},
     "execution_count": 138
    }
   ],
   "source": [
    "df.sum(level = 'key1')  # key1을 기준으로 묶어서 합을 구함."
   ]
  },
  {
   "cell_type": "code",
   "execution_count": 140,
   "metadata": {},
   "outputs": [
    {
     "output_type": "execute_result",
     "data": {
      "text/plain": "color       red  greeb\nkey1 key2             \na    one      2      1\n     two      8      4\nb    three   14      7\n     four    20     10",
      "text/html": "<div>\n<style scoped>\n    .dataframe tbody tr th:only-of-type {\n        vertical-align: middle;\n    }\n\n    .dataframe tbody tr th {\n        vertical-align: top;\n    }\n\n    .dataframe thead th {\n        text-align: right;\n    }\n</style>\n<table border=\"1\" class=\"dataframe\">\n  <thead>\n    <tr style=\"text-align: right;\">\n      <th></th>\n      <th>color</th>\n      <th>red</th>\n      <th>greeb</th>\n    </tr>\n    <tr>\n      <th>key1</th>\n      <th>key2</th>\n      <th></th>\n      <th></th>\n    </tr>\n  </thead>\n  <tbody>\n    <tr>\n      <th rowspan=\"2\" valign=\"top\">a</th>\n      <th>one</th>\n      <td>2</td>\n      <td>1</td>\n    </tr>\n    <tr>\n      <th>two</th>\n      <td>8</td>\n      <td>4</td>\n    </tr>\n    <tr>\n      <th rowspan=\"2\" valign=\"top\">b</th>\n      <th>three</th>\n      <td>14</td>\n      <td>7</td>\n    </tr>\n    <tr>\n      <th>four</th>\n      <td>20</td>\n      <td>10</td>\n    </tr>\n  </tbody>\n</table>\n</div>"
     },
     "metadata": {},
     "execution_count": 140
    }
   ],
   "source": [
    "df.sum(level = 'color', axis = 1)  # color를 기준으로 같은 color를 갖는 항목들의 합을 구함"
   ]
  },
  {
   "cell_type": "code",
   "execution_count": 143,
   "metadata": {},
   "outputs": [
    {
     "output_type": "execute_result",
     "data": {
      "text/plain": "n          num1  num2 num3\ncolor       red greeb  red\nkey1 key2                 \na    one      0     1    2\n     two      3     4    5\nb    three    6     7    8\n     four     9    10   11",
      "text/html": "<div>\n<style scoped>\n    .dataframe tbody tr th:only-of-type {\n        vertical-align: middle;\n    }\n\n    .dataframe tbody tr th {\n        vertical-align: top;\n    }\n\n    .dataframe thead tr th {\n        text-align: left;\n    }\n\n    .dataframe thead tr:last-of-type th {\n        text-align: right;\n    }\n</style>\n<table border=\"1\" class=\"dataframe\">\n  <thead>\n    <tr>\n      <th></th>\n      <th>n</th>\n      <th>num1</th>\n      <th>num2</th>\n      <th>num3</th>\n    </tr>\n    <tr>\n      <th></th>\n      <th>color</th>\n      <th>red</th>\n      <th>greeb</th>\n      <th>red</th>\n    </tr>\n    <tr>\n      <th>key1</th>\n      <th>key2</th>\n      <th></th>\n      <th></th>\n      <th></th>\n    </tr>\n  </thead>\n  <tbody>\n    <tr>\n      <th rowspan=\"2\" valign=\"top\">a</th>\n      <th>one</th>\n      <td>0</td>\n      <td>1</td>\n      <td>2</td>\n    </tr>\n    <tr>\n      <th>two</th>\n      <td>3</td>\n      <td>4</td>\n      <td>5</td>\n    </tr>\n    <tr>\n      <th rowspan=\"2\" valign=\"top\">b</th>\n      <th>three</th>\n      <td>6</td>\n      <td>7</td>\n      <td>8</td>\n    </tr>\n    <tr>\n      <th>four</th>\n      <td>9</td>\n      <td>10</td>\n      <td>11</td>\n    </tr>\n  </tbody>\n</table>\n</div>"
     },
     "metadata": {},
     "execution_count": 143
    }
   ],
   "source": [
    "df"
   ]
  },
  {
   "cell_type": "code",
   "execution_count": 141,
   "metadata": {},
   "outputs": [
    {
     "output_type": "execute_result",
     "data": {
      "text/plain": "n     color\nnum1  red      4.5\nnum2  greeb    5.5\nnum3  red      6.5\ndtype: float64"
     },
     "metadata": {},
     "execution_count": 141
    }
   ],
   "source": [
    "df.mean()"
   ]
  },
  {
   "cell_type": "code",
   "execution_count": 142,
   "metadata": {},
   "outputs": [
    {
     "output_type": "execute_result",
     "data": {
      "text/plain": "color       red  greeb\nkey1 key2             \na    one      1      1\n     two      4      4\nb    three    7      7\n     four    10     10",
      "text/html": "<div>\n<style scoped>\n    .dataframe tbody tr th:only-of-type {\n        vertical-align: middle;\n    }\n\n    .dataframe tbody tr th {\n        vertical-align: top;\n    }\n\n    .dataframe thead th {\n        text-align: right;\n    }\n</style>\n<table border=\"1\" class=\"dataframe\">\n  <thead>\n    <tr style=\"text-align: right;\">\n      <th></th>\n      <th>color</th>\n      <th>red</th>\n      <th>greeb</th>\n    </tr>\n    <tr>\n      <th>key1</th>\n      <th>key2</th>\n      <th></th>\n      <th></th>\n    </tr>\n  </thead>\n  <tbody>\n    <tr>\n      <th rowspan=\"2\" valign=\"top\">a</th>\n      <th>one</th>\n      <td>1</td>\n      <td>1</td>\n    </tr>\n    <tr>\n      <th>two</th>\n      <td>4</td>\n      <td>4</td>\n    </tr>\n    <tr>\n      <th rowspan=\"2\" valign=\"top\">b</th>\n      <th>three</th>\n      <td>7</td>\n      <td>7</td>\n    </tr>\n    <tr>\n      <th>four</th>\n      <td>10</td>\n      <td>10</td>\n    </tr>\n  </tbody>\n</table>\n</div>"
     },
     "metadata": {},
     "execution_count": 142
    }
   ],
   "source": [
    "df.mean(level='color', axis=1)"
   ]
  },
  {
   "cell_type": "code",
   "execution_count": null,
   "metadata": {},
   "outputs": [],
   "source": []
  }
 ]
}