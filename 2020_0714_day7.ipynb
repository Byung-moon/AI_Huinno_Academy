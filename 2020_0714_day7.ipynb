{
 "cells": [
  {
   "cell_type": "code",
   "execution_count": 3,
   "metadata": {},
   "outputs": [
    {
     "data": {
      "text/plain": [
       "[0, 2, 3, 4, 5]"
      ]
     },
     "execution_count": 3,
     "metadata": {},
     "output_type": "execute_result"
    }
   ],
   "source": [
    "#특정 Index의 값 삭제 : del 사용\n",
    "\n",
    "testList = [0, 1, 2, 3, 4, 5]\n",
    "del testList[1]\n",
    "testList"
   ]
  },
  {
   "cell_type": "code",
   "execution_count": 10,
   "metadata": {},
   "outputs": [
    {
     "data": {
      "text/plain": [
       "[0, 1, 2, 3, 4, 5]"
      ]
     },
     "execution_count": 10,
     "metadata": {},
     "output_type": "execute_result"
    }
   ],
   "source": [
    "#특정 값 삭제 : remove 사용\n",
    "#가장 처음의 인덱스의 수를 지움\n",
    "\n",
    "testList = [0, 1, 2, 3, 3, 4, 5]\n",
    "testList.remove(3)\n",
    "testList"
   ]
  },
  {
   "cell_type": "code",
   "execution_count": 6,
   "metadata": {},
   "outputs": [
    {
     "data": {
      "text/plain": [
       "[2, 4]"
      ]
     },
     "execution_count": 6,
     "metadata": {},
     "output_type": "execute_result"
    }
   ],
   "source": [
    "subList = testList[2:4]\n",
    "subList"
   ]
  },
  {
   "cell_type": "code",
   "execution_count": 7,
   "metadata": {},
   "outputs": [
    {
     "data": {
      "text/plain": [
       "5"
      ]
     },
     "execution_count": 7,
     "metadata": {},
     "output_type": "execute_result"
    }
   ],
   "source": [
    "#리스트의 길이\n",
    "len(testList)"
   ]
  },
  {
   "cell_type": "code",
   "execution_count": 11,
   "metadata": {},
   "outputs": [
    {
     "data": {
      "text/plain": [
       "[0, 1, 2, 3, 4, 5, 1000]"
      ]
     },
     "execution_count": 11,
     "metadata": {},
     "output_type": "execute_result"
    }
   ],
   "source": [
    "#리스트에 추가\n",
    "testList.append(1000)\n",
    "testList"
   ]
  },
  {
   "cell_type": "code",
   "execution_count": 13,
   "metadata": {},
   "outputs": [
    {
     "data": {
      "text/plain": [
       "[0, 1, 2, 3, 4, 5, 1000, [2.3], [2.3]]"
      ]
     },
     "execution_count": 13,
     "metadata": {},
     "output_type": "execute_result"
    }
   ],
   "source": [
    "testList.append([2.3])\n",
    "testList"
   ]
  },
  {
   "cell_type": "code",
   "execution_count": 18,
   "metadata": {},
   "outputs": [
    {
     "ename": "ValueError",
     "evalue": "list.remove(x): x not in list",
     "output_type": "error",
     "traceback": [
      "\u001b[1;31m---------------------------------------------------------------------------\u001b[0m",
      "\u001b[1;31mValueError\u001b[0m                                Traceback (most recent call last)",
      "\u001b[1;32m<ipython-input-18-45e9b3821abd>\u001b[0m in \u001b[0;36m<module>\u001b[1;34m\u001b[0m\n\u001b[1;32m----> 1\u001b[1;33m \u001b[0mtestList\u001b[0m\u001b[1;33m.\u001b[0m\u001b[0mremove\u001b[0m\u001b[1;33m(\u001b[0m\u001b[1;33m[\u001b[0m\u001b[1;36m2.3\u001b[0m\u001b[1;33m]\u001b[0m\u001b[1;33m)\u001b[0m\u001b[1;33m\u001b[0m\u001b[1;33m\u001b[0m\u001b[0m\n\u001b[0m\u001b[0;32m      2\u001b[0m \u001b[0mtestList\u001b[0m\u001b[1;33m\u001b[0m\u001b[1;33m\u001b[0m\u001b[0m\n",
      "\u001b[1;31mValueError\u001b[0m: list.remove(x): x not in list"
     ]
    }
   ],
   "source": [
    "testList.remove([2.3])\n",
    "testList"
   ]
  },
  {
   "cell_type": "code",
   "execution_count": 19,
   "metadata": {},
   "outputs": [
    {
     "data": {
      "text/plain": [
       "[0, 1, 2, 3, 4, 5, 1000]"
      ]
     },
     "execution_count": 19,
     "metadata": {},
     "output_type": "execute_result"
    }
   ],
   "source": [
    "# sort() 오름차순 정렬\n",
    "testList.sort()\n",
    "testList"
   ]
  },
  {
   "cell_type": "code",
   "execution_count": 20,
   "metadata": {},
   "outputs": [
    {
     "data": {
      "text/plain": [
       "[1000, 5, 4, 3, 2, 1, 0]"
      ]
     },
     "execution_count": 20,
     "metadata": {},
     "output_type": "execute_result"
    }
   ],
   "source": [
    "# sort(reverse = True) 내림차순 정렬\n",
    "\n",
    "testList.sort(reverse=True)\n",
    "testList"
   ]
  },
  {
   "cell_type": "code",
   "execution_count": 30,
   "metadata": {},
   "outputs": [],
   "source": [
    "#로또 번호 생성기\n",
    "\n",
    "import random\n",
    "\n",
    "def lotto():\n",
    "    for i in range(0,6):\n",
    "        print(random.randint(1,45))\n",
    "\n"
   ]
  },
  {
   "cell_type": "code",
   "execution_count": 31,
   "metadata": {},
   "outputs": [
    {
     "name": "stdout",
     "output_type": "stream",
     "text": [
      "1\n",
      "40\n",
      "1\n",
      "8\n",
      "8\n",
      "4\n"
     ]
    }
   ],
   "source": [
    "lotto()"
   ]
  },
  {
   "cell_type": "code",
   "execution_count": 41,
   "metadata": {},
   "outputs": [],
   "source": [
    "def newLotto():\n",
    "    lottoNumber = []\n",
    "    while True:\n",
    "        if len(lottoNumber) == 6:\n",
    "            break\n",
    "        newNumber = random.randint(1,45)\n",
    "        if newNumber not in lottoNumber:\n",
    "            #print(newNumber)\n",
    "            lottoNumber.append(newNumber)\n",
    "    return lottoNumber"
   ]
  },
  {
   "cell_type": "code",
   "execution_count": 42,
   "metadata": {},
   "outputs": [
    {
     "data": {
      "text/plain": [
       "[2, 22, 29, 7, 10, 25]"
      ]
     },
     "execution_count": 42,
     "metadata": {},
     "output_type": "execute_result"
    }
   ],
   "source": [
    "newLotto()\n"
   ]
  },
  {
   "cell_type": "code",
   "execution_count": 57,
   "metadata": {},
   "outputs": [],
   "source": [
    "def inputNum(lottoNumber):\n",
    "    numList = []\n",
    "    goalNum = 0\n",
    "    newNum = 0\n",
    "    while True:\n",
    "        if len(numList) == 6:\n",
    "            break\n",
    "        newNum = int(input(\"번호를 입력하세요:\"))\n",
    "        numList.append(newNum)\n",
    "        if newNum in lottoNumber:\n",
    "             goalNum += 1\n",
    "    if goalNum == 6:\n",
    "         print(\"1등입니다\")\n",
    "    elif goalNum == 5:\n",
    "         print(\"2등입니다\")\n",
    "    elif goalNum == 4:\n",
    "         print(\"3등입니다\")\n",
    "    elif goalNum == 3:\n",
    "          print(\"4등입니다\")\n",
    "    else:\n",
    "          print(\"꽝입니다\")\n",
    "    \n",
    "    print(goalNum)"
   ]
  },
  {
   "cell_type": "code",
   "execution_count": 59,
   "metadata": {},
   "outputs": [
    {
     "name": "stdout",
     "output_type": "stream",
     "text": [
      "[40, 35, 12, 2, 22, 39]\n",
      "번호를 입력하세요:40\n",
      "번호를 입력하세요:35\n",
      "번호를 입력하세요:12\n",
      "번호를 입력하세요:2\n",
      "번호를 입력하세요:22\n",
      "번호를 입력하세요:39\n",
      "1등입니다\n",
      "6\n",
      "[40, 35, 12, 2, 22, 39]\n"
     ]
    }
   ],
   "source": [
    "lottoNum = newLotto()\n",
    "print(lottoNum)\n",
    "inputNum(lottoNum)\n",
    "\n",
    "print(lottoNum)\n"
   ]
  },
  {
   "cell_type": "markdown",
   "metadata": {},
   "source": [
    "## 튜플 생성\n",
    "\n",
    "* 빈 튜플 만들기\n",
    "> t = ()\n",
    "\n",
    "* 요소가 하나인 튜플 만들기\n",
    "> t = (5,)\n",
    "\n",
    "* t = (5) 로 하면 t에 정수 5가 입력됨\n",
    "\n",
    "\n",
    "* 요소가 여러 개인 튜플 만들기\n",
    "> t = (5, 7, 9)\n",
    "\n",
    "> t = 5, 7, 9"
   ]
  },
  {
   "cell_type": "code",
   "execution_count": 60,
   "metadata": {},
   "outputs": [
    {
     "data": {
      "text/plain": [
       "(1, 3, 5, 7, 9)"
      ]
     },
     "execution_count": 60,
     "metadata": {},
     "output_type": "execute_result"
    }
   ],
   "source": [
    "t = (1,3,5,7,9,11,13,15)\n",
    "t[:5]"
   ]
  },
  {
   "cell_type": "code",
   "execution_count": 61,
   "metadata": {},
   "outputs": [
    {
     "data": {
      "text/plain": [
       "(1, 2, 3)"
      ]
     },
     "execution_count": 61,
     "metadata": {},
     "output_type": "execute_result"
    }
   ],
   "source": [
    "#튜플 패킹\n",
    "t = 1,2,3,\n",
    "t"
   ]
  },
  {
   "cell_type": "code",
   "execution_count": 63,
   "metadata": {},
   "outputs": [
    {
     "name": "stdout",
     "output_type": "stream",
     "text": [
      "1\n",
      "2\n",
      "3\n"
     ]
    }
   ],
   "source": [
    "#튜플 언패킹\n",
    "a,b,c = t\n",
    "print(a)\n",
    "print(b)\n",
    "print(c)"
   ]
  },
  {
   "cell_type": "code",
   "execution_count": 64,
   "metadata": {},
   "outputs": [
    {
     "data": {
      "text/plain": [
       "3"
      ]
     },
     "execution_count": 64,
     "metadata": {},
     "output_type": "execute_result"
    }
   ],
   "source": [
    "#index()\n",
    "# 매개 변수와 일치하는 첫번째 요소 인덱스 리턴, 만약 없으면 ValueError 발생\n",
    "\n",
    "t = (1,2,3,4,1,2,3,4)\n",
    "t.index(4)"
   ]
  },
  {
   "cell_type": "code",
   "execution_count": 65,
   "metadata": {},
   "outputs": [
    {
     "ename": "ValueError",
     "evalue": "tuple.index(x): x not in tuple",
     "output_type": "error",
     "traceback": [
      "\u001b[1;31m---------------------------------------------------------------------------\u001b[0m",
      "\u001b[1;31mValueError\u001b[0m                                Traceback (most recent call last)",
      "\u001b[1;32m<ipython-input-65-3bc0374a84de>\u001b[0m in \u001b[0;36m<module>\u001b[1;34m\u001b[0m\n\u001b[1;32m----> 1\u001b[1;33m \u001b[0mt\u001b[0m\u001b[1;33m.\u001b[0m\u001b[0mindex\u001b[0m\u001b[1;33m(\u001b[0m\u001b[1;36m5\u001b[0m\u001b[1;33m)\u001b[0m\u001b[1;33m\u001b[0m\u001b[1;33m\u001b[0m\u001b[0m\n\u001b[0m",
      "\u001b[1;31mValueError\u001b[0m: tuple.index(x): x not in tuple"
     ]
    }
   ],
   "source": [
    "t.index(5)"
   ]
  },
  {
   "cell_type": "code",
   "execution_count": 66,
   "metadata": {},
   "outputs": [
    {
     "data": {
      "text/plain": [
       "2"
      ]
     },
     "execution_count": 66,
     "metadata": {},
     "output_type": "execute_result"
    }
   ],
   "source": [
    "# count()\n",
    "# 매개 변수와 일치하는 요쇼의 개수 리턴, 없으면 0\n",
    "\n",
    "t.count(4)"
   ]
  },
  {
   "cell_type": "markdown",
   "metadata": {},
   "source": [
    "## 집합(Set) 자료형\n",
    "\n",
    "\n",
    "### 집합 연산\n",
    "\n"
   ]
  },
  {
   "cell_type": "code",
   "execution_count": 3,
   "metadata": {},
   "outputs": [
    {
     "data": {
      "text/plain": [
       "{'녕', '세', '안', '요', '하'}"
      ]
     },
     "execution_count": 3,
     "metadata": {},
     "output_type": "execute_result"
    }
   ],
   "source": [
    "s = set(\"안녕하세요\")\n",
    "s"
   ]
  },
  {
   "cell_type": "code",
   "execution_count": 5,
   "metadata": {},
   "outputs": [
    {
     "data": {
      "text/plain": [
       "'세'"
      ]
     },
     "execution_count": 5,
     "metadata": {},
     "output_type": "execute_result"
    }
   ],
   "source": [
    "i = list(s)\n",
    "i[2]"
   ]
  },
  {
   "cell_type": "code",
   "execution_count": 6,
   "metadata": {},
   "outputs": [
    {
     "name": "stdout",
     "output_type": "stream",
     "text": [
      "세\n"
     ]
    }
   ],
   "source": [
    "print(i[2])"
   ]
  },
  {
   "cell_type": "code",
   "execution_count": 9,
   "metadata": {},
   "outputs": [
    {
     "name": "stdout",
     "output_type": "stream",
     "text": [
      "{1, 2, 3, 4, 5, 6, 7, 8, 9, 10, 11, 12}\n",
      "{1, 2, 3, 4, 5, 6, 7, 8, 9, 10, 11, 12}\n"
     ]
    }
   ],
   "source": [
    "# 합집합 |, union()\n",
    "s1 = set([1,3,5,7,9,11,12])\n",
    "s2 = set([2,4,6,8,10,11,12])\n",
    "print(s1 | s2) \n",
    "print(s1.union(s2))\n"
   ]
  },
  {
   "cell_type": "code",
   "execution_count": 10,
   "metadata": {},
   "outputs": [
    {
     "name": "stdout",
     "output_type": "stream",
     "text": [
      "{11, 12}\n",
      "{11, 12}\n"
     ]
    }
   ],
   "source": [
    "# 교집합 &, intrersection()\n",
    "\n",
    "print(s1 & s2)\n",
    "print(s1.intersection(s2))"
   ]
  },
  {
   "cell_type": "code",
   "execution_count": 11,
   "metadata": {},
   "outputs": [
    {
     "name": "stdout",
     "output_type": "stream",
     "text": [
      "{2, 4, 6, 8, 10}\n",
      "{2, 4, 6, 8, 10}\n"
     ]
    }
   ],
   "source": [
    "# 차집합 -, defference()\n",
    "\n",
    "print(s2-s1)\n",
    "print(s2.difference(s1))"
   ]
  },
  {
   "cell_type": "code",
   "execution_count": 13,
   "metadata": {},
   "outputs": [
    {
     "data": {
      "text/plain": [
       "{1, 3, 5, 7, 9, 10, 11, 12}"
      ]
     },
     "execution_count": 13,
     "metadata": {},
     "output_type": "execute_result"
    }
   ],
   "source": [
    "# 집합 원소 한 개 추가, add()\n",
    "\n",
    "s1.add(10)\n",
    "s1"
   ]
  },
  {
   "cell_type": "code",
   "execution_count": 15,
   "metadata": {},
   "outputs": [
    {
     "data": {
      "text/plain": [
       "{1, 3, 5, 7, 9, 10, 11, 12, 20, 30}"
      ]
     },
     "execution_count": 15,
     "metadata": {},
     "output_type": "execute_result"
    }
   ],
   "source": [
    "# 집합 원소 여러 개를 추가, update()\n",
    "\n",
    "s1.update([20,30])\n",
    "s1\n"
   ]
  },
  {
   "cell_type": "code",
   "execution_count": 18,
   "metadata": {},
   "outputs": [
    {
     "data": {
      "text/plain": [
       "{1, 3, 5, 7, 9, 10, 11, 12, 30}"
      ]
     },
     "execution_count": 18,
     "metadata": {},
     "output_type": "execute_result"
    }
   ],
   "source": [
    "# 특정 값을 제거 - 하나만 제거할 수 있음\n",
    "\n",
    "s1.remove(20)\n",
    "s1"
   ]
  },
  {
   "cell_type": "code",
   "execution_count": 25,
   "metadata": {},
   "outputs": [
    {
     "data": {
      "text/plain": [
       "'사과'"
      ]
     },
     "execution_count": 25,
     "metadata": {},
     "output_type": "execute_result"
    }
   ],
   "source": [
    "# 리스트와 다르게 인덱스로 key 값을 사용\n",
    "# key 값은 정순, 실수, 문자열을 사용\n",
    "\n",
    "\n",
    "myDic = {\"apple\":\"사과\", \"dog\":\"개\", \"cat\":\"고양이\"}\n",
    "myDic[\"apple\"]"
   ]
  },
  {
   "cell_type": "code",
   "execution_count": 29,
   "metadata": {},
   "outputs": [
    {
     "data": {
      "text/plain": [
       "dict_values(['사과', '개', '고양이'])"
      ]
     },
     "execution_count": 29,
     "metadata": {},
     "output_type": "execute_result"
    }
   ],
   "source": [
    "# values() : Dictionary가 가진 값들의 리스트 출력. 결과 값이 리스트\n",
    "# myDic.values() : [\"사과\", \"개\", \"고양이\"] 출력\n",
    "myDic.values()"
   ]
  },
  {
   "cell_type": "code",
   "execution_count": 31,
   "metadata": {},
   "outputs": [
    {
     "data": {
      "text/plain": [
       "'no Value'"
      ]
     },
     "execution_count": 31,
     "metadata": {},
     "output_type": "execute_result"
    }
   ],
   "source": [
    "# get(key,default value) : key가 dictionary에 포함되어 있으면, 그 value를 찾아 리턴,\n",
    "# 없으면 default value를 리턴\n",
    "\n",
    "myDic.get(\"lion\",\"no Value\")"
   ]
  },
  {
   "cell_type": "code",
   "execution_count": 32,
   "metadata": {},
   "outputs": [
    {
     "data": {
      "text/plain": [
       "{'apple': '사과', 'dog': '개', 'cat': '고양이', 'lion': '사자'}"
      ]
     },
     "execution_count": 32,
     "metadata": {},
     "output_type": "execute_result"
    }
   ],
   "source": [
    "# setdefault() : dictionary에 있는 특정 key의 value값을 처음 한번만 설정하고 싶은 때 사용\n",
    "\n",
    "myDic.setdefault(\"lion\", \"사자\")\n",
    "myDic.setdefault(\"dog\", \"강아지\")\n",
    "\n",
    "myDic"
   ]
  },
  {
   "cell_type": "code",
   "execution_count": 33,
   "metadata": {},
   "outputs": [
    {
     "data": {
      "text/plain": [
       "{'apple': '사과', 'dog': '강아지', 'cat': '고양이', 'lion': '사자'}"
      ]
     },
     "execution_count": 33,
     "metadata": {},
     "output_type": "execute_result"
    }
   ],
   "source": [
    "# 특정한 key값의 value 변경\n",
    "\n",
    "myDic[\"dog\"] = \"강아지\"\n",
    "myDic\n"
   ]
  },
  {
   "cell_type": "code",
   "execution_count": null,
   "metadata": {},
   "outputs": [
    {
     "name": "stdout",
     "output_type": "stream",
     "text": [
      "Enter a name: (blank to quit)\n",
      "이지연\n",
      "2월 7일 is the birthday of 이지연\n",
      "Enter a name: (blank to quit)\n",
      "변병문\n",
      "null is the birthday of 변병문\n",
      "Enter a name: (blank to quit)\n",
      "변지연\n",
      "I do not have birthday information for 변지연\n",
      "What is their birthday?\n",
      "4월20일\n",
      "Birthday database updated.\n",
      "Enter a name: (blank to quit)\n",
      "이지연\n",
      "2월 7일 is the birthday of 이지연\n",
      "Enter a name: (blank to quit)\n",
      "변지연\n",
      "4월20일 is the birthday of 변지연\n",
      "Enter a name: (blank to quit)\n",
      "변병문\n",
      "null is the birthday of 변병문\n",
      "Enter a name: (blank to quit)\n"
     ]
    }
   ],
   "source": [
    "birthdays = {'이지연': '2월 7일', '변병문': 'null'}\n",
    "\n",
    "while True:\n",
    "    print('Enter a name: (blank to quit)')\n",
    "    name = input()\n",
    "    if name == '':\n",
    "        break\n",
    "        \n",
    "    if name in birthdays:\n",
    "        print(birthdays[name] + ' is the birthday of ' + name)\n",
    "    else:\n",
    "        print('I do not have birthday information for ' + name)\n",
    "        print('What is their birthday?')\n",
    "        bday = input()\n",
    "        birthdays[name] = bday\n",
    "        print('Birthday database updated.')"
   ]
  },
  {
   "cell_type": "code",
   "execution_count": 27,
   "metadata": {},
   "outputs": [
    {
     "name": "stdout",
     "output_type": "stream",
     "text": [
      "문장을 입력하세요:Yeungnam University Computer Science\n",
      "Y가 나타난 횟수: 1\n",
      "e가 나타난 횟수: 5\n",
      "u가 나타난 횟수: 2\n",
      "n가 나타난 횟수: 4\n",
      "g가 나타난 횟수: 1\n"
     ]
    }
   ],
   "source": [
    "# 알파벳 빈도 계산하기\n",
    "# 사용자로부터 문장을 입력 받고, 입력 받은 문장에 포함된 알파벳의 출연 빈도 출력\n",
    "\n",
    "userString = input(\"문장을 입력하세요:\")\n",
    "\n",
    "indexNum = 0\n",
    "stopNum = 0\n",
    "alphaList = []\n",
    "\n",
    "appearingPercent = 0\n",
    "\n",
    "for x in userString:\n",
    "    appearingNum = 0\n",
    "    \n",
    "    if x in alphaList:          # 중복 알파벳 확인\n",
    "        break\n",
    "    elif x.isalpha() == False:  # 알파벳인지 확인\n",
    "        break\n",
    "    \n",
    "    # 나타난 횟수 체크\n",
    "    for y in userString:\n",
    "        if x == y:\n",
    "            appearingNum += 1\n",
    "            stopNum += 1\n",
    "    \n",
    "    print(\"%s가 나타난 횟수: %s\" % (userString[indexNum], appearingNum))\n",
    "    #print(\"%s가 나타난 비율: %s\" % (userString[indexNum], (appearingNum/len(userString))))\n",
    "    indexNum += 1\n",
    "    \n",
    "    alphaList.append(x) \n",
    "    \n"
   ]
  },
  {
   "cell_type": "code",
   "execution_count": null,
   "metadata": {},
   "outputs": [],
   "source": []
  }
 ],
 "metadata": {
  "kernelspec": {
   "display_name": "Python 3",
   "language": "python",
   "name": "python3"
  },
  "language_info": {
   "codemirror_mode": {
    "name": "ipython",
    "version": 3
   },
   "file_extension": ".py",
   "mimetype": "text/x-python",
   "name": "python",
   "nbconvert_exporter": "python",
   "pygments_lexer": "ipython3",
   "version": "3.7.6"
  }
 },
 "nbformat": 4,
 "nbformat_minor": 4
}
