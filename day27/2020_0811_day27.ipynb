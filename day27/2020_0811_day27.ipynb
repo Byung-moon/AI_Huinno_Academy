{
 "cells": [
  {
   "cell_type": "code",
   "execution_count": 2,
   "metadata": {},
   "outputs": [],
   "source": [
    "import os\n",
    "import pandas as pd\n",
    "import numpy as np\n",
    "\n",
    "HOUSING_PATH = os.path.join(\"datasets\", \"housing\")\n",
    "housing = pd.read_csv(os.path.join(HOUSING_PATH, 'housing.csv'))\n",
    "\n",
    "housing['income_cat'] = pd.cut( housing['median_income'],\n",
    "                              bins = [0, 1.5, 3.0, 4.5, 6, np.inf],\n",
    "                              labels = [1, 2, 3, 4, 5])\n",
    "\n",
    "#계층 샘플링.\n",
    "\n",
    "from sklearn.model_selection import StratifiedShuffleSplit\n",
    "\n",
    "split = StratifiedShuffleSplit(n_splits=1, test_size=0.2, random_state=42)\n",
    "\n",
    "for train_index, test_index in  split.split(housing, housing['income_cat']):\n",
    "    strat_train_set = housing.loc[train_index]\n",
    "    strat_test_set = housing.loc[test_index]\n",
    "    \n",
    "strat_train_set.drop('income_cat', axis=1, inplace=True)\n",
    "strat_test_set.drop('income_cat', axis=1, inplace=True)\n",
    "\n",
    "# ML을 위한 데이터 준비\n",
    "housing = strat_train_set.drop('median_house_value', axis=1)\n",
    "housing_labels = strat_train_set['median_house_value'].copy()\n",
    "\n",
    "#데이터 정제\n",
    "# SimpleImputer로 missing data 값을 쉽게 다룰수 있다!\n",
    "from sklearn.impute import SimpleImputer\n",
    "imputer = SimpleImputer(strategy='median')\n",
    "housing_num = housing.drop('ocean_proximity', axis=1) #텍스트 특성 삭제\n",
    "imputer.fit(housing_num) #추정기(estimator)\n",
    "X = imputer.transform(housing_num) #변환기(transformer)\n",
    "housing_tr = pd.DataFrame(X, columns=housing_num.columns, index = housing_num.index)\n",
    "\n",
    "#텍스트 -> 수치화\n",
    "housing_cat = housing[['ocean_proximity']]\n",
    "\n",
    "#One hot encoder를 사용하자!\n",
    "from sklearn.preprocessing import OneHotEncoder\n",
    "cat_encoder = OneHotEncoder()\n",
    "housing_cat_1hot = cat_encoder.fit_transform(housing_cat)\n",
    "\n",
    "#커스텀 변환기\n",
    "from sklearn.base import BaseEstimator, TransformerMixin\n",
    "\n",
    "# 열 인덱스\n",
    "rooms_ix, bedrooms_ix, population_ix, households_ix = 3, 4, 5, 6\n",
    "\n",
    "class CombinedAttributesAdder(BaseEstimator, TransformerMixin):\n",
    "    def __init__(self, add_bedrooms_per_room = True): # *args 또는 **kargs 없음\n",
    "        self.add_bedrooms_per_room = add_bedrooms_per_room\n",
    "    def fit(self, X, y=None):\n",
    "        return self  # 아무것도 하지 않습니다\n",
    "    def transform(self, X):\n",
    "        rooms_per_household = X[:, rooms_ix] / X[:, households_ix]\n",
    "        population_per_household = X[:, population_ix] / X[:, households_ix]\n",
    "        if self.add_bedrooms_per_room:\n",
    "            bedrooms_per_room = X[:, bedrooms_ix] / X[:, rooms_ix]\n",
    "            return np.c_[X, rooms_per_household, population_per_household,\n",
    "                         bedrooms_per_room]\n",
    "        else:\n",
    "            return np.c_[X, rooms_per_household, population_per_household]\n",
    "\n",
    "attr_adder = CombinedAttributesAdder(add_bedrooms_per_room=False)\n",
    "housing_extra_attribs = attr_adder.transform(housing.to_numpy())"
   ]
  },
  {
   "cell_type": "code",
   "execution_count": 3,
   "metadata": {},
   "outputs": [],
   "source": [
    "## 변환 파이프라인\n",
    "\n",
    "from sklearn.pipeline import Pipeline\n",
    "from sklearn.preprocessing import StandardScaler\n",
    "\n",
    "num_pipeline = Pipeline([\n",
    "    ('imputer', SimpleImputer(strategy='median')),\n",
    "    ('attribs_adder', CombinedAttributesAdder()),\n",
    "    ('std_scaler', StandardScaler())\n",
    "])\n"
   ]
  },
  {
   "cell_type": "code",
   "execution_count": 4,
   "metadata": {},
   "outputs": [],
   "source": [
    "housing_num_tr = num_pipeline.fit_transform(housing_num)"
   ]
  },
  {
   "cell_type": "code",
   "execution_count": 5,
   "metadata": {},
   "outputs": [
    {
     "data": {
      "text/plain": [
       "numpy.ndarray"
      ]
     },
     "execution_count": 5,
     "metadata": {},
     "output_type": "execute_result"
    }
   ],
   "source": [
    "type(housing_num_tr)"
   ]
  },
  {
   "cell_type": "code",
   "execution_count": 6,
   "metadata": {},
   "outputs": [
    {
     "data": {
      "text/plain": [
       "array([[-1.15604281,  0.77194962,  0.74333089, ..., -0.31205452,\n",
       "        -0.08649871,  0.15531753],\n",
       "       [-1.17602483,  0.6596948 , -1.1653172 , ...,  0.21768338,\n",
       "        -0.03353391, -0.83628902],\n",
       "       [ 1.18684903, -1.34218285,  0.18664186, ..., -0.46531516,\n",
       "        -0.09240499,  0.4222004 ],\n",
       "       ...,\n",
       "       [ 1.58648943, -0.72478134, -1.56295222, ...,  0.3469342 ,\n",
       "        -0.03055414, -0.52177644],\n",
       "       [ 0.78221312, -0.85106801,  0.18664186, ...,  0.02499488,\n",
       "         0.06150916, -0.30340741],\n",
       "       [-1.43579109,  0.99645926,  1.85670895, ..., -0.22852947,\n",
       "        -0.09586294,  0.10180567]])"
      ]
     },
     "execution_count": 6,
     "metadata": {},
     "output_type": "execute_result"
    }
   ],
   "source": [
    "housing_num_tr"
   ]
  },
  {
   "cell_type": "code",
   "execution_count": 8,
   "metadata": {},
   "outputs": [
    {
     "data": {
      "text/plain": [
       "['longitude',\n",
       " 'latitude',\n",
       " 'housing_median_age',\n",
       " 'total_rooms',\n",
       " 'total_bedrooms',\n",
       " 'population',\n",
       " 'households',\n",
       " 'median_income']"
      ]
     },
     "execution_count": 8,
     "metadata": {},
     "output_type": "execute_result"
    }
   ],
   "source": [
    "list(housing_num)"
   ]
  },
  {
   "cell_type": "code",
   "execution_count": 9,
   "metadata": {},
   "outputs": [],
   "source": [
    "#범주형(문자형) 데이터 열과  수치형 데이터 열을 동시에 다루기\n",
    "# --> ColumnTransformer\n",
    "\n",
    "from sklearn.compose import ColumnTransformer\n",
    "num_attribs = list(housing_num)\n",
    "cat_attribs = ['ocean_proximity']\n",
    "\n",
    "full_pipeline = ColumnTransformer([\n",
    "    ('num', num_pipeline, num_attribs),\n",
    "    ('cat', OneHotEncoder(), cat_attribs)\n",
    "])\n"
   ]
  },
  {
   "cell_type": "code",
   "execution_count": 10,
   "metadata": {},
   "outputs": [],
   "source": [
    "housing_prepared = full_pipeline.fit_transform(housing)"
   ]
  },
  {
   "cell_type": "code",
   "execution_count": 11,
   "metadata": {},
   "outputs": [
    {
     "data": {
      "text/plain": [
       "numpy.ndarray"
      ]
     },
     "execution_count": 11,
     "metadata": {},
     "output_type": "execute_result"
    }
   ],
   "source": [
    "type(housing_prepared)"
   ]
  },
  {
   "cell_type": "code",
   "execution_count": 12,
   "metadata": {},
   "outputs": [
    {
     "data": {
      "text/plain": [
       "(16512, 16)"
      ]
     },
     "execution_count": 12,
     "metadata": {},
     "output_type": "execute_result"
    }
   ],
   "source": [
    "housing_prepared.shape"
   ]
  },
  {
   "cell_type": "code",
   "execution_count": 13,
   "metadata": {},
   "outputs": [
    {
     "data": {
      "text/plain": [
       "(16512, 9)"
      ]
     },
     "execution_count": 13,
     "metadata": {},
     "output_type": "execute_result"
    }
   ],
   "source": [
    "housing.shape"
   ]
  },
  {
   "cell_type": "code",
   "execution_count": 14,
   "metadata": {},
   "outputs": [
    {
     "data": {
      "text/plain": [
       "LinearRegression(copy_X=True, fit_intercept=True, n_jobs=None, normalize=False)"
      ]
     },
     "execution_count": 14,
     "metadata": {},
     "output_type": "execute_result"
    }
   ],
   "source": [
    "# 모델 선택과 훈련\n",
    "from sklearn.linear_model import LinearRegression\n",
    "\n",
    "lin_reg = LinearRegression()\n",
    "lin_reg.fit(housing_prepared, housing_labels)"
   ]
  },
  {
   "cell_type": "code",
   "execution_count": 15,
   "metadata": {},
   "outputs": [],
   "source": [
    "some_data = housing.iloc[:5]\n",
    "some_labels = housing_labels.iloc[:5]"
   ]
  },
  {
   "cell_type": "code",
   "execution_count": 16,
   "metadata": {},
   "outputs": [
    {
     "data": {
      "text/html": [
       "<div>\n",
       "<style scoped>\n",
       "    .dataframe tbody tr th:only-of-type {\n",
       "        vertical-align: middle;\n",
       "    }\n",
       "\n",
       "    .dataframe tbody tr th {\n",
       "        vertical-align: top;\n",
       "    }\n",
       "\n",
       "    .dataframe thead th {\n",
       "        text-align: right;\n",
       "    }\n",
       "</style>\n",
       "<table border=\"1\" class=\"dataframe\">\n",
       "  <thead>\n",
       "    <tr style=\"text-align: right;\">\n",
       "      <th></th>\n",
       "      <th>longitude</th>\n",
       "      <th>latitude</th>\n",
       "      <th>housing_median_age</th>\n",
       "      <th>total_rooms</th>\n",
       "      <th>total_bedrooms</th>\n",
       "      <th>population</th>\n",
       "      <th>households</th>\n",
       "      <th>median_income</th>\n",
       "      <th>ocean_proximity</th>\n",
       "    </tr>\n",
       "  </thead>\n",
       "  <tbody>\n",
       "    <tr>\n",
       "      <th>17606</th>\n",
       "      <td>-121.89</td>\n",
       "      <td>37.29</td>\n",
       "      <td>38.0</td>\n",
       "      <td>1568.0</td>\n",
       "      <td>351.0</td>\n",
       "      <td>710.0</td>\n",
       "      <td>339.0</td>\n",
       "      <td>2.7042</td>\n",
       "      <td>&lt;1H OCEAN</td>\n",
       "    </tr>\n",
       "    <tr>\n",
       "      <th>18632</th>\n",
       "      <td>-121.93</td>\n",
       "      <td>37.05</td>\n",
       "      <td>14.0</td>\n",
       "      <td>679.0</td>\n",
       "      <td>108.0</td>\n",
       "      <td>306.0</td>\n",
       "      <td>113.0</td>\n",
       "      <td>6.4214</td>\n",
       "      <td>&lt;1H OCEAN</td>\n",
       "    </tr>\n",
       "    <tr>\n",
       "      <th>14650</th>\n",
       "      <td>-117.20</td>\n",
       "      <td>32.77</td>\n",
       "      <td>31.0</td>\n",
       "      <td>1952.0</td>\n",
       "      <td>471.0</td>\n",
       "      <td>936.0</td>\n",
       "      <td>462.0</td>\n",
       "      <td>2.8621</td>\n",
       "      <td>NEAR OCEAN</td>\n",
       "    </tr>\n",
       "    <tr>\n",
       "      <th>3230</th>\n",
       "      <td>-119.61</td>\n",
       "      <td>36.31</td>\n",
       "      <td>25.0</td>\n",
       "      <td>1847.0</td>\n",
       "      <td>371.0</td>\n",
       "      <td>1460.0</td>\n",
       "      <td>353.0</td>\n",
       "      <td>1.8839</td>\n",
       "      <td>INLAND</td>\n",
       "    </tr>\n",
       "    <tr>\n",
       "      <th>3555</th>\n",
       "      <td>-118.59</td>\n",
       "      <td>34.23</td>\n",
       "      <td>17.0</td>\n",
       "      <td>6592.0</td>\n",
       "      <td>1525.0</td>\n",
       "      <td>4459.0</td>\n",
       "      <td>1463.0</td>\n",
       "      <td>3.0347</td>\n",
       "      <td>&lt;1H OCEAN</td>\n",
       "    </tr>\n",
       "  </tbody>\n",
       "</table>\n",
       "</div>"
      ],
      "text/plain": [
       "       longitude  latitude  housing_median_age  total_rooms  total_bedrooms  \\\n",
       "17606    -121.89     37.29                38.0       1568.0           351.0   \n",
       "18632    -121.93     37.05                14.0        679.0           108.0   \n",
       "14650    -117.20     32.77                31.0       1952.0           471.0   \n",
       "3230     -119.61     36.31                25.0       1847.0           371.0   \n",
       "3555     -118.59     34.23                17.0       6592.0          1525.0   \n",
       "\n",
       "       population  households  median_income ocean_proximity  \n",
       "17606       710.0       339.0         2.7042       <1H OCEAN  \n",
       "18632       306.0       113.0         6.4214       <1H OCEAN  \n",
       "14650       936.0       462.0         2.8621      NEAR OCEAN  \n",
       "3230       1460.0       353.0         1.8839          INLAND  \n",
       "3555       4459.0      1463.0         3.0347       <1H OCEAN  "
      ]
     },
     "execution_count": 16,
     "metadata": {},
     "output_type": "execute_result"
    }
   ],
   "source": [
    "some_data"
   ]
  },
  {
   "cell_type": "code",
   "execution_count": 20,
   "metadata": {},
   "outputs": [
    {
     "data": {
      "text/plain": [
       "[286600.0, 340600.0, 196900.0, 46300.0, 254500.0]"
      ]
     },
     "execution_count": 20,
     "metadata": {},
     "output_type": "execute_result"
    }
   ],
   "source": [
    "list(some_labels)"
   ]
  },
  {
   "cell_type": "code",
   "execution_count": 18,
   "metadata": {},
   "outputs": [],
   "source": [
    "some_data_prepared = full_pipeline.transform(some_data)"
   ]
  },
  {
   "cell_type": "code",
   "execution_count": 19,
   "metadata": {},
   "outputs": [
    {
     "name": "stdout",
     "output_type": "stream",
     "text": [
      "예측 :  [210644.60459286 317768.80697211 210956.43331178  59218.98886849\n",
      " 189747.55849879]\n"
     ]
    }
   ],
   "source": [
    "print(\"예측 : \", lin_reg.predict(some_data_prepared) )"
   ]
  },
  {
   "cell_type": "code",
   "execution_count": 21,
   "metadata": {},
   "outputs": [],
   "source": [
    "# RMSE (Root Mean Square Error), 평균 제곱근 오차 측정\n",
    "from sklearn.metrics import mean_squared_error\n",
    "\n",
    "housing_prediction = lin_reg.predict(housing_prepared)\n",
    "lin_mse = mean_squared_error(housing_labels, housing_prediction)\n",
    "lin_rmse = np.sqrt(lin_mse)"
   ]
  },
  {
   "cell_type": "code",
   "execution_count": 22,
   "metadata": {},
   "outputs": [
    {
     "data": {
      "text/plain": [
       "68628.19819848923"
      ]
     },
     "execution_count": 22,
     "metadata": {},
     "output_type": "execute_result"
    }
   ],
   "source": [
    "lin_rmse  #과소적합(under fit)"
   ]
  },
  {
   "cell_type": "code",
   "execution_count": 23,
   "metadata": {},
   "outputs": [
    {
     "data": {
      "text/plain": [
       "DecisionTreeRegressor(ccp_alpha=0.0, criterion='mse', max_depth=None,\n",
       "                      max_features=None, max_leaf_nodes=None,\n",
       "                      min_impurity_decrease=0.0, min_impurity_split=None,\n",
       "                      min_samples_leaf=1, min_samples_split=2,\n",
       "                      min_weight_fraction_leaf=0.0, presort='deprecated',\n",
       "                      random_state=42, splitter='best')"
      ]
     },
     "execution_count": 23,
     "metadata": {},
     "output_type": "execute_result"
    }
   ],
   "source": [
    "#decision tree (결정트리)\n",
    "from sklearn.tree import DecisionTreeRegressor\n",
    "\n",
    "tree_reg = DecisionTreeRegressor(random_state=42)\n",
    "tree_reg.fit(housing_prepared, housing_labels)\n"
   ]
  },
  {
   "cell_type": "code",
   "execution_count": 24,
   "metadata": {},
   "outputs": [],
   "source": [
    "housing_prediction = tree_reg.predict(housing_prepared)"
   ]
  },
  {
   "cell_type": "code",
   "execution_count": 25,
   "metadata": {},
   "outputs": [],
   "source": [
    "tree_mse = mean_squared_error(housing_labels, housing_prediction)\n",
    "tree_rmse = np.sqrt(tree_mse)"
   ]
  },
  {
   "cell_type": "code",
   "execution_count": 26,
   "metadata": {},
   "outputs": [
    {
     "data": {
      "text/plain": [
       "0.0"
      ]
     },
     "execution_count": 26,
     "metadata": {},
     "output_type": "execute_result"
    }
   ],
   "source": [
    "tree_rmse #과대적합(over fit)"
   ]
  },
  {
   "cell_type": "code",
   "execution_count": 27,
   "metadata": {},
   "outputs": [
    {
     "data": {
      "text/plain": [
       "array([286600., 340600., 196900.,  46300., 254500.])"
      ]
     },
     "execution_count": 27,
     "metadata": {},
     "output_type": "execute_result"
    }
   ],
   "source": [
    "housing_prediction[:5]"
   ]
  },
  {
   "cell_type": "code",
   "execution_count": 28,
   "metadata": {},
   "outputs": [
    {
     "data": {
      "text/plain": [
       "17606    286600.0\n",
       "18632    340600.0\n",
       "14650    196900.0\n",
       "3230      46300.0\n",
       "3555     254500.0\n",
       "Name: median_house_value, dtype: float64"
      ]
     },
     "execution_count": 28,
     "metadata": {},
     "output_type": "execute_result"
    }
   ],
   "source": [
    "housing_labels[:5]"
   ]
  },
  {
   "cell_type": "code",
   "execution_count": 29,
   "metadata": {},
   "outputs": [],
   "source": [
    "# 모델에 대한 검증이 필요하다!\n",
    "# 교차 검증을 하자 (cross validation)\n",
    "# k-fold cross-validation(k-겹 교차 검증)\n",
    "\n",
    "from sklearn.model_selection import cross_val_score\n",
    "\n",
    "scores = cross_val_score(tree_reg, housing_prepared, housing_labels, scoring = 'neg_mean_squared_error', cv=10 )"
   ]
  },
  {
   "cell_type": "code",
   "execution_count": 30,
   "metadata": {},
   "outputs": [],
   "source": [
    "tree_rmse_scores = np.sqrt(-scores)"
   ]
  },
  {
   "cell_type": "code",
   "execution_count": 31,
   "metadata": {},
   "outputs": [
    {
     "data": {
      "text/plain": [
       "array([70194.33680785, 66855.16363941, 72432.58244769, 70758.73896782,\n",
       "       71115.88230639, 75585.14172901, 70262.86139133, 70273.6325285 ,\n",
       "       75366.87952553, 71231.65726027])"
      ]
     },
     "execution_count": 31,
     "metadata": {},
     "output_type": "execute_result"
    }
   ],
   "source": [
    "tree_rmse_scores"
   ]
  },
  {
   "cell_type": "code",
   "execution_count": 32,
   "metadata": {},
   "outputs": [
    {
     "data": {
      "text/plain": [
       "71407.68766037929"
      ]
     },
     "execution_count": 32,
     "metadata": {},
     "output_type": "execute_result"
    }
   ],
   "source": [
    "tree_rmse_scores.mean()"
   ]
  },
  {
   "cell_type": "code",
   "execution_count": 33,
   "metadata": {},
   "outputs": [
    {
     "data": {
      "text/plain": [
       "2439.4345041191004"
      ]
     },
     "execution_count": 33,
     "metadata": {},
     "output_type": "execute_result"
    }
   ],
   "source": [
    "tree_rmse_scores.std()"
   ]
  },
  {
   "cell_type": "code",
   "execution_count": 34,
   "metadata": {},
   "outputs": [],
   "source": [
    "lin_scores = cross_val_score(lin_reg, housing_prepared, housing_labels, scoring = 'neg_mean_squared_error', cv=10 )"
   ]
  },
  {
   "cell_type": "code",
   "execution_count": 35,
   "metadata": {},
   "outputs": [],
   "source": [
    "lin_scores_rmse= np.sqrt(-lin_scores)"
   ]
  },
  {
   "cell_type": "code",
   "execution_count": 36,
   "metadata": {},
   "outputs": [
    {
     "data": {
      "text/plain": [
       "array([66782.73843989, 66960.118071  , 70347.95244419, 74739.57052552,\n",
       "       68031.13388938, 71193.84183426, 64969.63056405, 68281.61137997,\n",
       "       71552.91566558, 67665.10082067])"
      ]
     },
     "execution_count": 36,
     "metadata": {},
     "output_type": "execute_result"
    }
   ],
   "source": [
    "lin_scores_rmse"
   ]
  },
  {
   "cell_type": "code",
   "execution_count": 37,
   "metadata": {},
   "outputs": [
    {
     "data": {
      "text/plain": [
       "69052.46136345083"
      ]
     },
     "execution_count": 37,
     "metadata": {},
     "output_type": "execute_result"
    }
   ],
   "source": [
    "lin_scores_rmse.mean()"
   ]
  },
  {
   "cell_type": "code",
   "execution_count": 38,
   "metadata": {},
   "outputs": [
    {
     "data": {
      "text/plain": [
       "2731.674001798349"
      ]
     },
     "execution_count": 38,
     "metadata": {},
     "output_type": "execute_result"
    }
   ],
   "source": [
    "lin_scores_rmse.std()"
   ]
  },
  {
   "cell_type": "code",
   "execution_count": 41,
   "metadata": {},
   "outputs": [
    {
     "data": {
      "text/plain": [
       "RandomForestRegressor(bootstrap=True, ccp_alpha=0.0, criterion='mse',\n",
       "                      max_depth=None, max_features='auto', max_leaf_nodes=None,\n",
       "                      max_samples=None, min_impurity_decrease=0.0,\n",
       "                      min_impurity_split=None, min_samples_leaf=1,\n",
       "                      min_samples_split=2, min_weight_fraction_leaf=0.0,\n",
       "                      n_estimators=100, n_jobs=None, oob_score=False,\n",
       "                      random_state=42, verbose=0, warm_start=False)"
      ]
     },
     "execution_count": 41,
     "metadata": {},
     "output_type": "execute_result"
    }
   ],
   "source": [
    "#랜덤포레스트 (앙상블 학습)\n",
    "\n",
    "from sklearn.ensemble import RandomForestRegressor\n",
    "\n",
    "forest_reg = RandomForestRegressor(n_estimators=100, random_state=42)\n",
    "forest_reg.fit(housing_prepared, housing_labels)"
   ]
  },
  {
   "cell_type": "code",
   "execution_count": 40,
   "metadata": {},
   "outputs": [
    {
     "data": {
      "text/plain": [
       "21933.31414779769"
      ]
     },
     "execution_count": 40,
     "metadata": {},
     "output_type": "execute_result"
    }
   ],
   "source": [
    "housing_prediction = forest_reg.predict(housing_prepared)\n",
    "forest_mse = mean_squared_error(housing_labels, housing_prediction)\n",
    "np.sqrt(forest_mse)  #n_estimator = 10"
   ]
  },
  {
   "cell_type": "code",
   "execution_count": 42,
   "metadata": {},
   "outputs": [
    {
     "data": {
      "text/plain": [
       "18603.515021376355"
      ]
     },
     "execution_count": 42,
     "metadata": {},
     "output_type": "execute_result"
    }
   ],
   "source": [
    "housing_prediction = forest_reg.predict(housing_prepared)\n",
    "forest_mse = mean_squared_error(housing_labels, housing_prediction)\n",
    "np.sqrt(forest_mse) #n_estimator = 100"
   ]
  },
  {
   "cell_type": "code",
   "execution_count": 43,
   "metadata": {},
   "outputs": [],
   "source": [
    "forest_scores = cross_val_score(forest_reg, housing_prepared, housing_labels, scoring = 'neg_mean_squared_error', cv=10 )"
   ]
  },
  {
   "cell_type": "code",
   "execution_count": 44,
   "metadata": {},
   "outputs": [],
   "source": [
    "forest_rmse_scores = np.sqrt(-forest_scores)"
   ]
  },
  {
   "cell_type": "code",
   "execution_count": 45,
   "metadata": {},
   "outputs": [
    {
     "data": {
      "text/plain": [
       "array([49519.80364233, 47461.9115823 , 50029.02762854, 52325.28068953,\n",
       "       49308.39426421, 53446.37892622, 48634.8036574 , 47585.73832311,\n",
       "       53490.10699751, 50021.5852922 ])"
      ]
     },
     "execution_count": 45,
     "metadata": {},
     "output_type": "execute_result"
    }
   ],
   "source": [
    "forest_rmse_scores"
   ]
  },
  {
   "cell_type": "code",
   "execution_count": 46,
   "metadata": {},
   "outputs": [
    {
     "data": {
      "text/plain": [
       "2097.0810550985693"
      ]
     },
     "execution_count": 46,
     "metadata": {},
     "output_type": "execute_result"
    }
   ],
   "source": [
    "forest_rmse_scores.std()"
   ]
  },
  {
   "cell_type": "code",
   "execution_count": 47,
   "metadata": {},
   "outputs": [
    {
     "data": {
      "text/plain": [
       "50182.303100336096"
      ]
     },
     "execution_count": 47,
     "metadata": {},
     "output_type": "execute_result"
    }
   ],
   "source": [
    "forest_rmse_scores.mean()"
   ]
  },
  {
   "cell_type": "code",
   "execution_count": 48,
   "metadata": {},
   "outputs": [],
   "source": [
    "## 모델 세부 튜닝. ( 하이퍼 파라미터 값 조정)\n",
    "\n",
    "# 자동으로 해보자! GridSearch (그리드 탐색법)\n",
    "\n",
    "from sklearn.model_selection import GridSearchCV\n",
    "\n",
    "param_grid = [\n",
    "    {'n_estimators': [3, 10, 30], 'max_features':[2, 4, 6, 8]},\n",
    "    {'bootstrap':[False], 'n_estimators':[3,10], 'max_features':[2,3,4]}\n",
    "]"
   ]
  },
  {
   "cell_type": "code",
   "execution_count": 49,
   "metadata": {},
   "outputs": [],
   "source": [
    "forest_reg = RandomForestRegressor(random_state=42)\n",
    "\n",
    "grid_search = GridSearchCV(forest_reg, param_grid, cv = 5,\n",
    "                          scoring='neg_mean_squared_error',\n",
    "                           return_train_score=True\n",
    "                          )"
   ]
  },
  {
   "cell_type": "code",
   "execution_count": 50,
   "metadata": {},
   "outputs": [
    {
     "data": {
      "text/plain": [
       "GridSearchCV(cv=5, error_score=nan,\n",
       "             estimator=RandomForestRegressor(bootstrap=True, ccp_alpha=0.0,\n",
       "                                             criterion='mse', max_depth=None,\n",
       "                                             max_features='auto',\n",
       "                                             max_leaf_nodes=None,\n",
       "                                             max_samples=None,\n",
       "                                             min_impurity_decrease=0.0,\n",
       "                                             min_impurity_split=None,\n",
       "                                             min_samples_leaf=1,\n",
       "                                             min_samples_split=2,\n",
       "                                             min_weight_fraction_leaf=0.0,\n",
       "                                             n_estimators=100, n_jobs=None,\n",
       "                                             oob_score=False, random_state=42,\n",
       "                                             verbose=0, warm_start=False),\n",
       "             iid='deprecated', n_jobs=None,\n",
       "             param_grid=[{'max_features': [2, 4, 6, 8],\n",
       "                          'n_estimators': [3, 10, 30]},\n",
       "                         {'bootstrap': [False], 'max_features': [2, 3, 4],\n",
       "                          'n_estimators': [3, 10]}],\n",
       "             pre_dispatch='2*n_jobs', refit=True, return_train_score=True,\n",
       "             scoring='neg_mean_squared_error', verbose=0)"
      ]
     },
     "execution_count": 50,
     "metadata": {},
     "output_type": "execute_result"
    }
   ],
   "source": [
    "grid_search.fit(housing_prepared, housing_labels)"
   ]
  },
  {
   "cell_type": "code",
   "execution_count": 51,
   "metadata": {},
   "outputs": [
    {
     "data": {
      "text/plain": [
       "{'max_features': 8, 'n_estimators': 30}"
      ]
     },
     "execution_count": 51,
     "metadata": {},
     "output_type": "execute_result"
    }
   ],
   "source": [
    "grid_search.best_params_"
   ]
  },
  {
   "cell_type": "code",
   "execution_count": 52,
   "metadata": {},
   "outputs": [
    {
     "data": {
      "text/plain": [
       "RandomForestRegressor(bootstrap=True, ccp_alpha=0.0, criterion='mse',\n",
       "                      max_depth=None, max_features=8, max_leaf_nodes=None,\n",
       "                      max_samples=None, min_impurity_decrease=0.0,\n",
       "                      min_impurity_split=None, min_samples_leaf=1,\n",
       "                      min_samples_split=2, min_weight_fraction_leaf=0.0,\n",
       "                      n_estimators=30, n_jobs=None, oob_score=False,\n",
       "                      random_state=42, verbose=0, warm_start=False)"
      ]
     },
     "execution_count": 52,
     "metadata": {},
     "output_type": "execute_result"
    }
   ],
   "source": [
    "grid_search.best_estimator_"
   ]
  },
  {
   "cell_type": "code",
   "execution_count": 53,
   "metadata": {},
   "outputs": [],
   "source": [
    "cvres = grid_search.cv_results_"
   ]
  },
  {
   "cell_type": "code",
   "execution_count": 54,
   "metadata": {},
   "outputs": [
    {
     "name": "stdout",
     "output_type": "stream",
     "text": [
      "63669.11631261028 {'max_features': 2, 'n_estimators': 3}\n",
      "55627.099719926795 {'max_features': 2, 'n_estimators': 10}\n",
      "53384.57275149205 {'max_features': 2, 'n_estimators': 30}\n",
      "60965.950449450494 {'max_features': 4, 'n_estimators': 3}\n",
      "52741.04704299915 {'max_features': 4, 'n_estimators': 10}\n",
      "50377.40461678399 {'max_features': 4, 'n_estimators': 30}\n",
      "58663.93866579625 {'max_features': 6, 'n_estimators': 3}\n",
      "52006.19873526564 {'max_features': 6, 'n_estimators': 10}\n",
      "50146.51167415009 {'max_features': 6, 'n_estimators': 30}\n",
      "57869.25276169646 {'max_features': 8, 'n_estimators': 3}\n",
      "51711.127883959234 {'max_features': 8, 'n_estimators': 10}\n",
      "49682.273345071546 {'max_features': 8, 'n_estimators': 30}\n",
      "62895.06951262424 {'bootstrap': False, 'max_features': 2, 'n_estimators': 3}\n",
      "54658.176157539405 {'bootstrap': False, 'max_features': 2, 'n_estimators': 10}\n",
      "59470.40652318466 {'bootstrap': False, 'max_features': 3, 'n_estimators': 3}\n",
      "52724.9822587892 {'bootstrap': False, 'max_features': 3, 'n_estimators': 10}\n",
      "57490.5691951261 {'bootstrap': False, 'max_features': 4, 'n_estimators': 3}\n",
      "51009.495668875716 {'bootstrap': False, 'max_features': 4, 'n_estimators': 10}\n"
     ]
    }
   ],
   "source": [
    "for mean_score, params in zip(cvres['mean_test_score'], cvres['params']):\n",
    "    print(np.sqrt(-mean_score), params)"
   ]
  },
  {
   "cell_type": "code",
   "execution_count": 55,
   "metadata": {},
   "outputs": [
    {
     "data": {
      "text/plain": [
       "{'mean_fit_time': array([0.17786226, 0.60712519, 1.95466943, 0.38038187, 1.00128827,\n",
       "        3.01549726, 0.38459167, 1.53961205, 4.29101319, 0.54304509,\n",
       "        1.61402211, 5.2913888 , 0.2762219 , 0.94777431, 0.34281378,\n",
       "        1.38818917, 0.53571382, 1.53912044]),\n",
       " 'std_fit_time': array([0.00991135, 0.05919575, 0.29064673, 0.0764489 , 0.11607466,\n",
       "        0.37186288, 0.04916513, 0.24210832, 0.37370593, 0.11878769,\n",
       "        0.12070997, 0.6783809 , 0.04221349, 0.10430998, 0.01961942,\n",
       "        0.30351587, 0.05502674, 0.15350004]),\n",
       " 'mean_score_time': array([0.00819664, 0.02399263, 0.08165808, 0.01294842, 0.0275001 ,\n",
       "        0.08322554, 0.00870404, 0.02016001, 0.08114281, 0.00983186,\n",
       "        0.02350016, 0.06564841, 0.01023483, 0.02829394, 0.0092895 ,\n",
       "        0.03222284, 0.0108952 , 0.0314497 ]),\n",
       " 'std_score_time': array([0.00062858, 0.00383295, 0.02282805, 0.0032682 , 0.00370455,\n",
       "        0.02589532, 0.0019801 , 0.00118515, 0.02005766, 0.00246329,\n",
       "        0.00379169, 0.00553286, 0.00354109, 0.00578478, 0.00056869,\n",
       "        0.00902194, 0.00465507, 0.00574709]),\n",
       " 'param_max_features': masked_array(data=[2, 2, 2, 4, 4, 4, 6, 6, 6, 8, 8, 8, 2, 2, 3, 3, 4, 4],\n",
       "              mask=[False, False, False, False, False, False, False, False,\n",
       "                    False, False, False, False, False, False, False, False,\n",
       "                    False, False],\n",
       "        fill_value='?',\n",
       "             dtype=object),\n",
       " 'param_n_estimators': masked_array(data=[3, 10, 30, 3, 10, 30, 3, 10, 30, 3, 10, 30, 3, 10, 3,\n",
       "                    10, 3, 10],\n",
       "              mask=[False, False, False, False, False, False, False, False,\n",
       "                    False, False, False, False, False, False, False, False,\n",
       "                    False, False],\n",
       "        fill_value='?',\n",
       "             dtype=object),\n",
       " 'param_bootstrap': masked_array(data=[--, --, --, --, --, --, --, --, --, --, --, --, False,\n",
       "                    False, False, False, False, False],\n",
       "              mask=[ True,  True,  True,  True,  True,  True,  True,  True,\n",
       "                     True,  True,  True,  True, False, False, False, False,\n",
       "                    False, False],\n",
       "        fill_value='?',\n",
       "             dtype=object),\n",
       " 'params': [{'max_features': 2, 'n_estimators': 3},\n",
       "  {'max_features': 2, 'n_estimators': 10},\n",
       "  {'max_features': 2, 'n_estimators': 30},\n",
       "  {'max_features': 4, 'n_estimators': 3},\n",
       "  {'max_features': 4, 'n_estimators': 10},\n",
       "  {'max_features': 4, 'n_estimators': 30},\n",
       "  {'max_features': 6, 'n_estimators': 3},\n",
       "  {'max_features': 6, 'n_estimators': 10},\n",
       "  {'max_features': 6, 'n_estimators': 30},\n",
       "  {'max_features': 8, 'n_estimators': 3},\n",
       "  {'max_features': 8, 'n_estimators': 10},\n",
       "  {'max_features': 8, 'n_estimators': 30},\n",
       "  {'bootstrap': False, 'max_features': 2, 'n_estimators': 3},\n",
       "  {'bootstrap': False, 'max_features': 2, 'n_estimators': 10},\n",
       "  {'bootstrap': False, 'max_features': 3, 'n_estimators': 3},\n",
       "  {'bootstrap': False, 'max_features': 3, 'n_estimators': 10},\n",
       "  {'bootstrap': False, 'max_features': 4, 'n_estimators': 3},\n",
       "  {'bootstrap': False, 'max_features': 4, 'n_estimators': 10}],\n",
       " 'split0_test_score': array([-3.83762181e+09, -3.04777081e+09, -2.68918499e+09, -3.73018066e+09,\n",
       "        -2.66628334e+09, -2.38715304e+09, -3.11965719e+09, -2.54966345e+09,\n",
       "        -2.37000974e+09, -3.35350354e+09, -2.57196962e+09, -2.35738998e+09,\n",
       "        -3.78581552e+09, -2.81072099e+09, -3.61832428e+09, -2.75799909e+09,\n",
       "        -3.13403961e+09, -2.52557845e+09]),\n",
       " 'split1_test_score': array([-4.14710843e+09, -3.25486090e+09, -3.02108562e+09, -3.78688569e+09,\n",
       "        -2.78451134e+09, -2.58844830e+09, -3.58631909e+09, -2.78203916e+09,\n",
       "        -2.58363807e+09, -3.34855183e+09, -2.71899357e+09, -2.54664007e+09,\n",
       "        -4.16601155e+09, -3.10778936e+09, -3.44152708e+09, -2.85173705e+09,\n",
       "        -3.55937465e+09, -2.71001055e+09]),\n",
       " 'split2_test_score': array([-4.19640758e+09, -3.13019552e+09, -2.94832961e+09, -3.73451489e+09,\n",
       "        -2.89227616e+09, -2.66642625e+09, -3.59277191e+09, -2.76271964e+09,\n",
       "        -2.60770331e+09, -3.40284304e+09, -2.84231740e+09, -2.59197213e+09,\n",
       "        -4.06175067e+09, -3.13118666e+09, -3.55481531e+09, -2.83092725e+09,\n",
       "        -3.44042199e+09, -2.60909952e+09]),\n",
       " 'split3_test_score': array([-3.90331884e+09, -2.86518791e+09, -2.61999479e+09, -3.41874745e+09,\n",
       "        -2.61681281e+09, -2.39807112e+09, -3.32893377e+09, -2.52113439e+09,\n",
       "        -2.35095280e+09, -3.12930685e+09, -2.46025754e+09, -2.31861700e+09,\n",
       "        -3.67570404e+09, -2.78853734e+09, -3.61911579e+09, -2.67276518e+09,\n",
       "        -3.05364704e+09, -2.43960698e+09]),\n",
       " 'split4_test_score': array([-4.18432520e+09, -3.17385599e+09, -2.97096803e+09, -3.91390688e+09,\n",
       "        -2.94820657e+09, -2.64931576e+09, -3.57960654e+09, -2.90766690e+09,\n",
       "        -2.66105926e+09, -3.51004682e+09, -2.77666560e+09, -2.52702224e+09,\n",
       "        -4.08966707e+09, -3.09934675e+09, -3.44986379e+09, -2.78619021e+09,\n",
       "        -3.33834443e+09, -2.72554774e+09]),\n",
       " 'mean_test_score': array([-4.05375637e+09, -3.09437422e+09, -2.84991261e+09, -3.71684711e+09,\n",
       "        -2.78161804e+09, -2.53788290e+09, -3.44145770e+09, -2.70464471e+09,\n",
       "        -2.51467263e+09, -3.34885042e+09, -2.67404075e+09, -2.46832828e+09,\n",
       "        -3.95578977e+09, -2.98751622e+09, -3.53672925e+09, -2.77992375e+09,\n",
       "        -3.30516555e+09, -2.60196865e+09]),\n",
       " 'std_test_score': array([1.51959070e+08, 1.32706243e+08, 1.62687488e+08, 1.63151031e+08,\n",
       "        1.26860698e+08, 1.21461402e+08, 1.89305636e+08, 1.47156947e+08,\n",
       "        1.28507989e+08, 1.24193881e+08, 1.39277726e+08, 1.09166197e+08,\n",
       "        1.90096449e+08, 1.53923384e+08, 7.79505705e+07, 6.28671994e+07,\n",
       "        1.87916501e+08, 1.08804838e+08]),\n",
       " 'rank_test_score': array([18, 11,  9, 16,  8,  3, 14,  6,  2, 13,  5,  1, 17, 10, 15,  7, 12,\n",
       "         4]),\n",
       " 'split0_train_score': array([-1.06411324e+09, -5.92717466e+08, -4.38108853e+08, -9.86516258e+08,\n",
       "        -5.09711488e+08, -3.83883518e+08, -9.24534322e+08, -4.98034370e+08,\n",
       "        -3.83853782e+08, -9.22812313e+08, -4.93241572e+08, -3.84165776e+08,\n",
       "        -0.00000000e+00, -6.05647664e-02, -0.00000000e+00, -2.08948444e+01,\n",
       "        -0.00000000e+00, -0.00000000e+00]),\n",
       " 'split1_train_score': array([-1.10514213e+09, -5.87095225e+08, -4.39127180e+08, -1.01256504e+09,\n",
       "        -5.16282042e+08, -3.88026791e+08, -8.88693925e+08, -5.04586911e+08,\n",
       "        -3.80471107e+08, -8.55303131e+08, -4.81523754e+08, -3.74449958e+08,\n",
       "        -0.00000000e+00, -0.00000000e+00, -0.00000000e+00, -0.00000000e+00,\n",
       "        -0.00000000e+00, -1.51411916e-02]),\n",
       " 'split2_train_score': array([-1.11655007e+09, -5.77696447e+08, -4.37170156e+08, -9.16942541e+08,\n",
       "        -4.96289285e+08, -3.79086663e+08, -9.35313482e+08, -4.99466394e+08,\n",
       "        -3.80521829e+08, -8.60332085e+08, -4.73097943e+08, -3.77323876e+08,\n",
       "        -0.00000000e+00, -0.00000000e+00, -0.00000000e+00, -0.00000000e+00,\n",
       "        -0.00000000e+00, -0.00000000e+00]),\n",
       " 'split3_train_score': array([-1.11234196e+09, -5.71633168e+08, -4.37695494e+08, -1.03740043e+09,\n",
       "        -5.43619195e+08, -4.04095734e+08, -9.00980099e+08, -4.99032529e+08,\n",
       "        -3.85609459e+08, -8.88196385e+08, -5.15536744e+08, -3.88224985e+08,\n",
       "        -0.00000000e+00, -0.00000000e+00, -0.00000000e+00, -0.00000000e+00,\n",
       "        -0.00000000e+00, -0.00000000e+00]),\n",
       " 'split4_train_score': array([-1.12964958e+09, -5.80250127e+08, -4.45265422e+08, -9.70773932e+08,\n",
       "        -5.16029740e+08, -3.84551952e+08, -8.62466368e+08, -5.05554242e+08,\n",
       "        -3.90191684e+08, -9.15128710e+08, -4.98555509e+08, -3.81000530e+08,\n",
       "        -0.00000000e+00, -2.96744890e+00, -6.07284044e+01, -5.46555640e+00,\n",
       "        -0.00000000e+00, -0.00000000e+00]),\n",
       " 'mean_train_score': array([-1.10555940e+09, -5.81878487e+08, -4.39473421e+08, -9.84839641e+08,\n",
       "        -5.16386350e+08, -3.87928932e+08, -9.02397639e+08, -5.01334889e+08,\n",
       "        -3.84129572e+08, -8.88354525e+08, -4.92391104e+08, -3.81033025e+08,\n",
       "         0.00000000e+00, -6.05602734e-01, -1.21456809e+01, -5.27208016e+00,\n",
       "         0.00000000e+00, -3.02823832e-03]),\n",
       " 'std_train_score': array([2.22040221e+07, 7.34582053e+06, 2.96631950e+06, 4.08460671e+07,\n",
       "        1.54286209e+07, 8.57123274e+06, 2.59144481e+07, 3.10045645e+06,\n",
       "        3.61705716e+06, 2.75022653e+07, 1.45929380e+07, 4.87101677e+06,\n",
       "        0.00000000e+00, 1.18115602e+00, 2.42913618e+01, 8.09311663e+00,\n",
       "        0.00000000e+00, 6.05647664e-03])}"
      ]
     },
     "execution_count": 55,
     "metadata": {},
     "output_type": "execute_result"
    }
   ],
   "source": [
    "grid_search.cv_results_"
   ]
  },
  {
   "cell_type": "code",
   "execution_count": 56,
   "metadata": {
    "scrolled": true
   },
   "outputs": [
    {
     "data": {
      "text/html": [
       "<div>\n",
       "<style scoped>\n",
       "    .dataframe tbody tr th:only-of-type {\n",
       "        vertical-align: middle;\n",
       "    }\n",
       "\n",
       "    .dataframe tbody tr th {\n",
       "        vertical-align: top;\n",
       "    }\n",
       "\n",
       "    .dataframe thead th {\n",
       "        text-align: right;\n",
       "    }\n",
       "</style>\n",
       "<table border=\"1\" class=\"dataframe\">\n",
       "  <thead>\n",
       "    <tr style=\"text-align: right;\">\n",
       "      <th></th>\n",
       "      <th>mean_fit_time</th>\n",
       "      <th>std_fit_time</th>\n",
       "      <th>mean_score_time</th>\n",
       "      <th>std_score_time</th>\n",
       "      <th>param_max_features</th>\n",
       "      <th>param_n_estimators</th>\n",
       "      <th>param_bootstrap</th>\n",
       "      <th>params</th>\n",
       "      <th>split0_test_score</th>\n",
       "      <th>split1_test_score</th>\n",
       "      <th>...</th>\n",
       "      <th>mean_test_score</th>\n",
       "      <th>std_test_score</th>\n",
       "      <th>rank_test_score</th>\n",
       "      <th>split0_train_score</th>\n",
       "      <th>split1_train_score</th>\n",
       "      <th>split2_train_score</th>\n",
       "      <th>split3_train_score</th>\n",
       "      <th>split4_train_score</th>\n",
       "      <th>mean_train_score</th>\n",
       "      <th>std_train_score</th>\n",
       "    </tr>\n",
       "  </thead>\n",
       "  <tbody>\n",
       "    <tr>\n",
       "      <th>0</th>\n",
       "      <td>0.177862</td>\n",
       "      <td>0.009911</td>\n",
       "      <td>0.008197</td>\n",
       "      <td>0.000629</td>\n",
       "      <td>2</td>\n",
       "      <td>3</td>\n",
       "      <td>NaN</td>\n",
       "      <td>{'max_features': 2, 'n_estimators': 3}</td>\n",
       "      <td>-3.837622e+09</td>\n",
       "      <td>-4.147108e+09</td>\n",
       "      <td>...</td>\n",
       "      <td>-4.053756e+09</td>\n",
       "      <td>1.519591e+08</td>\n",
       "      <td>18</td>\n",
       "      <td>-1.064113e+09</td>\n",
       "      <td>-1.105142e+09</td>\n",
       "      <td>-1.116550e+09</td>\n",
       "      <td>-1.112342e+09</td>\n",
       "      <td>-1.129650e+09</td>\n",
       "      <td>-1.105559e+09</td>\n",
       "      <td>2.220402e+07</td>\n",
       "    </tr>\n",
       "    <tr>\n",
       "      <th>1</th>\n",
       "      <td>0.607125</td>\n",
       "      <td>0.059196</td>\n",
       "      <td>0.023993</td>\n",
       "      <td>0.003833</td>\n",
       "      <td>2</td>\n",
       "      <td>10</td>\n",
       "      <td>NaN</td>\n",
       "      <td>{'max_features': 2, 'n_estimators': 10}</td>\n",
       "      <td>-3.047771e+09</td>\n",
       "      <td>-3.254861e+09</td>\n",
       "      <td>...</td>\n",
       "      <td>-3.094374e+09</td>\n",
       "      <td>1.327062e+08</td>\n",
       "      <td>11</td>\n",
       "      <td>-5.927175e+08</td>\n",
       "      <td>-5.870952e+08</td>\n",
       "      <td>-5.776964e+08</td>\n",
       "      <td>-5.716332e+08</td>\n",
       "      <td>-5.802501e+08</td>\n",
       "      <td>-5.818785e+08</td>\n",
       "      <td>7.345821e+06</td>\n",
       "    </tr>\n",
       "    <tr>\n",
       "      <th>2</th>\n",
       "      <td>1.954669</td>\n",
       "      <td>0.290647</td>\n",
       "      <td>0.081658</td>\n",
       "      <td>0.022828</td>\n",
       "      <td>2</td>\n",
       "      <td>30</td>\n",
       "      <td>NaN</td>\n",
       "      <td>{'max_features': 2, 'n_estimators': 30}</td>\n",
       "      <td>-2.689185e+09</td>\n",
       "      <td>-3.021086e+09</td>\n",
       "      <td>...</td>\n",
       "      <td>-2.849913e+09</td>\n",
       "      <td>1.626875e+08</td>\n",
       "      <td>9</td>\n",
       "      <td>-4.381089e+08</td>\n",
       "      <td>-4.391272e+08</td>\n",
       "      <td>-4.371702e+08</td>\n",
       "      <td>-4.376955e+08</td>\n",
       "      <td>-4.452654e+08</td>\n",
       "      <td>-4.394734e+08</td>\n",
       "      <td>2.966320e+06</td>\n",
       "    </tr>\n",
       "    <tr>\n",
       "      <th>3</th>\n",
       "      <td>0.380382</td>\n",
       "      <td>0.076449</td>\n",
       "      <td>0.012948</td>\n",
       "      <td>0.003268</td>\n",
       "      <td>4</td>\n",
       "      <td>3</td>\n",
       "      <td>NaN</td>\n",
       "      <td>{'max_features': 4, 'n_estimators': 3}</td>\n",
       "      <td>-3.730181e+09</td>\n",
       "      <td>-3.786886e+09</td>\n",
       "      <td>...</td>\n",
       "      <td>-3.716847e+09</td>\n",
       "      <td>1.631510e+08</td>\n",
       "      <td>16</td>\n",
       "      <td>-9.865163e+08</td>\n",
       "      <td>-1.012565e+09</td>\n",
       "      <td>-9.169425e+08</td>\n",
       "      <td>-1.037400e+09</td>\n",
       "      <td>-9.707739e+08</td>\n",
       "      <td>-9.848396e+08</td>\n",
       "      <td>4.084607e+07</td>\n",
       "    </tr>\n",
       "    <tr>\n",
       "      <th>4</th>\n",
       "      <td>1.001288</td>\n",
       "      <td>0.116075</td>\n",
       "      <td>0.027500</td>\n",
       "      <td>0.003705</td>\n",
       "      <td>4</td>\n",
       "      <td>10</td>\n",
       "      <td>NaN</td>\n",
       "      <td>{'max_features': 4, 'n_estimators': 10}</td>\n",
       "      <td>-2.666283e+09</td>\n",
       "      <td>-2.784511e+09</td>\n",
       "      <td>...</td>\n",
       "      <td>-2.781618e+09</td>\n",
       "      <td>1.268607e+08</td>\n",
       "      <td>8</td>\n",
       "      <td>-5.097115e+08</td>\n",
       "      <td>-5.162820e+08</td>\n",
       "      <td>-4.962893e+08</td>\n",
       "      <td>-5.436192e+08</td>\n",
       "      <td>-5.160297e+08</td>\n",
       "      <td>-5.163863e+08</td>\n",
       "      <td>1.542862e+07</td>\n",
       "    </tr>\n",
       "    <tr>\n",
       "      <th>5</th>\n",
       "      <td>3.015497</td>\n",
       "      <td>0.371863</td>\n",
       "      <td>0.083226</td>\n",
       "      <td>0.025895</td>\n",
       "      <td>4</td>\n",
       "      <td>30</td>\n",
       "      <td>NaN</td>\n",
       "      <td>{'max_features': 4, 'n_estimators': 30}</td>\n",
       "      <td>-2.387153e+09</td>\n",
       "      <td>-2.588448e+09</td>\n",
       "      <td>...</td>\n",
       "      <td>-2.537883e+09</td>\n",
       "      <td>1.214614e+08</td>\n",
       "      <td>3</td>\n",
       "      <td>-3.838835e+08</td>\n",
       "      <td>-3.880268e+08</td>\n",
       "      <td>-3.790867e+08</td>\n",
       "      <td>-4.040957e+08</td>\n",
       "      <td>-3.845520e+08</td>\n",
       "      <td>-3.879289e+08</td>\n",
       "      <td>8.571233e+06</td>\n",
       "    </tr>\n",
       "    <tr>\n",
       "      <th>6</th>\n",
       "      <td>0.384592</td>\n",
       "      <td>0.049165</td>\n",
       "      <td>0.008704</td>\n",
       "      <td>0.001980</td>\n",
       "      <td>6</td>\n",
       "      <td>3</td>\n",
       "      <td>NaN</td>\n",
       "      <td>{'max_features': 6, 'n_estimators': 3}</td>\n",
       "      <td>-3.119657e+09</td>\n",
       "      <td>-3.586319e+09</td>\n",
       "      <td>...</td>\n",
       "      <td>-3.441458e+09</td>\n",
       "      <td>1.893056e+08</td>\n",
       "      <td>14</td>\n",
       "      <td>-9.245343e+08</td>\n",
       "      <td>-8.886939e+08</td>\n",
       "      <td>-9.353135e+08</td>\n",
       "      <td>-9.009801e+08</td>\n",
       "      <td>-8.624664e+08</td>\n",
       "      <td>-9.023976e+08</td>\n",
       "      <td>2.591445e+07</td>\n",
       "    </tr>\n",
       "    <tr>\n",
       "      <th>7</th>\n",
       "      <td>1.539612</td>\n",
       "      <td>0.242108</td>\n",
       "      <td>0.020160</td>\n",
       "      <td>0.001185</td>\n",
       "      <td>6</td>\n",
       "      <td>10</td>\n",
       "      <td>NaN</td>\n",
       "      <td>{'max_features': 6, 'n_estimators': 10}</td>\n",
       "      <td>-2.549663e+09</td>\n",
       "      <td>-2.782039e+09</td>\n",
       "      <td>...</td>\n",
       "      <td>-2.704645e+09</td>\n",
       "      <td>1.471569e+08</td>\n",
       "      <td>6</td>\n",
       "      <td>-4.980344e+08</td>\n",
       "      <td>-5.045869e+08</td>\n",
       "      <td>-4.994664e+08</td>\n",
       "      <td>-4.990325e+08</td>\n",
       "      <td>-5.055542e+08</td>\n",
       "      <td>-5.013349e+08</td>\n",
       "      <td>3.100456e+06</td>\n",
       "    </tr>\n",
       "    <tr>\n",
       "      <th>8</th>\n",
       "      <td>4.291013</td>\n",
       "      <td>0.373706</td>\n",
       "      <td>0.081143</td>\n",
       "      <td>0.020058</td>\n",
       "      <td>6</td>\n",
       "      <td>30</td>\n",
       "      <td>NaN</td>\n",
       "      <td>{'max_features': 6, 'n_estimators': 30}</td>\n",
       "      <td>-2.370010e+09</td>\n",
       "      <td>-2.583638e+09</td>\n",
       "      <td>...</td>\n",
       "      <td>-2.514673e+09</td>\n",
       "      <td>1.285080e+08</td>\n",
       "      <td>2</td>\n",
       "      <td>-3.838538e+08</td>\n",
       "      <td>-3.804711e+08</td>\n",
       "      <td>-3.805218e+08</td>\n",
       "      <td>-3.856095e+08</td>\n",
       "      <td>-3.901917e+08</td>\n",
       "      <td>-3.841296e+08</td>\n",
       "      <td>3.617057e+06</td>\n",
       "    </tr>\n",
       "    <tr>\n",
       "      <th>9</th>\n",
       "      <td>0.543045</td>\n",
       "      <td>0.118788</td>\n",
       "      <td>0.009832</td>\n",
       "      <td>0.002463</td>\n",
       "      <td>8</td>\n",
       "      <td>3</td>\n",
       "      <td>NaN</td>\n",
       "      <td>{'max_features': 8, 'n_estimators': 3}</td>\n",
       "      <td>-3.353504e+09</td>\n",
       "      <td>-3.348552e+09</td>\n",
       "      <td>...</td>\n",
       "      <td>-3.348850e+09</td>\n",
       "      <td>1.241939e+08</td>\n",
       "      <td>13</td>\n",
       "      <td>-9.228123e+08</td>\n",
       "      <td>-8.553031e+08</td>\n",
       "      <td>-8.603321e+08</td>\n",
       "      <td>-8.881964e+08</td>\n",
       "      <td>-9.151287e+08</td>\n",
       "      <td>-8.883545e+08</td>\n",
       "      <td>2.750227e+07</td>\n",
       "    </tr>\n",
       "    <tr>\n",
       "      <th>10</th>\n",
       "      <td>1.614022</td>\n",
       "      <td>0.120710</td>\n",
       "      <td>0.023500</td>\n",
       "      <td>0.003792</td>\n",
       "      <td>8</td>\n",
       "      <td>10</td>\n",
       "      <td>NaN</td>\n",
       "      <td>{'max_features': 8, 'n_estimators': 10}</td>\n",
       "      <td>-2.571970e+09</td>\n",
       "      <td>-2.718994e+09</td>\n",
       "      <td>...</td>\n",
       "      <td>-2.674041e+09</td>\n",
       "      <td>1.392777e+08</td>\n",
       "      <td>5</td>\n",
       "      <td>-4.932416e+08</td>\n",
       "      <td>-4.815238e+08</td>\n",
       "      <td>-4.730979e+08</td>\n",
       "      <td>-5.155367e+08</td>\n",
       "      <td>-4.985555e+08</td>\n",
       "      <td>-4.923911e+08</td>\n",
       "      <td>1.459294e+07</td>\n",
       "    </tr>\n",
       "    <tr>\n",
       "      <th>11</th>\n",
       "      <td>5.291389</td>\n",
       "      <td>0.678381</td>\n",
       "      <td>0.065648</td>\n",
       "      <td>0.005533</td>\n",
       "      <td>8</td>\n",
       "      <td>30</td>\n",
       "      <td>NaN</td>\n",
       "      <td>{'max_features': 8, 'n_estimators': 30}</td>\n",
       "      <td>-2.357390e+09</td>\n",
       "      <td>-2.546640e+09</td>\n",
       "      <td>...</td>\n",
       "      <td>-2.468328e+09</td>\n",
       "      <td>1.091662e+08</td>\n",
       "      <td>1</td>\n",
       "      <td>-3.841658e+08</td>\n",
       "      <td>-3.744500e+08</td>\n",
       "      <td>-3.773239e+08</td>\n",
       "      <td>-3.882250e+08</td>\n",
       "      <td>-3.810005e+08</td>\n",
       "      <td>-3.810330e+08</td>\n",
       "      <td>4.871017e+06</td>\n",
       "    </tr>\n",
       "    <tr>\n",
       "      <th>12</th>\n",
       "      <td>0.276222</td>\n",
       "      <td>0.042213</td>\n",
       "      <td>0.010235</td>\n",
       "      <td>0.003541</td>\n",
       "      <td>2</td>\n",
       "      <td>3</td>\n",
       "      <td>False</td>\n",
       "      <td>{'bootstrap': False, 'max_features': 2, 'n_est...</td>\n",
       "      <td>-3.785816e+09</td>\n",
       "      <td>-4.166012e+09</td>\n",
       "      <td>...</td>\n",
       "      <td>-3.955790e+09</td>\n",
       "      <td>1.900964e+08</td>\n",
       "      <td>17</td>\n",
       "      <td>-0.000000e+00</td>\n",
       "      <td>-0.000000e+00</td>\n",
       "      <td>-0.000000e+00</td>\n",
       "      <td>-0.000000e+00</td>\n",
       "      <td>-0.000000e+00</td>\n",
       "      <td>0.000000e+00</td>\n",
       "      <td>0.000000e+00</td>\n",
       "    </tr>\n",
       "    <tr>\n",
       "      <th>13</th>\n",
       "      <td>0.947774</td>\n",
       "      <td>0.104310</td>\n",
       "      <td>0.028294</td>\n",
       "      <td>0.005785</td>\n",
       "      <td>2</td>\n",
       "      <td>10</td>\n",
       "      <td>False</td>\n",
       "      <td>{'bootstrap': False, 'max_features': 2, 'n_est...</td>\n",
       "      <td>-2.810721e+09</td>\n",
       "      <td>-3.107789e+09</td>\n",
       "      <td>...</td>\n",
       "      <td>-2.987516e+09</td>\n",
       "      <td>1.539234e+08</td>\n",
       "      <td>10</td>\n",
       "      <td>-6.056477e-02</td>\n",
       "      <td>-0.000000e+00</td>\n",
       "      <td>-0.000000e+00</td>\n",
       "      <td>-0.000000e+00</td>\n",
       "      <td>-2.967449e+00</td>\n",
       "      <td>-6.056027e-01</td>\n",
       "      <td>1.181156e+00</td>\n",
       "    </tr>\n",
       "    <tr>\n",
       "      <th>14</th>\n",
       "      <td>0.342814</td>\n",
       "      <td>0.019619</td>\n",
       "      <td>0.009290</td>\n",
       "      <td>0.000569</td>\n",
       "      <td>3</td>\n",
       "      <td>3</td>\n",
       "      <td>False</td>\n",
       "      <td>{'bootstrap': False, 'max_features': 3, 'n_est...</td>\n",
       "      <td>-3.618324e+09</td>\n",
       "      <td>-3.441527e+09</td>\n",
       "      <td>...</td>\n",
       "      <td>-3.536729e+09</td>\n",
       "      <td>7.795057e+07</td>\n",
       "      <td>15</td>\n",
       "      <td>-0.000000e+00</td>\n",
       "      <td>-0.000000e+00</td>\n",
       "      <td>-0.000000e+00</td>\n",
       "      <td>-0.000000e+00</td>\n",
       "      <td>-6.072840e+01</td>\n",
       "      <td>-1.214568e+01</td>\n",
       "      <td>2.429136e+01</td>\n",
       "    </tr>\n",
       "    <tr>\n",
       "      <th>15</th>\n",
       "      <td>1.388189</td>\n",
       "      <td>0.303516</td>\n",
       "      <td>0.032223</td>\n",
       "      <td>0.009022</td>\n",
       "      <td>3</td>\n",
       "      <td>10</td>\n",
       "      <td>False</td>\n",
       "      <td>{'bootstrap': False, 'max_features': 3, 'n_est...</td>\n",
       "      <td>-2.757999e+09</td>\n",
       "      <td>-2.851737e+09</td>\n",
       "      <td>...</td>\n",
       "      <td>-2.779924e+09</td>\n",
       "      <td>6.286720e+07</td>\n",
       "      <td>7</td>\n",
       "      <td>-2.089484e+01</td>\n",
       "      <td>-0.000000e+00</td>\n",
       "      <td>-0.000000e+00</td>\n",
       "      <td>-0.000000e+00</td>\n",
       "      <td>-5.465556e+00</td>\n",
       "      <td>-5.272080e+00</td>\n",
       "      <td>8.093117e+00</td>\n",
       "    </tr>\n",
       "    <tr>\n",
       "      <th>16</th>\n",
       "      <td>0.535714</td>\n",
       "      <td>0.055027</td>\n",
       "      <td>0.010895</td>\n",
       "      <td>0.004655</td>\n",
       "      <td>4</td>\n",
       "      <td>3</td>\n",
       "      <td>False</td>\n",
       "      <td>{'bootstrap': False, 'max_features': 4, 'n_est...</td>\n",
       "      <td>-3.134040e+09</td>\n",
       "      <td>-3.559375e+09</td>\n",
       "      <td>...</td>\n",
       "      <td>-3.305166e+09</td>\n",
       "      <td>1.879165e+08</td>\n",
       "      <td>12</td>\n",
       "      <td>-0.000000e+00</td>\n",
       "      <td>-0.000000e+00</td>\n",
       "      <td>-0.000000e+00</td>\n",
       "      <td>-0.000000e+00</td>\n",
       "      <td>-0.000000e+00</td>\n",
       "      <td>0.000000e+00</td>\n",
       "      <td>0.000000e+00</td>\n",
       "    </tr>\n",
       "    <tr>\n",
       "      <th>17</th>\n",
       "      <td>1.539120</td>\n",
       "      <td>0.153500</td>\n",
       "      <td>0.031450</td>\n",
       "      <td>0.005747</td>\n",
       "      <td>4</td>\n",
       "      <td>10</td>\n",
       "      <td>False</td>\n",
       "      <td>{'bootstrap': False, 'max_features': 4, 'n_est...</td>\n",
       "      <td>-2.525578e+09</td>\n",
       "      <td>-2.710011e+09</td>\n",
       "      <td>...</td>\n",
       "      <td>-2.601969e+09</td>\n",
       "      <td>1.088048e+08</td>\n",
       "      <td>4</td>\n",
       "      <td>-0.000000e+00</td>\n",
       "      <td>-1.514119e-02</td>\n",
       "      <td>-0.000000e+00</td>\n",
       "      <td>-0.000000e+00</td>\n",
       "      <td>-0.000000e+00</td>\n",
       "      <td>-3.028238e-03</td>\n",
       "      <td>6.056477e-03</td>\n",
       "    </tr>\n",
       "  </tbody>\n",
       "</table>\n",
       "<p>18 rows × 23 columns</p>\n",
       "</div>"
      ],
      "text/plain": [
       "    mean_fit_time  std_fit_time  mean_score_time  std_score_time  \\\n",
       "0        0.177862      0.009911         0.008197        0.000629   \n",
       "1        0.607125      0.059196         0.023993        0.003833   \n",
       "2        1.954669      0.290647         0.081658        0.022828   \n",
       "3        0.380382      0.076449         0.012948        0.003268   \n",
       "4        1.001288      0.116075         0.027500        0.003705   \n",
       "5        3.015497      0.371863         0.083226        0.025895   \n",
       "6        0.384592      0.049165         0.008704        0.001980   \n",
       "7        1.539612      0.242108         0.020160        0.001185   \n",
       "8        4.291013      0.373706         0.081143        0.020058   \n",
       "9        0.543045      0.118788         0.009832        0.002463   \n",
       "10       1.614022      0.120710         0.023500        0.003792   \n",
       "11       5.291389      0.678381         0.065648        0.005533   \n",
       "12       0.276222      0.042213         0.010235        0.003541   \n",
       "13       0.947774      0.104310         0.028294        0.005785   \n",
       "14       0.342814      0.019619         0.009290        0.000569   \n",
       "15       1.388189      0.303516         0.032223        0.009022   \n",
       "16       0.535714      0.055027         0.010895        0.004655   \n",
       "17       1.539120      0.153500         0.031450        0.005747   \n",
       "\n",
       "   param_max_features param_n_estimators param_bootstrap  \\\n",
       "0                   2                  3             NaN   \n",
       "1                   2                 10             NaN   \n",
       "2                   2                 30             NaN   \n",
       "3                   4                  3             NaN   \n",
       "4                   4                 10             NaN   \n",
       "5                   4                 30             NaN   \n",
       "6                   6                  3             NaN   \n",
       "7                   6                 10             NaN   \n",
       "8                   6                 30             NaN   \n",
       "9                   8                  3             NaN   \n",
       "10                  8                 10             NaN   \n",
       "11                  8                 30             NaN   \n",
       "12                  2                  3           False   \n",
       "13                  2                 10           False   \n",
       "14                  3                  3           False   \n",
       "15                  3                 10           False   \n",
       "16                  4                  3           False   \n",
       "17                  4                 10           False   \n",
       "\n",
       "                                               params  split0_test_score  \\\n",
       "0              {'max_features': 2, 'n_estimators': 3}      -3.837622e+09   \n",
       "1             {'max_features': 2, 'n_estimators': 10}      -3.047771e+09   \n",
       "2             {'max_features': 2, 'n_estimators': 30}      -2.689185e+09   \n",
       "3              {'max_features': 4, 'n_estimators': 3}      -3.730181e+09   \n",
       "4             {'max_features': 4, 'n_estimators': 10}      -2.666283e+09   \n",
       "5             {'max_features': 4, 'n_estimators': 30}      -2.387153e+09   \n",
       "6              {'max_features': 6, 'n_estimators': 3}      -3.119657e+09   \n",
       "7             {'max_features': 6, 'n_estimators': 10}      -2.549663e+09   \n",
       "8             {'max_features': 6, 'n_estimators': 30}      -2.370010e+09   \n",
       "9              {'max_features': 8, 'n_estimators': 3}      -3.353504e+09   \n",
       "10            {'max_features': 8, 'n_estimators': 10}      -2.571970e+09   \n",
       "11            {'max_features': 8, 'n_estimators': 30}      -2.357390e+09   \n",
       "12  {'bootstrap': False, 'max_features': 2, 'n_est...      -3.785816e+09   \n",
       "13  {'bootstrap': False, 'max_features': 2, 'n_est...      -2.810721e+09   \n",
       "14  {'bootstrap': False, 'max_features': 3, 'n_est...      -3.618324e+09   \n",
       "15  {'bootstrap': False, 'max_features': 3, 'n_est...      -2.757999e+09   \n",
       "16  {'bootstrap': False, 'max_features': 4, 'n_est...      -3.134040e+09   \n",
       "17  {'bootstrap': False, 'max_features': 4, 'n_est...      -2.525578e+09   \n",
       "\n",
       "    split1_test_score  ...  mean_test_score  std_test_score  rank_test_score  \\\n",
       "0       -4.147108e+09  ...    -4.053756e+09    1.519591e+08               18   \n",
       "1       -3.254861e+09  ...    -3.094374e+09    1.327062e+08               11   \n",
       "2       -3.021086e+09  ...    -2.849913e+09    1.626875e+08                9   \n",
       "3       -3.786886e+09  ...    -3.716847e+09    1.631510e+08               16   \n",
       "4       -2.784511e+09  ...    -2.781618e+09    1.268607e+08                8   \n",
       "5       -2.588448e+09  ...    -2.537883e+09    1.214614e+08                3   \n",
       "6       -3.586319e+09  ...    -3.441458e+09    1.893056e+08               14   \n",
       "7       -2.782039e+09  ...    -2.704645e+09    1.471569e+08                6   \n",
       "8       -2.583638e+09  ...    -2.514673e+09    1.285080e+08                2   \n",
       "9       -3.348552e+09  ...    -3.348850e+09    1.241939e+08               13   \n",
       "10      -2.718994e+09  ...    -2.674041e+09    1.392777e+08                5   \n",
       "11      -2.546640e+09  ...    -2.468328e+09    1.091662e+08                1   \n",
       "12      -4.166012e+09  ...    -3.955790e+09    1.900964e+08               17   \n",
       "13      -3.107789e+09  ...    -2.987516e+09    1.539234e+08               10   \n",
       "14      -3.441527e+09  ...    -3.536729e+09    7.795057e+07               15   \n",
       "15      -2.851737e+09  ...    -2.779924e+09    6.286720e+07                7   \n",
       "16      -3.559375e+09  ...    -3.305166e+09    1.879165e+08               12   \n",
       "17      -2.710011e+09  ...    -2.601969e+09    1.088048e+08                4   \n",
       "\n",
       "    split0_train_score  split1_train_score  split2_train_score  \\\n",
       "0        -1.064113e+09       -1.105142e+09       -1.116550e+09   \n",
       "1        -5.927175e+08       -5.870952e+08       -5.776964e+08   \n",
       "2        -4.381089e+08       -4.391272e+08       -4.371702e+08   \n",
       "3        -9.865163e+08       -1.012565e+09       -9.169425e+08   \n",
       "4        -5.097115e+08       -5.162820e+08       -4.962893e+08   \n",
       "5        -3.838835e+08       -3.880268e+08       -3.790867e+08   \n",
       "6        -9.245343e+08       -8.886939e+08       -9.353135e+08   \n",
       "7        -4.980344e+08       -5.045869e+08       -4.994664e+08   \n",
       "8        -3.838538e+08       -3.804711e+08       -3.805218e+08   \n",
       "9        -9.228123e+08       -8.553031e+08       -8.603321e+08   \n",
       "10       -4.932416e+08       -4.815238e+08       -4.730979e+08   \n",
       "11       -3.841658e+08       -3.744500e+08       -3.773239e+08   \n",
       "12       -0.000000e+00       -0.000000e+00       -0.000000e+00   \n",
       "13       -6.056477e-02       -0.000000e+00       -0.000000e+00   \n",
       "14       -0.000000e+00       -0.000000e+00       -0.000000e+00   \n",
       "15       -2.089484e+01       -0.000000e+00       -0.000000e+00   \n",
       "16       -0.000000e+00       -0.000000e+00       -0.000000e+00   \n",
       "17       -0.000000e+00       -1.514119e-02       -0.000000e+00   \n",
       "\n",
       "    split3_train_score  split4_train_score  mean_train_score  std_train_score  \n",
       "0        -1.112342e+09       -1.129650e+09     -1.105559e+09     2.220402e+07  \n",
       "1        -5.716332e+08       -5.802501e+08     -5.818785e+08     7.345821e+06  \n",
       "2        -4.376955e+08       -4.452654e+08     -4.394734e+08     2.966320e+06  \n",
       "3        -1.037400e+09       -9.707739e+08     -9.848396e+08     4.084607e+07  \n",
       "4        -5.436192e+08       -5.160297e+08     -5.163863e+08     1.542862e+07  \n",
       "5        -4.040957e+08       -3.845520e+08     -3.879289e+08     8.571233e+06  \n",
       "6        -9.009801e+08       -8.624664e+08     -9.023976e+08     2.591445e+07  \n",
       "7        -4.990325e+08       -5.055542e+08     -5.013349e+08     3.100456e+06  \n",
       "8        -3.856095e+08       -3.901917e+08     -3.841296e+08     3.617057e+06  \n",
       "9        -8.881964e+08       -9.151287e+08     -8.883545e+08     2.750227e+07  \n",
       "10       -5.155367e+08       -4.985555e+08     -4.923911e+08     1.459294e+07  \n",
       "11       -3.882250e+08       -3.810005e+08     -3.810330e+08     4.871017e+06  \n",
       "12       -0.000000e+00       -0.000000e+00      0.000000e+00     0.000000e+00  \n",
       "13       -0.000000e+00       -2.967449e+00     -6.056027e-01     1.181156e+00  \n",
       "14       -0.000000e+00       -6.072840e+01     -1.214568e+01     2.429136e+01  \n",
       "15       -0.000000e+00       -5.465556e+00     -5.272080e+00     8.093117e+00  \n",
       "16       -0.000000e+00       -0.000000e+00      0.000000e+00     0.000000e+00  \n",
       "17       -0.000000e+00       -0.000000e+00     -3.028238e-03     6.056477e-03  \n",
       "\n",
       "[18 rows x 23 columns]"
      ]
     },
     "execution_count": 56,
     "metadata": {},
     "output_type": "execute_result"
    }
   ],
   "source": [
    "pd.DataFrame(grid_search.cv_results_)"
   ]
  },
  {
   "cell_type": "code",
   "execution_count": 57,
   "metadata": {},
   "outputs": [
    {
     "data": {
      "text/plain": [
       "RandomizedSearchCV(cv=5, error_score=nan,\n",
       "                   estimator=RandomForestRegressor(bootstrap=True,\n",
       "                                                   ccp_alpha=0.0,\n",
       "                                                   criterion='mse',\n",
       "                                                   max_depth=None,\n",
       "                                                   max_features='auto',\n",
       "                                                   max_leaf_nodes=None,\n",
       "                                                   max_samples=None,\n",
       "                                                   min_impurity_decrease=0.0,\n",
       "                                                   min_impurity_split=None,\n",
       "                                                   min_samples_leaf=1,\n",
       "                                                   min_samples_split=2,\n",
       "                                                   min_weight_fraction_leaf=0.0,\n",
       "                                                   n_estimators=100,\n",
       "                                                   n_jobs=None, oob_score=Fals...\n",
       "                   iid='deprecated', n_iter=10, n_jobs=None,\n",
       "                   param_distributions={'max_features': <scipy.stats._distn_infrastructure.rv_frozen object at 0x000001BD2E44E748>,\n",
       "                                        'n_estimators': <scipy.stats._distn_infrastructure.rv_frozen object at 0x000001BD2FA61588>},\n",
       "                   pre_dispatch='2*n_jobs', random_state=42, refit=True,\n",
       "                   return_train_score=False, scoring='neg_mean_squared_error',\n",
       "                   verbose=0)"
      ]
     },
     "execution_count": 57,
     "metadata": {},
     "output_type": "execute_result"
    }
   ],
   "source": [
    "from sklearn.model_selection import RandomizedSearchCV\n",
    "from scipy.stats import randint\n",
    "\n",
    "param_distribs = {\n",
    "        'n_estimators': randint(low=1, high=200),\n",
    "        'max_features': randint(low=1, high=8),\n",
    "    }\n",
    "\n",
    "forest_reg = RandomForestRegressor(random_state=42)\n",
    "rnd_search = RandomizedSearchCV(forest_reg, param_distributions=param_distribs,\n",
    "                                n_iter=10, cv=5, scoring='neg_mean_squared_error', random_state=42)\n",
    "rnd_search.fit(housing_prepared, housing_labels)"
   ]
  },
  {
   "cell_type": "code",
   "execution_count": 59,
   "metadata": {},
   "outputs": [
    {
     "name": "stdout",
     "output_type": "stream",
     "text": [
      "49150.70756927707 {'max_features': 7, 'n_estimators': 180}\n",
      "51389.889203389284 {'max_features': 5, 'n_estimators': 15}\n",
      "50796.155224308866 {'max_features': 3, 'n_estimators': 72}\n",
      "50835.13360315349 {'max_features': 5, 'n_estimators': 21}\n",
      "49280.9449827171 {'max_features': 7, 'n_estimators': 122}\n",
      "50774.90662363929 {'max_features': 3, 'n_estimators': 75}\n",
      "50682.78888164288 {'max_features': 3, 'n_estimators': 88}\n",
      "49608.99608105296 {'max_features': 5, 'n_estimators': 100}\n",
      "50473.61930350219 {'max_features': 3, 'n_estimators': 150}\n",
      "64429.84143294435 {'max_features': 5, 'n_estimators': 2}\n"
     ]
    }
   ],
   "source": [
    "cvres = rnd_search.cv_results_\n",
    "for mean_score, params in zip(cvres[\"mean_test_score\"], cvres[\"params\"]):\n",
    "    print(np.sqrt(-mean_score), params)"
   ]
  },
  {
   "cell_type": "code",
   "execution_count": 63,
   "metadata": {},
   "outputs": [
    {
     "data": {
      "text/plain": [
       "array([7.33442355e-02, 6.29090705e-02, 4.11437985e-02, 1.46726854e-02,\n",
       "       1.41064835e-02, 1.48742809e-02, 1.42575993e-02, 3.66158981e-01,\n",
       "       5.64191792e-02, 1.08792957e-01, 5.33510773e-02, 1.03114883e-02,\n",
       "       1.64780994e-01, 6.02803867e-05, 1.96041560e-03, 2.85647464e-03])"
      ]
     },
     "execution_count": 63,
     "metadata": {},
     "output_type": "execute_result"
    }
   ],
   "source": [
    "feature_importances = grid_search.best_estimator_.feature_importances_\n",
    "feature_importances"
   ]
  },
  {
   "cell_type": "code",
   "execution_count": 64,
   "metadata": {},
   "outputs": [
    {
     "data": {
      "text/plain": [
       "[(0.36615898061813423, 'median_income'),\n",
       " (0.16478099356159054, 'INLAND'),\n",
       " (0.10879295677551575, 'pop_per_hhold'),\n",
       " (0.07334423551601243, 'longitude'),\n",
       " (0.06290907048262032, 'latitude'),\n",
       " (0.056419179181954014, 'rooms_per_hhold'),\n",
       " (0.053351077347675815, 'bedrooms_per_room'),\n",
       " (0.04114379847872964, 'housing_median_age'),\n",
       " (0.014874280890402769, 'population'),\n",
       " (0.014672685420543239, 'total_rooms'),\n",
       " (0.014257599323407808, 'households'),\n",
       " (0.014106483453584104, 'total_bedrooms'),\n",
       " (0.010311488326303788, '<1H OCEAN'),\n",
       " (0.0028564746373201584, 'NEAR OCEAN'),\n",
       " (0.0019604155994780706, 'NEAR BAY'),\n",
       " (6.0280386727366e-05, 'ISLAND')]"
      ]
     },
     "execution_count": 64,
     "metadata": {},
     "output_type": "execute_result"
    }
   ],
   "source": [
    "extra_attribs = [\"rooms_per_hhold\", \"pop_per_hhold\", \"bedrooms_per_room\"]\n",
    "#cat_encoder = cat_pipeline.named_steps[\"cat_encoder\"] # 예전 방식\n",
    "cat_encoder = full_pipeline.named_transformers_[\"cat\"]\n",
    "cat_one_hot_attribs = list(cat_encoder.categories_[0])\n",
    "attributes = num_attribs + extra_attribs + cat_one_hot_attribs\n",
    "sorted(zip(feature_importances, attributes), reverse=True)\n"
   ]
  },
  {
   "cell_type": "code",
   "execution_count": 65,
   "metadata": {},
   "outputs": [],
   "source": [
    "#테스트 세트로 시스템(최종 모델)을 평가하기!!!\n",
    "final_model = grid_search.best_estimator_\n",
    "\n",
    "X_test = strat_test_set.drop('median_house_value', axis=1)\n",
    "y_test = strat_test_set['median_house_value'].copy()\n",
    "\n",
    "X_test_prepared = full_pipeline.transform(X_test)\n",
    "\n",
    "final_prediction = final_model.predict(X_test_prepared)\n",
    "\n",
    "\n"
   ]
  },
  {
   "cell_type": "code",
   "execution_count": 66,
   "metadata": {},
   "outputs": [],
   "source": [
    "final_mse = mean_squared_error(y_test, final_prediction)"
   ]
  },
  {
   "cell_type": "code",
   "execution_count": 67,
   "metadata": {},
   "outputs": [
    {
     "data": {
      "text/plain": [
       "47730.22690385927"
      ]
     },
     "execution_count": 67,
     "metadata": {},
     "output_type": "execute_result"
    }
   ],
   "source": [
    "np.sqrt(final_mse)"
   ]
  },
  {
   "cell_type": "code",
   "execution_count": null,
   "metadata": {},
   "outputs": [],
   "source": []
  }
 ],
 "metadata": {
  "kernelspec": {
   "display_name": "Python 3",
   "language": "python",
   "name": "python3"
  },
  "language_info": {
   "codemirror_mode": {
    "name": "ipython",
    "version": 3
   },
   "file_extension": ".py",
   "mimetype": "text/x-python",
   "name": "python",
   "nbconvert_exporter": "python",
   "pygments_lexer": "ipython3",
   "version": "3.7.6"
  }
 },
 "nbformat": 4,
 "nbformat_minor": 4
}
